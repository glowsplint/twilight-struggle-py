{
 "cells": [
  {
   "cell_type": "markdown",
   "metadata": {},
   "source": [
    "### Twilight Struggle"
   ]
  },
  {
   "cell_type": "code",
   "execution_count": 1,
   "metadata": {
    "ExecuteTime": {
     "end_time": "2020-02-03T01:19:25.044725Z",
     "start_time": "2020-02-03T01:19:24.408439Z"
    }
   },
   "outputs": [],
   "source": [
    "import pandas as pd\n",
    "import numpy as np\n",
    "import random\n",
    "from twilight_map import *\n",
    "from twilight_cards import *\n",
    "from scoring_functionality import *"
   ]
  },
  {
   "cell_type": "markdown",
   "metadata": {},
   "source": [
    "### Create cards, hand, discard pile, draw pile, removed pile"
   ]
  },
  {
   "cell_type": "code",
   "execution_count": 2,
   "metadata": {
    "ExecuteTime": {
     "end_time": "2020-02-03T01:19:26.567087Z",
     "start_time": "2020-02-03T01:19:26.561147Z"
    }
   },
   "outputs": [],
   "source": [
    "class card:\n",
    "    '''\n",
    "    Cards should be able to be used for:\n",
    "    1. Event\n",
    "    2. Realignment\n",
    "    3. Coup\n",
    "    4. Placing influence\n",
    "    5. Space race\n",
    "    6. Trigger event first >> realignment/coup/influence\n",
    "    '''\n",
    "    def __init__(self, card_number, **kwargs):\n",
    "        self.card_number = card_number\n",
    "        for key, value in kwargs.items():\n",
    "            setattr(self, key, value)\n",
    "    \n",
    "    def __repr__(self):\n",
    "        sb = []\n",
    "        for key in self.__dict__:\n",
    "            sb.append(\"{key}='{value}'\".format(key=key, value=self.__dict__[key]))\n",
    "        return ', '.join(sb)"
   ]
  },
  {
   "cell_type": "markdown",
   "metadata": {},
   "source": [
    "Let's create cards by index 1-110. Early war: 1-35, 103-106. Mid war: 36-81, 107-108. Late war: 82-102, 109-110. China card is card(6)."
   ]
  },
  {
   "cell_type": "code",
   "execution_count": 3,
   "metadata": {
    "ExecuteTime": {
     "end_time": "2020-02-03T01:19:29.416347Z",
     "start_time": "2020-02-03T01:19:29.407348Z"
    }
   },
   "outputs": [],
   "source": [
    "all_cards = [card(i+1) for i in range(110)]\n",
    "early_war_indices = [i+1 for i in range(35)]\n",
    "early_war_indices.extend([i+1 for i in range(103-1,106)])\n",
    "mid_war_indices = [i+1 for i in range(36-1,81)]\n",
    "mid_war_indices.extend([i+1 for i in range(107-1,108)])\n",
    "late_war_indices = [i+1 for i in range(82-1,102)]\n",
    "late_war_indices.extend([i+1 for i in range(109-1,110)])"
   ]
  },
  {
   "cell_type": "code",
   "execution_count": 4,
   "metadata": {
    "ExecuteTime": {
     "end_time": "2020-02-03T01:19:29.695515Z",
     "start_time": "2020-02-03T01:19:29.691555Z"
    },
    "scrolled": true
   },
   "outputs": [],
   "source": [
    "early_war_cards = [card(i) for i in early_war_indices]\n",
    "mid_war_cards = [card(i) for i in mid_war_indices]\n",
    "late_war_cards = [card(i) for i in late_war_indices]"
   ]
  },
  {
   "cell_type": "code",
   "execution_count": 5,
   "metadata": {
    "ExecuteTime": {
     "end_time": "2020-02-03T01:19:30.031237Z",
     "start_time": "2020-02-03T01:19:30.027233Z"
    }
   },
   "outputs": [],
   "source": [
    "us_hand = []\n",
    "ussr_hand = []"
   ]
  },
  {
   "cell_type": "markdown",
   "metadata": {},
   "source": [
    "### Setup"
   ]
  },
  {
   "cell_type": "code",
   "execution_count": 6,
   "metadata": {
    "ExecuteTime": {
     "end_time": "2020-02-03T01:19:31.213339Z",
     "start_time": "2020-02-03T01:19:31.198340Z"
    }
   },
   "outputs": [],
   "source": [
    "Arab_Israeli_War = card(**Arab_Israeli_War)\n",
    "Asia_Scoring = card(**Asia_Scoring)\n",
    "Blockade = card(**Blockade)\n",
    "CIA_Created = card(**CIA_Created)\n",
    "COMECON = card(**COMECON)\n",
    "Captured_Nazi_Scientist = card(**Captured_Nazi_Scientist)\n",
    "Containment = card(**Containment)\n",
    "De_Gaulle_Leads_France = card(**De_Gaulle_Leads_France)\n",
    "De_Stalinization = card(**De_Stalinization)\n",
    "Decolonization = card(**Decolonization)\n",
    "Defectors = card(**Defectors)\n",
    "Duck_and_Cover = card(**Duck_and_Cover)\n",
    "East_European_Unrest = card(**East_European_Unrest)\n",
    "Europe_Scoring = card(**Europe_Scoring)\n",
    "Fidel = card(**Fidel)\n",
    "Five_Year_Plan = card(**Five_Year_Plan)\n",
    "Formosan_Resolution = card(**Formosan_Resolution)\n",
    "Independent_Reds = card(**Independent_Reds)\n",
    "Indo_Pakistani_War = card(**Indo_Pakistani_War)\n",
    "Korean_War = card(**Korean_War)\n",
    "Marshall_Plan = card(**Marshall_Plan)\n",
    "Middle_East_Scoring = card(**Middle_East_Scoring)\n",
    "NATO = card(**NATO)\n",
    "NORAD = card(**NORAD)\n",
    "Nasser = card(**Nasser)\n",
    "Nuclear_Test_Ban = card(**Nuclear_Test_Ban)\n",
    "Olympic_Games = card(**Olympic_Games)\n",
    "Red_Scare_Purge = card(**Red_Scare_Purge)\n",
    "Romanian_Abdication = card(**Romanian_Abdication)\n",
    "Socialist_Governments = card(**Socialist_Governments)\n",
    "Special_Relationship = card(**Special_Relationship)\n",
    "Suez_Crisis = card(**Suez_Crisis)\n",
    "The_Cambridge_Five = card(**The_Cambridge_Five)\n",
    "The_China_Card = card(**The_China_Card)\n",
    "Truman_Doctrine = card(**Truman_Doctrine)\n",
    "UN_Intervention = card(**UN_Intervention)\n",
    "US_Japan_Mutual_Defense_Pact = card(**US_Japan_Mutual_Defense_Pact)\n",
    "Vietnam_Revolts = card(**Vietnam_Revolts)\n",
    "Warsaw_Pact_Formed = card(**Warsaw_Pact_Formed)"
   ]
  },
  {
   "cell_type": "code",
   "execution_count": 7,
   "metadata": {
    "ExecuteTime": {
     "end_time": "2020-02-03T01:19:31.970424Z",
     "start_time": "2020-02-03T01:19:31.965424Z"
    }
   },
   "outputs": [],
   "source": [
    "'''\n",
    "Remove the China card from the early war pile. Shuffle the early war pile.\n",
    "Distribute the cards to players. Each player receives 8 cards each.\n",
    "'''\n",
    "ussr_hand.append(early_war_cards.pop(5))\n",
    "random.shuffle(early_war_cards)\n",
    "ussr_hand.extend([early_war_cards.pop() for i in range(8)])\n",
    "us_hand.extend([early_war_cards.pop() for i in range(8)])"
   ]
  },
  {
   "cell_type": "code",
   "execution_count": 8,
   "metadata": {
    "ExecuteTime": {
     "end_time": "2020-02-03T01:19:32.679048Z",
     "start_time": "2020-02-03T01:19:32.667053Z"
    }
   },
   "outputs": [
    {
     "data": {
      "text/plain": [
       "[card_number='6',\n",
       " card_number='22',\n",
       " card_number='21',\n",
       " card_number='12',\n",
       " card_number='33',\n",
       " card_number='31',\n",
       " card_number='13',\n",
       " card_number='34',\n",
       " card_number='5']"
      ]
     },
     "execution_count": 8,
     "metadata": {},
     "output_type": "execute_result"
    }
   ],
   "source": [
    "ussr_hand"
   ]
  },
  {
   "cell_type": "code",
   "execution_count": 9,
   "metadata": {
    "ExecuteTime": {
     "end_time": "2020-02-03T01:20:01.306364Z",
     "start_time": "2020-02-03T01:20:01.301363Z"
    }
   },
   "outputs": [
    {
     "data": {
      "text/plain": [
       "[card_number='27',\n",
       " card_number='28',\n",
       " card_number='11',\n",
       " card_number='35',\n",
       " card_number='25',\n",
       " card_number='19',\n",
       " card_number='24',\n",
       " card_number='16',\n",
       " card_number='104',\n",
       " card_number='7',\n",
       " card_number='15',\n",
       " card_number='23',\n",
       " card_number='10',\n",
       " card_number='2',\n",
       " card_number='18',\n",
       " card_number='8',\n",
       " card_number='20',\n",
       " card_number='4',\n",
       " card_number='29',\n",
       " card_number='26',\n",
       " card_number='32',\n",
       " card_number='103']"
      ]
     },
     "execution_count": 9,
     "metadata": {},
     "output_type": "execute_result"
    }
   ],
   "source": [
    "early_war_cards"
   ]
  },
  {
   "cell_type": "code",
   "execution_count": null,
   "metadata": {
    "ExecuteTime": {
     "end_time": "2020-02-01T05:48:39.696559Z",
     "start_time": "2020-02-01T05:48:39.691549Z"
    }
   },
   "outputs": [],
   "source": [
    "late_war_cards"
   ]
  },
  {
   "cell_type": "markdown",
   "metadata": {},
   "source": [
    "### Tracks"
   ]
  },
  {
   "cell_type": "code",
   "execution_count": null,
   "metadata": {},
   "outputs": [],
   "source": [
    "vp_track = 0 # positive for ussr\n",
    "turn_track = 1\n",
    "ar_track = 1 # increment by 0.5 for each side's action round\n",
    "defcon_track = 5\n",
    "milops_track = [0, 0] # ussr first\n",
    "space_track = [0, 0] # 0 is start, 1 is earth satellite etc"
   ]
  },
  {
   "cell_type": "code",
   "execution_count": null,
   "metadata": {},
   "outputs": [],
   "source": [
    "# to add game terminate functionality EndGame()\n",
    "def change_vp(n): # positive for ussr\n",
    "    global vp_track\n",
    "    vp_track += n\n",
    "    if vp_track >= 20:\n",
    "        print('USSR victory')\n",
    "        # EndGame()\n",
    "    if vp_track <= -20:\n",
    "        print('US victory')\n",
    "        # EndGame()\n",
    "\n",
    "def change_defcon(n):\n",
    "    global defcon_track\n",
    "    defcon_track += min(n, 5 - defcon_track)\n",
    "    if defcon_track < 2:\n",
    "        print('Game ended by thermonuclear war')\n",
    "        # EndGame()\n",
    "    "
   ]
  },
  {
   "cell_type": "markdown",
   "metadata": {},
   "source": [
    "### Create the turn order\n",
    "1. Increase DEFCON status\n",
    "2. Deal Cards\n",
    "3. Headline Phase\n",
    "4. Action Rounds (advance round marker)\n",
    "5. Check milops\n",
    "6. Check for held scoring card\n",
    "7. Flip China Card\n",
    "8. Advance turn marker\n",
    "9. Final scoring (end T10)"
   ]
  },
  {
   "cell_type": "code",
   "execution_count": null,
   "metadata": {},
   "outputs": [],
   "source": []
  },
  {
   "cell_type": "markdown",
   "metadata": {},
   "source": [
    "### Create space race track\n",
    "1. Create the buffs\n",
    "2. Need to add the additional functionality gained with being faster on the space race."
   ]
  },
  {
   "cell_type": "code",
   "execution_count": null,
   "metadata": {
    "ExecuteTime": {
     "end_time": "2020-01-31T15:17:31.957041Z",
     "start_time": "2020-01-31T15:17:31.937070Z"
    }
   },
   "outputs": [],
   "source": [
    "# SPACE (function)\n",
    "def space(side):\n",
    "    x = 0\n",
    "    if side == 'us':\n",
    "        x = 1\n",
    "        \n",
    "    if space_track[x] in [0,2,4,6]:\n",
    "        modifier = 0\n",
    "    elif space_track[x] in [1,3,5]:\n",
    "        modifier = -1\n",
    "    else:\n",
    "        modifier = 1\n",
    "    \n",
    "    y = 1 - 2*x # multiplier for VPs - gives 1 for USSR and -1 for US\n",
    "    roll = np.random.randint(6) + 1\n",
    "    if roll + modifier <= 3:\n",
    "        space_track[x] += 1\n",
    "        print(f'Success with roll of {roll}.')\n",
    "        \n",
    "        if space_track[x] == 1:\n",
    "            if space_track[1-x] < 1:\n",
    "                change_vp(2*y)\n",
    "            else:\n",
    "                change_vp(y)\n",
    "        \n",
    "        elif space_track[x] == 3:\n",
    "            if space_track[1-x] < 3:\n",
    "                change_vp(2*y)\n",
    "            \n",
    "        elif space_track[x] == 5:\n",
    "            if space_track[1-x] < 5:\n",
    "                change_vp(3*y)\n",
    "            else:\n",
    "                change_vp(y)\n",
    "                \n",
    "        elif space_track[x] == 7:\n",
    "            if space_track[1-x] < 7:\n",
    "                change_vp(4*y)\n",
    "            else:\n",
    "                change_vp(2*y)\n",
    "                \n",
    "        elif space_track[x] == 8:\n",
    "            if space_track[1-x] < 8:\n",
    "                change_vp(2*y)\n",
    "    \n",
    "    else:\n",
    "        print(f'Failure with roll of {roll}.')"
   ]
  }
 ],
 "metadata": {
  "kernelspec": {
   "display_name": "Python 3",
   "language": "python",
   "name": "python3"
  },
  "language_info": {
   "codemirror_mode": {
    "name": "ipython",
    "version": 3
   },
   "file_extension": ".py",
   "mimetype": "text/x-python",
   "name": "python",
   "nbconvert_exporter": "python",
   "pygments_lexer": "ipython3",
   "version": "3.6.9"
  }
 },
 "nbformat": 4,
 "nbformat_minor": 2
}
