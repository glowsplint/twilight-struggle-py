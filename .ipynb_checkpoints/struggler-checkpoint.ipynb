{
 "cells": [
  {
   "cell_type": "markdown",
   "metadata": {},
   "source": [
    "### Twilight Struggle"
   ]
  },
  {
   "cell_type": "code",
   "execution_count": 1,
   "metadata": {
    "ExecuteTime": {
     "end_time": "2020-02-06T00:53:08.673449Z",
     "start_time": "2020-02-06T00:53:08.478433Z"
    }
   },
   "outputs": [],
   "source": [
    "import numpy as np\n",
    "import random\n",
    "\n",
    "from twilight_map import *\n",
    "from game_mechanics import *\n",
    "from twilight_cards import *"
   ]
  },
  {
   "cell_type": "markdown",
   "metadata": {},
   "source": [
    "Moved all country information into the twilight_cards.py file."
   ]
  },
  {
   "cell_type": "code",
   "execution_count": 2,
   "metadata": {
    "ExecuteTime": {
     "end_time": "2020-02-06T00:53:08.692430Z",
     "start_time": "2020-02-06T00:53:08.675429Z"
    }
   },
   "outputs": [],
   "source": [
    "class Card:\n",
    "    \"\"\"\n",
    "    Cards should be able to be used for:\n",
    "    1. Event\n",
    "    2. Realignment\n",
    "    3. Coup\n",
    "    4. Placing influence\n",
    "    5. Space race\n",
    "    6. Trigger event first >> realignment/coup/influence\n",
    "    \"\"\"\n",
    "\n",
    "    ALL = dict()\n",
    "    Early_War, Mid_War, Late_War = dict(), dict, dict()\n",
    "\n",
    "    def __init__(self, card_name=\"\", card_type=\"\", stage=\"\", card_number=0,\n",
    "                 optional_card=False,\n",
    "                 operations_points=0,\n",
    "                 event_text=\"\", event_effects=None,\n",
    "                 scoring_region=\"\", may_be_held=True,\n",
    "                 event_owner=\"NEUTRAL\",\n",
    "                 triggered_effects=\"\",\n",
    "                 continuous_effects=\"\",\n",
    "                 global_continuous_effects=\"\",\n",
    "                 usage_conditions=\"\",\n",
    "                 remove_if_used_as_event=False,\n",
    "                 resolve_headline_first=False,\n",
    "                 can_headline_card=True,\n",
    "                 **kwargs):\n",
    "        self.name = card_name\n",
    "        self.type = card_type\n",
    "        self.stage = stage\n",
    "        self.index = card_number\n",
    "        self.ops = operations_points\n",
    "        self.text = event_text\n",
    "        self.owner = Side[event_owner]\n",
    "        self.optional = optional_card\n",
    "\n",
    "        self.event_effects = event_effects\n",
    "        self.triggered_effects = triggered_effects\n",
    "        self.continuous_effects = continuous_effects\n",
    "        self.global_continuous_effects = global_continuous_effects\n",
    "        self.event_unique = remove_if_used_as_event\n",
    "        self.scoring_region = scoring_region\n",
    "        self.may_be_held = may_be_held\n",
    "        self.usage_conditions = usage_conditions\n",
    "        self.resolve_headline_first = resolve_headline_first\n",
    "        self.can_headline_card = can_headline_card\n",
    "\n",
    "        for key, value in kwargs.items():\n",
    "            print(key, value)\n",
    "            setattr(self, key, value)\n",
    "        Card.ALL[self.name] = self\n",
    "        if self.stage == 'Early War':\n",
    "            Card.Early_War[self.name] = self\n",
    "#         if self.stage == 'Mid War':\n",
    "#             Card.Mid_War[card_name] = self\n",
    "#         if self.stage == 'Late War':\n",
    "#             Card.Late_War[card_name] = self\n",
    "    \n",
    "    def __repr__(self):\n",
    "#         sb = []\n",
    "#         for key in self.__dict__:\n",
    "#             sb.append(\"{key}='{value}'\".format(key=key, value=self.__dict__[key]))\n",
    "#         return ', '.join(sb)\n",
    "        if hasattr(self, 'ops'):\n",
    "            return f'{self.name} - {self.ops}'\n",
    "        else:\n",
    "            return self.name\n",
    "    \n",
    "    def trigger_event_first(self):\n",
    "        # only possible if opponent event\n",
    "        # self.use_for_event()\n",
    "        # do something else\n",
    "        pass\n",
    "    \n",
    "    def use_for_influence(self):\n",
    "        pass\n",
    "    \n",
    "    def use_for_space_race(self):\n",
    "        pass\n",
    "    \n",
    "    def use_for_event(self):\n",
    "        for event in self.event_effects:\n",
    "            event[0](event[1])\n",
    "        if hasattr(self, 'remove_if_used_as_event'):\n",
    "            if self.remove_if_used_as_event:\n",
    "            # to add functionality for remove cards from hand and into removed pile\n",
    "                pass\n",
    "    \n",
    "    def use_for_coup(self):\n",
    "        pass\n",
    "    \n",
    "    def use_for_realignment(self):\n",
    "        pass\n",
    "    \n",
    "    def possible_actions(self):\n",
    "        pass\n"
   ]
  },
  {
   "cell_type": "markdown",
   "metadata": {},
   "source": [
    "Let's create cards by index 1-110. Early war: 1-35, 103-106. Mid war: 36-81, 107-108. Late war: 82-102, 109-110. China card is card(6)."
   ]
  },
  {
   "cell_type": "markdown",
   "metadata": {},
   "source": [
    "### Setup"
   ]
  },
  {
   "cell_type": "code",
   "execution_count": 3,
   "metadata": {
    "ExecuteTime": {
     "end_time": "2020-02-06T00:53:08.708435Z",
     "start_time": "2020-02-06T00:53:08.695430Z"
    }
   },
   "outputs": [],
   "source": [
    "Arab_Israeli_War = Card(**Arab_Israeli_War)\n",
    "Asia_Scoring = Card(**Asia_Scoring)\n",
    "Blockade = Card(**Blockade)\n",
    "CIA_Created = Card(**CIA_Created)\n",
    "COMECON = Card(**COMECON)\n",
    "Captured_Nazi_Scientist = Card(**Captured_Nazi_Scientist)\n",
    "Containment = Card(**Containment)\n",
    "De_Gaulle_Leads_France = Card(**De_Gaulle_Leads_France)\n",
    "De_Stalinization = Card(**De_Stalinization)\n",
    "Decolonization = Card(**Decolonization)\n",
    "Defectors = Card(**Defectors)\n",
    "Duck_and_Cover = Card(**Duck_and_Cover)\n",
    "East_European_Unrest = Card(**East_European_Unrest)\n",
    "Europe_Scoring = Card(**Europe_Scoring)\n",
    "Fidel = Card(**Fidel)\n",
    "Five_Year_Plan = Card(**Five_Year_Plan)\n",
    "Formosan_Resolution = Card(**Formosan_Resolution)\n",
    "Independent_Reds = Card(**Independent_Reds)\n",
    "Indo_Pakistani_War = Card(**Indo_Pakistani_War)\n",
    "Korean_War = Card(**Korean_War)\n",
    "Marshall_Plan = Card(**Marshall_Plan)\n",
    "Middle_East_Scoring = Card(**Middle_East_Scoring)\n",
    "NATO = Card(**NATO)\n",
    "NORAD = Card(**NORAD)\n",
    "Nasser = Card(**Nasser)\n",
    "Nuclear_Test_Ban = Card(**Nuclear_Test_Ban)\n",
    "Olympic_Games = Card(**Olympic_Games)\n",
    "Red_Scare_Purge = Card(**Red_Scare_Purge)\n",
    "Romanian_Abdication = Card(**Romanian_Abdication)\n",
    "Socialist_Governments = Card(**Socialist_Governments)\n",
    "Special_Relationship = Card(**Special_Relationship)\n",
    "Suez_Crisis = Card(**Suez_Crisis)\n",
    "The_Cambridge_Five = Card(**The_Cambridge_Five)\n",
    "The_China_Card = Card(**The_China_Card)\n",
    "Truman_Doctrine = Card(**Truman_Doctrine)\n",
    "UN_Intervention = Card(**UN_Intervention)\n",
    "US_Japan_Mutual_Defense_Pact = Card(**US_Japan_Mutual_Defense_Pact)\n",
    "Vietnam_Revolts = Card(**Vietnam_Revolts)\n",
    "Warsaw_Pact_Formed = Card(**Warsaw_Pact_Formed)"
   ]
  },
  {
   "cell_type": "code",
   "execution_count": 4,
   "metadata": {
    "ExecuteTime": {
     "end_time": "2020-02-06T00:53:08.716431Z",
     "start_time": "2020-02-06T00:53:08.711432Z"
    }
   },
   "outputs": [],
   "source": [
    "us_hand = []\n",
    "ussr_hand = []\n",
    "removed_pile = []\n",
    "discard_pile = []\n",
    "draw_pile = []"
   ]
  },
  {
   "cell_type": "code",
   "execution_count": 5,
   "metadata": {
    "ExecuteTime": {
     "end_time": "2020-02-06T00:53:08.730433Z",
     "start_time": "2020-02-06T00:53:08.720433Z"
    }
   },
   "outputs": [],
   "source": [
    "'''Pre-headline setup'''\n",
    "ussr_hand.append(Card.Early_War.pop('The_China_Card')) # Move the China card from the early war pile to USSR hand\n",
    "draw_pile.extend(Card.Early_War.values()) # Put early war cards into the draw pile\n",
    "random.shuffle(draw_pile) # Shuffle the draw pile\n",
    "ussr_hand.extend([draw_pile.pop() for i in range(8)])\n",
    "us_hand.extend([draw_pile.pop() for i in range(8)])"
   ]
  },
  {
   "cell_type": "code",
   "execution_count": 6,
   "metadata": {
    "ExecuteTime": {
     "end_time": "2020-02-06T00:53:08.752432Z",
     "start_time": "2020-02-06T00:53:08.733437Z"
    },
    "scrolled": false
   },
   "outputs": [
    {
     "data": {
      "text/plain": [
       "[Warsaw_Pact_Formed - 3,\n",
       " US_Japan_Mutual_Defense_Pact - 4,\n",
       " Indo_Pakistani_War - 2,\n",
       " Olympic_Games - 2,\n",
       " The_Cambridge_Five - 2,\n",
       " Decolonization - 2,\n",
       " Red_Scare_Purge - 4,\n",
       " Special_Relationship - 2,\n",
       " Arab_Israeli_War - 2,\n",
       " Europe_Scoring - 0,\n",
       " Vietnam_Revolts - 2,\n",
       " Containment - 3,\n",
       " COMECON - 3,\n",
       " Korean_War - 2,\n",
       " Defectors - 2,\n",
       " Truman_Doctrine - 1,\n",
       " Independent_Reds - 2,\n",
       " Middle_East_Scoring - 0,\n",
       " Asia_Scoring - 0,\n",
       " NORAD - 3,\n",
       " UN_Intervention - 1,\n",
       " East_European_Unrest - 3]"
      ]
     },
     "execution_count": 6,
     "metadata": {},
     "output_type": "execute_result"
    }
   ],
   "source": [
    "draw_pile"
   ]
  },
  {
   "cell_type": "code",
   "execution_count": 7,
   "metadata": {
    "ExecuteTime": {
     "end_time": "2020-02-06T00:53:08.778431Z",
     "start_time": "2020-02-06T00:53:08.755432Z"
    }
   },
   "outputs": [],
   "source": [
    "class UI:\n",
    "\n",
    "    help = \"\"\"\n",
    "The following commands are available:\n",
    "?           Displays this help text.\n",
    "m           Lists all possible moves, along with their respective IDs.\n",
    "m <ID>      Makes a move.\n",
    "m commit    Commits all moves made.\n",
    "s           Displays the overall game state.\n",
    "s ?         Shows help on game state queries.\n",
    "c ?         Shows help on card information queries.\n",
    "\n",
    "new         Start a new game.\n",
    "quit        Exit the game.\n",
    "\"\"\"\n",
    "\n",
    "    @staticmethod\n",
    "    def run():\n",
    "    \n",
    "        while True:\n",
    "            # get user input\n",
    "            user_choice = input(\"> \").split(\" \", 1)\n",
    "            \n",
    "            if len(user_choice) == 1: user_choice.append(\"\")\n",
    "            \n",
    "            # parse the input\n",
    "            if len(user_choice) == 0 or user_choice[0] == \"?\":\n",
    "                print(UI.help)\n",
    "                \n",
    "            elif user_choice[0] == \"quit\" or user_choice[0] == \"exit\":\n",
    "                break;\n",
    "                \n",
    "            elif user_choice[0] == \"new\":\n",
    "                print(\"Uninplemented\")\n",
    "            \n",
    "            elif user_choice[0] == \"c\":\n",
    "                UI.parse_card(user_choice[1])\n",
    "            \n",
    "            elif user_choice[0] == \"s\":\n",
    "                UI.parse_state(user_choice[1])\n",
    "            \n",
    "            elif user_choice[0] == \"m\":\n",
    "                UI.parse_move(user_choice[1])\n",
    "                \n",
    "            else:\n",
    "                print(\"Invalid command. Enter ? for help.\")\n",
    "\n",
    "    @staticmethod\n",
    "    def parse_move(comd):\n",
    "        \n",
    "        if comd == \"\":\n",
    "            print(\"Listing all moves.\")\n",
    "            print(\"Unimplemented\")\n",
    "            # Here you want to call some function to get all possible moves.\n",
    "            # Each move should be deterministically assigned an ID (so it \n",
    "            # can be referenced later).\n",
    "        elif comd == \"commit\":\n",
    "            print(\"Game state advancing.\")\n",
    "            # this is where you tell the game engine to lock in the currently\n",
    "            # selected move.\n",
    "            print(\"Unimplemented\")\n",
    "        else:\n",
    "            print(\"Making move ID %s\" % comd)\n",
    "            # check moves to find the corresponding ID. If it's not found print\n",
    "            # an error message.\n",
    "            # Then, tell the game engine to make a temp move.\n",
    "            # or for now, we can just actually make the move with no takeback\n",
    "            # which means the commit command won't do anything.\n",
    "            print(\"Unimplemented\")\n",
    "                     \n",
    "    help_card = \"\"\"\n",
    "c           Display a list of cards in the current player's hand.\n",
    "c <ID#>     Display information about the card with the given ID number.\n",
    "c dis       Display a list of cards in the discard pile\n",
    "c rem       Display a list of removed cards.\n",
    "c dec       Returns the number of cards in the draw deck.\n",
    "\"\"\"\n",
    "    @staticmethod\n",
    "    def parse_card(comd):\n",
    "    \n",
    "        if comd == \"\":\n",
    "            print(\"Listing cards in hand.\")\n",
    "            print(\"Unimplemented\")\n",
    "        elif comd == \"?\":\n",
    "            print(UI.help_card)\n",
    "        elif comd == \"opp\":\n",
    "            print(\"Cards in opponent's hand: %d\" % 1) # TODO make it based on state\n",
    "            print(\"Unimplemented\")\n",
    "        elif comd == \"dis\":\n",
    "            print(\"Listing %d discarded cards.\" % len(discard_pile))\n",
    "            for c in discard_pile:\n",
    "                print(c)\n",
    "        elif comd == \"rem\":\n",
    "            print(\"Listing %d removed cards.\"  % len(removed_pile))\n",
    "            for c in removed_pile:\n",
    "                print(c)\n",
    "        elif comd == \"dec\":\n",
    "            print(\"Cards in draw pile: %d.\" % len(draw_pile))\n",
    "        else:\n",
    "            print(\"Invalid command. Enter ? for help.\")\n",
    "    \n",
    "    \n",
    "    help_state = \"\"\"\n",
    "s <eu|as|me|af|na|sa>   Displays the scoring state and country data for the given region.\n",
    "\"\"\"\n",
    "    @staticmethod\n",
    "    def parse_state(comd):\n",
    "        if comd == \"\":\n",
    "            print(\"=== Game state ===\")\n",
    "            print(\"VP status: %d\" % Game.main.vp_track)\n",
    "            print(\"Unimplemented\")\n",
    "        elif comd == \"?\":\n",
    "            print(UI.help_state)\n",
    "        else:\n",
    "            # remember to check if comd is a valid ID\n",
    "            print(\"State of %s:\" % comd)\n",
    "            print(\"Unimplemented\")\n"
   ]
  },
  {
   "cell_type": "markdown",
   "metadata": {},
   "source": [
    "### Create the turn order\n",
    "1. Increase DEFCON status\n",
    "2. Deal Cards\n",
    "3. Headline Phase\n",
    "4. Action Rounds (advance round marker)\n",
    "5. Check milops\n",
    "6. Check for held scoring card\n",
    "7. Flip China Card\n",
    "8. Advance turn marker\n",
    "9. Final scoring (end T10)"
   ]
  },
  {
   "cell_type": "markdown",
   "metadata": {},
   "source": [
    "### Create space race track\n",
    "1. Create the buffs\n",
    "2. Need to add the additional functionality gained with being faster on the space race."
   ]
  },
  {
   "cell_type": "markdown",
   "metadata": {},
   "source": [
    "### Scoring Cards"
   ]
  },
  {
   "cell_type": "code",
   "execution_count": null,
   "metadata": {
    "ExecuteTime": {
     "end_time": "2020-02-06T00:53:10.752991Z",
     "start_time": "2020-02-06T00:53:08.782447Z"
    }
   },
   "outputs": [
    {
     "name": "stdout",
     "output_type": "stream",
     "text": [
      "ASIA scores for 1 VPs\n",
      "EUROPE scores for 1 VPs\n"
     ]
    }
   ],
   "source": [
    "# this is a temporary measure. It should go into UI.new()\n",
    "g = Game()\n",
    "g.start()\n",
    "Asia_Scoring.use_for_event()\n",
    "Europe_Scoring.use_for_event()\n",
    "Game.main.vp_track\n",
    "UI.run()"
   ]
  }
 ],
 "metadata": {
  "kernelspec": {
   "display_name": "Python 3",
   "language": "python",
   "name": "python3"
  },
  "language_info": {
   "codemirror_mode": {
    "name": "ipython",
    "version": 3
   },
   "file_extension": ".py",
   "mimetype": "text/x-python",
   "name": "python",
   "nbconvert_exporter": "python",
   "pygments_lexer": "ipython3",
   "version": "3.7.4"
  }
 },
 "nbformat": 4,
 "nbformat_minor": 2
}
