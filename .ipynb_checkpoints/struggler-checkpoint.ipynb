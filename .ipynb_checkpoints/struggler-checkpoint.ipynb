{
 "cells": [
  {
   "cell_type": "markdown",
   "metadata": {},
   "source": [
    "### Twilight Struggle"
   ]
  },
  {
   "cell_type": "code",
   "execution_count": 2,
   "metadata": {
    "ExecuteTime": {
     "end_time": "2020-02-03T01:19:25.044725Z",
     "start_time": "2020-02-03T01:19:24.408439Z"
    }
   },
   "outputs": [],
   "source": [
    "import pandas as pd\n",
    "import numpy as np\n",
    "import random\n",
    "from twilight_map import *\n",
    "from twilight_cards import *"
   ]
  },
  {
   "cell_type": "code",
   "execution_count": 3,
   "metadata": {
    "ExecuteTime": {
     "end_time": "2020-02-01T09:51:58.583560Z",
     "start_time": "2020-02-01T09:51:58.580560Z"
    }
   },
   "outputs": [],
   "source": [
    "all_countries = dict()"
   ]
  },
  {
   "cell_type": "code",
   "execution_count": 4,
   "metadata": {
    "ExecuteTime": {
     "end_time": "2020-02-01T09:51:58.931507Z",
     "start_time": "2020-02-01T09:51:58.892496Z"
    }
   },
   "outputs": [],
   "source": [
    "class country:\n",
    "    def __init__(self, country_name, country_index, adjacent_countries, us_influence, ussr_influence, region=0, stability=0, battleground=False, superpower=False, chinese_civil_war=False):\n",
    "        self.country_name = country_name\n",
    "        self.country_index = country_index\n",
    "        self.region = region\n",
    "        self.stability = stability\n",
    "        self.battleground = battleground\n",
    "        self.adjacent_countries = adjacent_countries\n",
    "        self.us_influence = us_influence\n",
    "        self.ussr_influence = ussr_influence\n",
    "        self.superpower = superpower\n",
    "        self.chinese_civil_war = chinese_civil_war\n",
    "        self.evaluate_control()\n",
    "        all_countries[country_name] = self\n",
    "\n",
    "    def evaluate_control(self):\n",
    "        if self.us_influence - self.ussr_influence >= self.stability:\n",
    "            self.control = 'us'\n",
    "        elif self.ussr_influence - self.us_influence >= self.stability:\n",
    "            self.control = 'ussr'\n",
    "        else:\n",
    "            self.control = 'none'\n",
    "\n",
    "    def __repr__(self):\n",
    "        if self.stability == 0:\n",
    "            return f'country({self.country_name}, adjacent = {self.adjacent_countries})'\n",
    "        else:\n",
    "            return f'country({self.country_name}, region = {self.region}, stability = {self.stability}, battleground = {self.battleground}, adjacent = {self.adjacent_countries}, us_inf = {self.us_influence}, ussr_inf = {self.ussr_influence}), control = {self.control}'\n",
    "\n",
    "    def set_influence(self, us_influence, ussr_influence):\n",
    "        if self.superpower == True:\n",
    "            raise ValueError('Cannot set influence on superpower!')\n",
    "        self.us_influence = us_influence\n",
    "        self.ussr_influence = ussr_influence\n",
    "        self.evaluate_control()\n",
    "\n",
    "    def reset_influence(self):\n",
    "        self.us_influence, self.ussr_influence = 0, 0\n",
    "        self.evaluate_control()\n",
    "\n",
    "    def adjust_influence(self, us_influence, ussr_influence):\n",
    "        self.us_influence += us_influence\n",
    "        self.ussr_influence += ussr_influence\n",
    "        self.evaluate_control()\n",
    "\n",
    "    def place_influence(self, side, effective_operations_points):\n",
    "        if side == 'ussr' and self.control == 'us':\n",
    "            # here we deduct 2 from effective_operations_points, to place 1 influence in the country, and then call the function again\n",
    "            if effective_operations_points >= 2:\n",
    "                self.adjust_influence(0, 1)\n",
    "            else:\n",
    "                raise ValueError('Not enough operations points!')\n",
    "            if effective_operations_points - 2 > 0:\n",
    "                self.place_influence(side, effective_operations_points - 2)\n",
    "        elif side == 'us' and self.control == 'ussr':\n",
    "            if effective_operations_points >= 2:\n",
    "                self.adjust_influence(1, 0)\n",
    "            else:\n",
    "                raise ValueError('Not enough operations points!')\n",
    "            if effective_operations_points - 2 > 0:\n",
    "                self.place_influence(side, effective_operations_points - 2)\n",
    "        else:\n",
    "            if side == 'us':\n",
    "                self.adjust_influence(effective_operations_points, 0)\n",
    "            elif side == 'ussr':\n",
    "                self.adjust_influence(0, effective_operations_points)\n",
    "            else:\n",
    "                raise ValueError(\"side must be 'us' or 'ussr'!\")\n",
    "\n",
    "    def coup(self, side, effective_operations_points):\n",
    "        '''\n",
    "        TODO:\n",
    "        1. Prevent coup if no opposing influence in the country. I would prefer to write this in a way that prevents this from happening altogether, as opposed to throwing up an error if this is tried.\n",
    "        2. Prevent coup under DEFCON restrictions. Will write it in a style same as 1.\n",
    "        3. Prevent coup if there is no influence at all in the country.\n",
    "        4. Add military operations points.\n",
    "        5. Reduce DEFCON status level if self.battleground = True\n",
    "        '''\n",
    "\n",
    "        die_roll = np.random.randint(6) + 1\n",
    "        difference = die_roll + effective_operations_points - self.stability*2\n",
    "        if difference > 0:\n",
    "            if side == 'us':\n",
    "                # subtract from opposing first.. and then add to yours\n",
    "                if difference > self.ussr_influence:\n",
    "                    self.adjust_influence(difference - self.ussr_influence, 0)\n",
    "                self.adjust_influence(0, -min(difference, self.us_influence))\n",
    "\n",
    "            if side == 'ussr':\n",
    "                if difference > self.us_influence:\n",
    "                    self.adjust_influence(0, difference - self.us_influence)\n",
    "                self.adjust_influence(-min(difference, self.us_influence), 0)\n",
    "            print(f'Coup successful with roll of {die_roll}. Difference: {difference}')\n",
    "        else:\n",
    "            print(f'Coup failed with roll of {die_roll}')\n",
    "        self.evaluate_control()\n",
    "    \n",
    "    def realignment(self):\n",
    "        '''\n",
    "        TODO:\n",
    "        1. Prevent realignment under DEFCON restrictions.\n",
    "        2. Prevent realignment if there is no influence at all in the country.\n",
    "        '''\n",
    "        \n",
    "        modifier = 0\n",
    "        for adjacent_country in self.adjacent_countries:\n",
    "            modifier += ((all_countries[adjacent_country.country_name]).control == 'us')\n",
    "            modifier -= ((all_countries[adjacent_country.country_name]).control == 'ussr')\n",
    "        if self.us_influence - self.ussr_influence > 0:\n",
    "            modifier += 1\n",
    "        elif self.us_influence - self.ussr_influence < 0:\n",
    "            modifier -= 1\n",
    "        us_roll, ussr_roll = np.random.randint(6) + 1, np.random.randint(6) + 1\n",
    "        difference = us_roll - ussr_roll + modifier\n",
    "        if difference > 0:\n",
    "            self.adjust_influence(0, -min(difference, self.ussr_influence))\n",
    "        elif difference < 0:\n",
    "            self.adjust_influence(-min(-difference, self.us_influence), 0)\n",
    "        print(f'US rolled: {us_roll}, USSR rolled: {ussr_roll}, Modifer = {modifier}, Difference = {difference}')"
   ]
  },
  {
   "cell_type": "code",
   "execution_count": 5,
   "metadata": {
    "ExecuteTime": {
     "end_time": "2020-02-01T09:51:59.398584Z",
     "start_time": "2020-02-01T09:51:59.368624Z"
    }
   },
   "outputs": [],
   "source": [
    "''' Creates entire map. '''\n",
    "USSR = country(**USSR)\n",
    "USA = country(**USA)\n",
    "Canada = country(**Canada)\n",
    "UK = country(**UK)\n",
    "Norway = country(**Norway)\n",
    "Sweden = country(**Sweden)\n",
    "Finland = country(**Finland)\n",
    "Denmark = country(**Denmark)\n",
    "Benelux = country(**Benelux)\n",
    "France = country(**France)\n",
    "Spain_Portugal = country(**Spain_Portugal)\n",
    "Italy = country(**Italy)\n",
    "Greece = country(**Greece)\n",
    "Austria = country(**Austria)\n",
    "West_Germany = country(**West_Germany)\n",
    "East_Germany = country(**East_Germany)\n",
    "Poland = country(**Poland)\n",
    "Czechoslovakia = country(**Czechoslovakia)\n",
    "Hungary = country(**Hungary)\n",
    "Yugoslavia = country(**Yugoslavia)\n",
    "Romania = country(**Romania)\n",
    "Bulgaria = country(**Bulgaria)\n",
    "Turkey = country(**Turkey)\n",
    "Libya = country(**Libya)\n",
    "Egypt = country(**Egypt)\n",
    "Israel = country(**Israel)\n",
    "Lebanon = country(**Lebanon)\n",
    "Syria = country(**Syria)\n",
    "Iraq = country(**Iraq)\n",
    "Iran = country(**Iran)\n",
    "Jordan = country(**Jordan)\n",
    "Gulf_States = country(**Gulf_States)\n",
    "Saudi_Arabia = country(**Saudi_Arabia)\n",
    "Afghanistan = country(**Afghanistan)\n",
    "Pakistan = country(**Pakistan)\n",
    "India = country(**India)\n",
    "Burma = country(**Burma)\n",
    "Laos_Cambodia = country(**Laos_Cambodia)\n",
    "Thailand = country(**Thailand)\n",
    "Vietnam = country(**Vietnam)\n",
    "Malaysia = country(**Malaysia)\n",
    "Australia = country(**Australia)\n",
    "Indonesia = country(**Indonesia)\n",
    "Philippines = country(**Philippines)\n",
    "Japan = country(**Japan)\n",
    "Taiwan = country(**Taiwan)\n",
    "South_Korea = country(**South_Korea)\n",
    "North_Korea = country(**North_Korea)\n",
    "Algeria = country(**Algeria)\n",
    "Morocco = country(**Morocco)\n",
    "Tunisia = country(**Tunisia)\n",
    "West_African_States = country(**West_African_States)\n",
    "Ivory_Coast = country(**Ivory_Coast)\n",
    "Saharan_States = country(**Saharan_States)\n",
    "Nigeria = country(**Nigeria)\n",
    "Cameroon = country(**Cameroon)\n",
    "Zaire = country(**Zaire)\n",
    "Angola = country(**Angola)\n",
    "South_Africa = country(**South_Africa)\n",
    "Botswana = country(**Botswana)\n",
    "Zimbabwe = country(**Zimbabwe)\n",
    "SE_African_States = country(**SE_African_States)\n",
    "Kenya = country(**Kenya)\n",
    "Somalia = country(**Somalia)\n",
    "Ethiopia = country(**Ethiopia)\n",
    "Sudan = country(**Sudan)\n",
    "Mexico = country(**Mexico)\n",
    "Guatemala = country(**Guatemala)\n",
    "El_Salvador = country(**El_Salvador)\n",
    "Honduras = country(**Honduras)\n",
    "Costa_Rica = country(**Costa_Rica)\n",
    "Panama = country(**Panama)\n",
    "Nicaragua = country(**Nicaragua)\n",
    "Cuba = country(**Cuba)\n",
    "Haiti = country(**Haiti)\n",
    "Dominican_Republic = country(**Dominican_Republic)\n",
    "Colombia = country(**Colombia)\n",
    "Ecuador = country(**Ecuador)\n",
    "Peru = country(**Peru)\n",
    "Chile = country(**Chile)\n",
    "Argentina = country(**Argentina)\n",
    "Uruguay = country(**Uruguay)\n",
    "Paraguay = country(**Paraguay)\n",
    "Bolivia = country(**Bolivia)\n",
    "Brazil = country(**Brazil)\n",
    "Venezuela = country(**Venezuela)\n",
    "Chinese_Civil_War = country(**Chinese_Civil_War)"
   ]
  },
  {
   "cell_type": "markdown",
   "metadata": {},
   "source": [
    "### Build standard map"
   ]
  },
  {
   "cell_type": "code",
   "execution_count": 6,
   "metadata": {
    "ExecuteTime": {
     "end_time": "2020-02-01T09:52:00.270067Z",
     "start_time": "2020-02-01T09:52:00.263064Z"
    }
   },
   "outputs": [],
   "source": [
    "def build_standard_map():\n",
    "    Panama.set_influence(1, 0)\n",
    "    Canada.set_influence(2, 0)\n",
    "    UK.set_influence(2, 0)\n",
    "    North_Korea.set_influence(0, 1)\n",
    "    East_Germany.set_influence(0, 3)\n",
    "    Finland.set_influence(0, 1)\n",
    "    Syria.set_influence(0, 1)\n",
    "    Israel.set_influence(1, 0)\n",
    "    Iraq.set_influence(0, 1)\n",
    "    Iran.set_influence(1, 0)\n",
    "    North_Korea.set_influence(0, 3)\n",
    "    South_Korea.set_influence(1, 0)\n",
    "    Japan.set_influence(1, 0)\n",
    "    Philippines.set_influence(1, 0)\n",
    "    Australia.set_influence(4, 0)\n",
    "    South_Africa.set_influence(1, 0)"
   ]
  },
  {
   "cell_type": "code",
   "execution_count": 7,
   "metadata": {
    "ExecuteTime": {
     "end_time": "2020-02-01T09:52:01.415819Z",
     "start_time": "2020-02-01T09:52:01.412822Z"
    }
   },
   "outputs": [],
   "source": [
    "build_standard_map()"
   ]
  },
  {
   "cell_type": "markdown",
   "metadata": {},
   "source": [
    "### Create cards, hand, discard pile, draw pile, removed pile"
   ]
  },
  {
   "cell_type": "code",
   "execution_count": 8,
   "metadata": {
    "ExecuteTime": {
     "end_time": "2020-02-03T01:19:26.567087Z",
     "start_time": "2020-02-03T01:19:26.561147Z"
    }
   },
   "outputs": [],
   "source": [
    "class card:\n",
    "    '''\n",
    "    Cards should be able to be used for:\n",
    "    1. Event\n",
    "    2. Realignment\n",
    "    3. Coup\n",
    "    4. Placing influence\n",
    "    5. Space race\n",
    "    6. Trigger event first >> realignment/coup/influence\n",
    "    '''\n",
    "    def __init__(self, card_number, **kwargs):\n",
    "        self.card_number = card_number\n",
    "        for key, value in kwargs.items():\n",
    "            setattr(self, key, value)\n",
    "    \n",
    "    def __repr__(self):\n",
    "        sb = []\n",
    "        for key in self.__dict__:\n",
    "            sb.append(\"{key}='{value}'\".format(key=key, value=self.__dict__[key]))\n",
    "        return ', '.join(sb)"
   ]
  },
  {
   "cell_type": "markdown",
   "metadata": {},
   "source": [
    "Let's create cards by index 1-110. Early war: 1-35, 103-106. Mid war: 36-81, 107-108. Late war: 82-102, 109-110. China card is card(6)."
   ]
  },
  {
   "cell_type": "code",
   "execution_count": 9,
   "metadata": {
    "ExecuteTime": {
     "end_time": "2020-02-03T01:19:29.416347Z",
     "start_time": "2020-02-03T01:19:29.407348Z"
    }
   },
   "outputs": [],
   "source": [
    "all_cards = [card(i+1) for i in range(110)]\n",
    "early_war_indices = [i+1 for i in range(35)]\n",
    "early_war_indices.extend([i+1 for i in range(103-1,106)])\n",
    "mid_war_indices = [i+1 for i in range(36-1,81)]\n",
    "mid_war_indices.extend([i+1 for i in range(107-1,108)])\n",
    "late_war_indices = [i+1 for i in range(82-1,102)]\n",
    "late_war_indices.extend([i+1 for i in range(109-1,110)])"
   ]
  },
  {
   "cell_type": "code",
   "execution_count": 10,
   "metadata": {
    "ExecuteTime": {
     "end_time": "2020-02-03T01:19:29.695515Z",
     "start_time": "2020-02-03T01:19:29.691555Z"
    },
    "scrolled": true
   },
   "outputs": [],
   "source": [
    "early_war_cards = [card(i) for i in early_war_indices]\n",
    "mid_war_cards = [card(i) for i in mid_war_indices]\n",
    "late_war_cards = [card(i) for i in late_war_indices]"
   ]
  },
  {
   "cell_type": "code",
   "execution_count": 11,
   "metadata": {
    "ExecuteTime": {
     "end_time": "2020-02-03T01:19:30.031237Z",
     "start_time": "2020-02-03T01:19:30.027233Z"
    }
   },
   "outputs": [],
   "source": [
    "us_hand = []\n",
    "ussr_hand = []"
   ]
  },
  {
   "cell_type": "markdown",
   "metadata": {},
   "source": [
    "### Setup"
   ]
  },
  {
   "cell_type": "code",
   "execution_count": 12,
   "metadata": {
    "ExecuteTime": {
     "end_time": "2020-02-03T01:19:31.213339Z",
     "start_time": "2020-02-03T01:19:31.198340Z"
    }
   },
   "outputs": [],
   "source": [
    "Arab_Israeli_War = card(**Arab_Israeli_War)\n",
    "Asia_Scoring = card(**Asia_Scoring)\n",
    "Blockade = card(**Blockade)\n",
    "CIA_Created = card(**CIA_Created)\n",
    "COMECON = card(**COMECON)\n",
    "Captured_Nazi_Scientist = card(**Captured_Nazi_Scientist)\n",
    "Containment = card(**Containment)\n",
    "De_Gaulle_Leads_France = card(**De_Gaulle_Leads_France)\n",
    "De_Stalinization = card(**De_Stalinization)\n",
    "Decolonization = card(**Decolonization)\n",
    "Defectors = card(**Defectors)\n",
    "Duck_and_Cover = card(**Duck_and_Cover)\n",
    "East_European_Unrest = card(**East_European_Unrest)\n",
    "Europe_Scoring = card(**Europe_Scoring)\n",
    "Fidel = card(**Fidel)\n",
    "Five_Year_Plan = card(**Five_Year_Plan)\n",
    "Formosan_Resolution = card(**Formosan_Resolution)\n",
    "Independent_Reds = card(**Independent_Reds)\n",
    "Indo_Pakistani_War = card(**Indo_Pakistani_War)\n",
    "Korean_War = card(**Korean_War)\n",
    "Marshall_Plan = card(**Marshall_Plan)\n",
    "Middle_East_Scoring = card(**Middle_East_Scoring)\n",
    "NATO = card(**NATO)\n",
    "NORAD = card(**NORAD)\n",
    "Nasser = card(**Nasser)\n",
    "Nuclear_Test_Ban = card(**Nuclear_Test_Ban)\n",
    "Olympic_Games = card(**Olympic_Games)\n",
    "Red_Scare_Purge = card(**Red_Scare_Purge)\n",
    "Romanian_Abdication = card(**Romanian_Abdication)\n",
    "Socialist_Governments = card(**Socialist_Governments)\n",
    "Special_Relationship = card(**Special_Relationship)\n",
    "Suez_Crisis = card(**Suez_Crisis)\n",
    "The_Cambridge_Five = card(**The_Cambridge_Five)\n",
    "The_China_Card = card(**The_China_Card)\n",
    "Truman_Doctrine = card(**Truman_Doctrine)\n",
    "UN_Intervention = card(**UN_Intervention)\n",
    "US_Japan_Mutual_Defense_Pact = card(**US_Japan_Mutual_Defense_Pact)\n",
    "Vietnam_Revolts = card(**Vietnam_Revolts)\n",
    "Warsaw_Pact_Formed = card(**Warsaw_Pact_Formed)"
   ]
  },
  {
   "cell_type": "code",
   "execution_count": 13,
   "metadata": {
    "ExecuteTime": {
     "end_time": "2020-02-03T01:19:31.970424Z",
     "start_time": "2020-02-03T01:19:31.965424Z"
    }
   },
   "outputs": [],
   "source": [
    "'''\n",
    "Remove the China card from the early war pile. Shuffle the early war pile.\n",
    "Distribute the cards to players. Each player receives 8 cards each.\n",
    "'''\n",
    "ussr_hand.append(early_war_cards.pop(5))\n",
    "random.shuffle(early_war_cards)\n",
    "ussr_hand.extend([early_war_cards.pop() for i in range(8)])\n",
    "us_hand.extend([early_war_cards.pop() for i in range(8)])"
   ]
  },
  {
   "cell_type": "code",
   "execution_count": 14,
   "metadata": {
    "ExecuteTime": {
     "end_time": "2020-02-03T01:19:32.679048Z",
     "start_time": "2020-02-03T01:19:32.667053Z"
    }
   },
   "outputs": [
    {
     "data": {
      "text/plain": [
       "[card_number='6',\n",
       " card_number='104',\n",
       " card_number='12',\n",
       " card_number='26',\n",
       " card_number='13',\n",
       " card_number='28',\n",
       " card_number='103',\n",
       " card_number='35',\n",
       " card_number='106']"
      ]
     },
     "execution_count": 14,
     "metadata": {},
     "output_type": "execute_result"
    }
   ],
   "source": [
    "ussr_hand"
   ]
  },
  {
   "cell_type": "code",
   "execution_count": 15,
   "metadata": {
    "ExecuteTime": {
     "end_time": "2020-02-03T01:20:01.306364Z",
     "start_time": "2020-02-03T01:20:01.301363Z"
    }
   },
   "outputs": [
    {
     "data": {
      "text/plain": [
       "[card_number='5',\n",
       " card_number='9',\n",
       " card_number='33',\n",
       " card_number='11',\n",
       " card_number='34',\n",
       " card_number='21',\n",
       " card_number='3',\n",
       " card_number='14',\n",
       " card_number='32',\n",
       " card_number='4',\n",
       " card_number='22',\n",
       " card_number='29',\n",
       " card_number='30',\n",
       " card_number='1',\n",
       " card_number='27',\n",
       " card_number='10',\n",
       " card_number='2',\n",
       " card_number='18',\n",
       " card_number='23',\n",
       " card_number='7',\n",
       " card_number='105',\n",
       " card_number='19']"
      ]
     },
     "execution_count": 15,
     "metadata": {},
     "output_type": "execute_result"
    }
   ],
   "source": [
    "early_war_cards"
   ]
  },
  {
   "cell_type": "code",
   "execution_count": 16,
   "metadata": {
    "ExecuteTime": {
     "end_time": "2020-02-01T05:48:39.696559Z",
     "start_time": "2020-02-01T05:48:39.691549Z"
    }
   },
   "outputs": [],
   "source": [
    "late_war_cards"
   ]
  },
  {
   "cell_type": "markdown",
   "metadata": {},
   "source": [
    "### Tracks"
   ]
  },
  {
   "cell_type": "code",
   "execution_count": 17,
   "metadata": {},
   "outputs": [],
   "source": [
    "vp_track = 0 # positive for ussr\n",
    "turn_track = 1\n",
    "ar_track = 1 # increment by 0.5 for each side's action round\n",
    "defcon_track = 5\n",
    "milops_track = [0, 0] # ussr first\n",
    "space_track = [0, 0] # 0 is start, 1 is earth satellite etc"
   ]
  },
  {
   "cell_type": "code",
   "execution_count": 18,
   "metadata": {},
   "outputs": [],
   "source": [
    "# to add game terminate functionality EndGame()\n",
    "def change_vp(n): # positive for ussr\n",
    "    global vp_track\n",
    "    vp_track += n\n",
    "    if vp_track >= 20:\n",
    "        print('USSR victory')\n",
    "        # EndGame()\n",
    "    if vp_track <= -20:\n",
    "        print('US victory')\n",
    "        # EndGame()\n",
    "\n",
    "def change_defcon(n):\n",
    "    global defcon_track\n",
    "    defcon_track += min(n, 5 - defcon_track)\n",
    "    if defcon_track < 2:\n",
    "        print('Game ended by thermonuclear war')\n",
    "        # EndGame()\n",
    "    "
   ]
  },
  {
   "cell_type": "markdown",
   "metadata": {},
   "source": [
    "### Create the turn order\n",
    "1. Increase DEFCON status\n",
    "2. Deal Cards\n",
    "3. Headline Phase\n",
    "4. Action Rounds (advance round marker)\n",
    "5. Check milops\n",
    "6. Check for held scoring card\n",
    "7. Flip China Card\n",
    "8. Advance turn marker\n",
    "9. Final scoring (end T10)"
   ]
  },
  {
   "cell_type": "code",
   "execution_count": null,
   "metadata": {},
   "outputs": [],
   "source": []
  },
  {
   "cell_type": "markdown",
   "metadata": {},
   "source": [
    "### Create space race track\n",
    "1. Create the buffs\n",
    "2. Need to add the additional functionality gained with being faster on the space race."
   ]
  },
  {
   "cell_type": "code",
   "execution_count": 19,
   "metadata": {
    "ExecuteTime": {
     "end_time": "2020-01-31T15:17:31.957041Z",
     "start_time": "2020-01-31T15:17:31.937070Z"
    }
   },
   "outputs": [],
   "source": [
    "# SPACE (function)\n",
    "def space(side):\n",
    "    x = 0\n",
    "    if side == 'us':\n",
    "        x = 1\n",
    "        \n",
    "    if space_track[x] in [0,2,4,6]:\n",
    "        modifier = 0\n",
    "    elif space_track[x] in [1,3,5]:\n",
    "        modifier = -1\n",
    "    else:\n",
    "        modifier = 1\n",
    "    \n",
    "    y = 1 - 2*x # multiplier for VPs - gives 1 for USSR and -1 for US\n",
    "    roll = np.random.randint(6) + 1\n",
    "    if roll + modifier <= 3:\n",
    "        space_track[x] += 1\n",
    "        print(f'Success with roll of {roll}.')\n",
    "        \n",
    "        if space_track[x] == 1:\n",
    "            if space_track[1-x] < 1:\n",
    "                change_vp(2*y)\n",
    "            else:\n",
    "                change_vp(y)\n",
    "        \n",
    "        elif space_track[x] == 3:\n",
    "            if space_track[1-x] < 3:\n",
    "                change_vp(2*y)\n",
    "            \n",
    "        elif space_track[x] == 5:\n",
    "            if space_track[1-x] < 5:\n",
    "                change_vp(3*y)\n",
    "            else:\n",
    "                change_vp(y)\n",
    "                \n",
    "        elif space_track[x] == 7:\n",
    "            if space_track[1-x] < 7:\n",
    "                change_vp(4*y)\n",
    "            else:\n",
    "                change_vp(2*y)\n",
    "                \n",
    "        elif space_track[x] == 8:\n",
    "            if space_track[1-x] < 8:\n",
    "                change_vp(2*y)\n",
    "    \n",
    "    else:\n",
    "        print(f'Failure with roll of {roll}.')"
   ]
  },
  {
   "cell_type": "markdown",
   "metadata": {},
   "source": [
    "### Scoring Cards"
   ]
  },
  {
   "cell_type": "code",
   "execution_count": 54,
   "metadata": {},
   "outputs": [],
   "source": [
    "def ScoreCentralAmerica():\n",
    "    global vp_track\n",
    "    \n",
    "    areas = []\n",
    "    for x in list(all_countries.values()):\n",
    "        if x.region == \"Central America\":\n",
    "            areas.append(x)\n",
    "            \n",
    "    presence, domination, control = [1,3,5]\n",
    "\n",
    "    bg_count = [0,0] # USSR, US\n",
    "    country_count = [0,0]\n",
    "    bgs = 0\n",
    "\n",
    "    for x in areas:\n",
    "        bg_count[0] += (x.battleground and x.control == 'ussr')\n",
    "        bg_count[1] += (x.battleground and x.control == 'us')\n",
    "        country_count[0] += (x.control == 'ussr')\n",
    "        country_count[1] += (x.control == 'us')\n",
    "        bgs += x.battleground\n",
    "\n",
    "    swing = bg_count[0] - bg_count[1]\n",
    "\n",
    "    # presence\n",
    "    if country_count[0] > 0:\n",
    "        swing += presence\n",
    "    if country_count[1] > 0:\n",
    "        swing -= presence\n",
    "\n",
    "    # control\n",
    "    if bg_count[0] == bgs:\n",
    "        swing += control - presence\n",
    "    if bg_count[1] == bgs:\n",
    "        swing -= control - presence\n",
    "\n",
    "    # domination\n",
    "    if bg_count[0] < bgs and bg_count[0] > bg_count[1] and country_count[0] > country_count[1] and country_count[0] - bg_count[0] > 0:\n",
    "        swing += domination - presence\n",
    "    if bg_count[1] < bgs and bg_count[1] > bg_count[0] and country_count[1] > country_count[0] and country_count[1] - bg_count[1] > 0:\n",
    "        swing -= domination - presence\n",
    "\n",
    "    # adjacent\n",
    "    if Cuba.control == 'ussr':\n",
    "        swing += 1\n",
    "    if Mexico.control == 'ussr':\n",
    "        swing += 1\n",
    "\n",
    "    change_vp(swing)\n",
    "    print(f'Central America scores for {swing} VPs')"
   ]
  },
  {
   "cell_type": "code",
   "execution_count": 55,
   "metadata": {},
   "outputs": [],
   "source": [
    "def ScoreSouthAmerica():\n",
    "    global vp_track\n",
    "    \n",
    "    areas = []\n",
    "    for x in list(all_countries.values()):\n",
    "        if x.region == \"South America\":\n",
    "            areas.append(x)\n",
    "            \n",
    "    presence, domination, control = [2,5,6]\n",
    "\n",
    "    bg_count = [0,0] # USSR, US\n",
    "    country_count = [0,0]\n",
    "    bgs = 0\n",
    "\n",
    "    for x in areas:\n",
    "        bg_count[0] += (x.battleground and x.control == 'ussr')\n",
    "        bg_count[1] += (x.battleground and x.control == 'us')\n",
    "        country_count[0] += (x.control == 'ussr')\n",
    "        country_count[1] += (x.control == 'us')\n",
    "        bgs += x.battleground\n",
    "\n",
    "    swing = bg_count[0] - bg_count[1]\n",
    "\n",
    "    # presence\n",
    "    if country_count[0] > 0:\n",
    "        swing += presence\n",
    "    if country_count[1] > 0:\n",
    "        swing -= presence\n",
    "\n",
    "    # control\n",
    "    if bg_count[0] == bgs:\n",
    "        swing += control - presence\n",
    "    if bg_count[1] == bgs:\n",
    "        swing -= control - presence\n",
    "\n",
    "    # domination\n",
    "    if bg_count[0] < bgs and bg_count[0] > bg_count[1] and country_count[0] > country_count[1] and country_count[0] - bg_count[0] > 0:\n",
    "        swing += domination - presence\n",
    "    if bg_count[1] < bgs and bg_count[1] > bg_count[0] and country_count[1] > country_count[0] and country_count[1] - bg_count[1] > 0:\n",
    "        swing -= domination - presence\n",
    "\n",
    "    change_vp(swing)\n",
    "    print(f'South America scores for {swing} VPs')"
   ]
  },
  {
   "cell_type": "code",
   "execution_count": 56,
   "metadata": {},
   "outputs": [],
   "source": [
    "def ScoreAfrica():\n",
    "    global vp_track\n",
    "    \n",
    "    areas = []\n",
    "    for x in list(all_countries.values()):\n",
    "        if x.region == \"Africa\":\n",
    "            areas.append(x)\n",
    "            \n",
    "    presence, domination, control = [1,4,6]\n",
    "\n",
    "    bg_count = [0,0] # USSR, US\n",
    "    country_count = [0,0]\n",
    "    bgs = 0\n",
    "\n",
    "    for x in areas:\n",
    "        bg_count[0] += (x.battleground and x.control == 'ussr')\n",
    "        bg_count[1] += (x.battleground and x.control == 'us')\n",
    "        country_count[0] += (x.control == 'ussr')\n",
    "        country_count[1] += (x.control == 'us')\n",
    "        bgs += x.battleground\n",
    "\n",
    "    swing = bg_count[0] - bg_count[1]\n",
    "\n",
    "    # presence\n",
    "    if country_count[0] > 0:\n",
    "        swing += presence\n",
    "    if country_count[1] > 0:\n",
    "        swing -= presence\n",
    "\n",
    "    # control\n",
    "    if bg_count[0] == bgs:\n",
    "        swing += control - presence\n",
    "    if bg_count[1] == bgs:\n",
    "        swing -= control - presence\n",
    "\n",
    "    # domination\n",
    "    if bg_count[0] < bgs and bg_count[0] > bg_count[1] and country_count[0] > country_count[1] and country_count[0] - bg_count[0] > 0:\n",
    "        swing += domination - presence\n",
    "    if bg_count[1] < bgs and bg_count[1] > bg_count[0] and country_count[1] > country_count[0] and country_count[1] - bg_count[1] > 0:\n",
    "        swing -= domination - presence\n",
    "\n",
    "    change_vp(swing)\n",
    "    print(f'Africa scores for {swing} VPs')"
   ]
  },
  {
   "cell_type": "code",
   "execution_count": 57,
   "metadata": {},
   "outputs": [],
   "source": [
    "def ScoreEurope():\n",
    "    global vp_track\n",
    "    \n",
    "    areas = []\n",
    "    for x in list(all_countries.values()):\n",
    "        if x.region in [\"Europe\", \"Western Europe\", \"Eastern Europe\"]:\n",
    "            areas.append(x)\n",
    "            \n",
    "    presence, domination, control = [3,7,120]\n",
    "\n",
    "    bg_count = [0,0] # USSR, US\n",
    "    country_count = [0,0]\n",
    "    bgs = 0\n",
    "\n",
    "    for x in areas:\n",
    "        bg_count[0] += (x.battleground and x.control == 'ussr')\n",
    "        bg_count[1] += (x.battleground and x.control == 'us')\n",
    "        country_count[0] += (x.control == 'ussr')\n",
    "        country_count[1] += (x.control == 'us')\n",
    "        bgs += x.battleground\n",
    "\n",
    "    swing = bg_count[0] - bg_count[1]\n",
    "\n",
    "    # presence\n",
    "    if country_count[0] > 0:\n",
    "        swing += presence\n",
    "    if country_count[1] > 0:\n",
    "        swing -= presence\n",
    "\n",
    "    # control\n",
    "    if bg_count[0] == bgs:\n",
    "        swing += control - presence\n",
    "    if bg_count[1] == bgs:\n",
    "        swing -= control - presence\n",
    "\n",
    "    # domination\n",
    "    if bg_count[0] < bgs and bg_count[0] > bg_count[1] and country_count[0] > country_count[1] and country_count[0] - bg_count[0] > 0:\n",
    "        swing += domination - presence\n",
    "    if bg_count[1] < bgs and bg_count[1] > bg_count[0] and country_count[1] > country_count[0] and country_count[1] - bg_count[1] > 0:\n",
    "        swing -= domination - presence\n",
    "        \n",
    "    # adjacent\n",
    "    if Canada.control == 'ussr':\n",
    "        swing += 1\n",
    "    if Finland.control == 'us':\n",
    "        swing -= 1\n",
    "    if Poland.control == 'us':\n",
    "        swing -= 1\n",
    "    if Romania.control == 'us':\n",
    "        swing -= 1\n",
    "\n",
    "    change_vp(swing)\n",
    "    print(f'Europe scores for {swing} VPs')"
   ]
  },
  {
   "cell_type": "code",
   "execution_count": 58,
   "metadata": {
    "scrolled": true
   },
   "outputs": [],
   "source": [
    "# TO ADD SHUTTLE DIPLOMACY\n",
    "def ScoreMiddleEast():\n",
    "    global vp_track\n",
    "    \n",
    "    areas = []\n",
    "    for x in list(all_countries.values()):\n",
    "        if x.region == \"Middle East\":\n",
    "            areas.append(x)\n",
    "            \n",
    "    presence, domination, control = [3,5,7]\n",
    "\n",
    "    bg_count = [0,0] # USSR, US\n",
    "    country_count = [0,0]\n",
    "    bgs = 0\n",
    "\n",
    "    for x in areas:\n",
    "        bg_count[0] += (x.battleground and x.control == 'ussr')\n",
    "        bg_count[1] += (x.battleground and x.control == 'us')\n",
    "        country_count[0] += (x.control == 'ussr')\n",
    "        country_count[1] += (x.control == 'us')\n",
    "        bgs += x.battleground\n",
    "\n",
    "    swing = bg_count[0] - bg_count[1]\n",
    "\n",
    "    # presence\n",
    "    if country_count[0] > 0:\n",
    "        swing += presence\n",
    "    if country_count[1] > 0:\n",
    "        swing -= presence\n",
    "\n",
    "    # control\n",
    "    if bg_count[0] == bgs:\n",
    "        swing += control - presence\n",
    "    if bg_count[1] == bgs:\n",
    "        swing -= control - presence\n",
    "\n",
    "    # domination\n",
    "    if bg_count[0] < bgs and bg_count[0] > bg_count[1] and country_count[0] > country_count[1] and country_count[0] - bg_count[0] > 0:\n",
    "        swing += domination - presence\n",
    "    if bg_count[1] < bgs and bg_count[1] > bg_count[0] and country_count[1] > country_count[0] and country_count[1] - bg_count[1] > 0:\n",
    "        swing -= domination - presence\n",
    "\n",
    "    change_vp(swing)\n",
    "    print(f'Middle East scores for {swing} VPs')"
   ]
  },
  {
   "cell_type": "code",
   "execution_count": 59,
   "metadata": {},
   "outputs": [],
   "source": [
    "# TO ADD SHUTTLE DIPLOMACY AND FORMOSAN RESOLUTION\n",
    "def ScoreAsia():\n",
    "    global vp_track\n",
    "    \n",
    "    areas = []\n",
    "    for x in list(all_countries.values()):\n",
    "        if x.region in [\"Asia\", \"Southeast Asia\"]:\n",
    "            areas.append(x)\n",
    "            \n",
    "    presence, domination, control = [3,7,9]\n",
    "\n",
    "    bg_count = [0,0] # USSR, US\n",
    "    country_count = [0,0]\n",
    "    bgs = 0\n",
    "\n",
    "    for x in areas:\n",
    "        bg_count[0] += (x.battleground and x.control == 'ussr')\n",
    "        bg_count[1] += (x.battleground and x.control == 'us')\n",
    "        country_count[0] += (x.control == 'ussr')\n",
    "        country_count[1] += (x.control == 'us')\n",
    "        bgs += x.battleground\n",
    "\n",
    "    swing = bg_count[0] - bg_count[1]\n",
    "\n",
    "    # presence\n",
    "    if country_count[0] > 0:\n",
    "        swing += presence\n",
    "    if country_count[1] > 0:\n",
    "        swing -= presence\n",
    "\n",
    "    # control\n",
    "    if bg_count[0] == bgs:\n",
    "        swing += control - presence\n",
    "    if bg_count[1] == bgs:\n",
    "        swing -= control - presence\n",
    "\n",
    "    # domination\n",
    "    if bg_count[0] < bgs and bg_count[0] > bg_count[1] and country_count[0] > country_count[1] and country_count[0] - bg_count[0] > 0:\n",
    "        swing += domination - presence\n",
    "    if bg_count[1] < bgs and bg_count[1] > bg_count[0] and country_count[1] > country_count[0] and country_count[1] - bg_count[1] > 0:\n",
    "        swing -= domination - presence\n",
    "        \n",
    "    # adjacent\n",
    "    if Afghanistan.control == 'us':\n",
    "        swing -= 1\n",
    "    if North_Korea.control == 'us':\n",
    "        swing -= 1\n",
    "\n",
    "    change_vp(swing)\n",
    "    print(f'Asia scores for {swing} VPs')"
   ]
  },
  {
   "cell_type": "code",
   "execution_count": 60,
   "metadata": {},
   "outputs": [],
   "source": [
    "def ScoreSoutheastAsia():\n",
    "    areas = []\n",
    "    for x in list(all_countries.values()):\n",
    "        if x.region == \"Southeast Asia\":\n",
    "            areas.append(x)\n",
    "    \n",
    "    country_count = [0,0]\n",
    "    for x in areas:\n",
    "        country_count[0] += (x.control == 'ussr')\n",
    "        country_count[1] += (x.control == 'us')\n",
    "    swing = country_count[0] - country_count[1]\n",
    "    \n",
    "    # thailand double VP\n",
    "    if Thailand.control == 'ussr':\n",
    "        swing += 1\n",
    "    if Thailand.control == 'us':\n",
    "        swing -= 1\n",
    "        \n",
    "    change_vp(swing)\n",
    "    print(f'Southeast Asia scores for {swing} VPs')"
   ]
  },
  {
   "cell_type": "code",
   "execution_count": null,
   "metadata": {},
   "outputs": [],
   "source": []
  }
 ],
 "metadata": {
  "kernelspec": {
   "display_name": "Python 3",
   "language": "python",
   "name": "python3"
  },
  "language_info": {
   "codemirror_mode": {
    "name": "ipython",
    "version": 3
   },
   "file_extension": ".py",
   "mimetype": "text/x-python",
   "name": "python",
   "nbconvert_exporter": "python",
   "pygments_lexer": "ipython3",
   "version": "3.6.9"
  }
 },
 "nbformat": 4,
 "nbformat_minor": 2
}
