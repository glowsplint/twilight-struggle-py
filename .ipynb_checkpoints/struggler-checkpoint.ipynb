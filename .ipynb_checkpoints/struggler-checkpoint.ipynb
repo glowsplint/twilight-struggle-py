{
 "cells": [
  {
   "cell_type": "markdown",
   "metadata": {},
   "source": [
    "### Twilight Struggle"
   ]
  },
  {
   "cell_type": "code",
   "execution_count": 1,
   "metadata": {
    "ExecuteTime": {
     "end_time": "2020-02-04T15:17:54.709124Z",
     "start_time": "2020-02-04T15:17:54.076095Z"
    }
   },
   "outputs": [],
   "source": [
    "import pandas as pd\n",
    "import numpy as np\n",
    "import random\n",
    "from twilight_cards import *"
   ]
  },
  {
   "cell_type": "markdown",
   "metadata": {},
   "source": [
    "Moved all country information into the twilight_cards.py file."
   ]
  },
  {
   "cell_type": "code",
   "execution_count": 2,
   "metadata": {
    "ExecuteTime": {
     "end_time": "2020-02-04T15:17:54.716094Z",
     "start_time": "2020-02-04T15:17:54.711092Z"
    }
   },
   "outputs": [],
   "source": [
    "all_cards = dict()\n",
    "early_war_cards = dict()"
   ]
  },
  {
   "cell_type": "code",
   "execution_count": 3,
   "metadata": {
    "ExecuteTime": {
     "end_time": "2020-02-04T15:17:54.741107Z",
     "start_time": "2020-02-04T15:17:54.720095Z"
    }
   },
   "outputs": [],
   "source": [
    "class card:\n",
    "    '''\n",
    "    Cards should be able to be used for:\n",
    "    1. Event\n",
    "    2. Realignment\n",
    "    3. Coup\n",
    "    4. Placing influence\n",
    "    5. Space race\n",
    "    6. Trigger event first >> realignment/coup/influence\n",
    "    '''\n",
    "    def __init__(self, **kwargs):\n",
    "        for key, value in kwargs.items():\n",
    "            setattr(self, key, value)\n",
    "        all_cards[self.card_name] = self\n",
    "        if self.stage == 'Early War':\n",
    "            early_war_cards[self.card_name] = self\n",
    "#         if self.stage == 'Mid War':\n",
    "#             mid_war_cards[card_name] = self\n",
    "#         if self.stage == 'Late War':\n",
    "#             late_war_cards[card_name] = self\n",
    "    \n",
    "    def __repr__(self):\n",
    "#         sb = []\n",
    "#         for key in self.__dict__:\n",
    "#             sb.append(\"{key}='{value}'\".format(key=key, value=self.__dict__[key]))\n",
    "#         return ', '.join(sb)\n",
    "        if hasattr(self, 'operations_points'):\n",
    "            return f'{self.card_name} - {self.operations_points}'\n",
    "        else:\n",
    "            return self.card_name\n",
    "    \n",
    "    def trigger_event_first(self):\n",
    "        # only possible if opponent event\n",
    "        # self.use_for_event()\n",
    "        # do something else\n",
    "        pass\n",
    "    \n",
    "    def use_for_influence(self):\n",
    "        pass\n",
    "    \n",
    "    def use_for_space_race(self):\n",
    "        pass\n",
    "    \n",
    "    def use_for_event(self):\n",
    "        for event in self.event_effects:\n",
    "            event[0](event[1])\n",
    "        if hasattr(self, 'remove_if_used_as_event'):\n",
    "            if self.remove_if_used_as_event:\n",
    "            # to add functionality for remove cards from hand and into removed pile\n",
    "                pass\n",
    "    \n",
    "    def use_for_coup(self):\n",
    "        pass\n",
    "    \n",
    "    def use_for_realignment(self):\n",
    "        pass\n",
    "    \n",
    "    def possible_actions(self):\n",
    "        pass"
   ]
  },
  {
   "cell_type": "markdown",
   "metadata": {},
   "source": [
    "Let's create cards by index 1-110. Early war: 1-35, 103-106. Mid war: 36-81, 107-108. Late war: 82-102, 109-110. China card is card(6)."
   ]
  },
  {
   "cell_type": "markdown",
   "metadata": {},
   "source": [
    "### Setup"
   ]
  },
  {
   "cell_type": "code",
   "execution_count": 4,
   "metadata": {
    "ExecuteTime": {
     "end_time": "2020-02-04T15:17:54.766095Z",
     "start_time": "2020-02-04T15:17:54.745098Z"
    }
   },
   "outputs": [],
   "source": [
    "Arab_Israeli_War = card(**Arab_Israeli_War)\n",
    "Asia_Scoring = card(**Asia_Scoring)\n",
    "Blockade = card(**Blockade)\n",
    "CIA_Created = card(**CIA_Created)\n",
    "COMECON = card(**COMECON)\n",
    "Captured_Nazi_Scientist = card(**Captured_Nazi_Scientist)\n",
    "Containment = card(**Containment)\n",
    "De_Gaulle_Leads_France = card(**De_Gaulle_Leads_France)\n",
    "De_Stalinization = card(**De_Stalinization)\n",
    "Decolonization = card(**Decolonization)\n",
    "Defectors = card(**Defectors)\n",
    "Duck_and_Cover = card(**Duck_and_Cover)\n",
    "East_European_Unrest = card(**East_European_Unrest)\n",
    "Europe_Scoring = card(**Europe_Scoring)\n",
    "Fidel = card(**Fidel)\n",
    "Five_Year_Plan = card(**Five_Year_Plan)\n",
    "Formosan_Resolution = card(**Formosan_Resolution)\n",
    "Independent_Reds = card(**Independent_Reds)\n",
    "Indo_Pakistani_War = card(**Indo_Pakistani_War)\n",
    "Korean_War = card(**Korean_War)\n",
    "Marshall_Plan = card(**Marshall_Plan)\n",
    "Middle_East_Scoring = card(**Middle_East_Scoring)\n",
    "NATO = card(**NATO)\n",
    "NORAD = card(**NORAD)\n",
    "Nasser = card(**Nasser)\n",
    "Nuclear_Test_Ban = card(**Nuclear_Test_Ban)\n",
    "Olympic_Games = card(**Olympic_Games)\n",
    "Red_Scare_Purge = card(**Red_Scare_Purge)\n",
    "Romanian_Abdication = card(**Romanian_Abdication)\n",
    "Socialist_Governments = card(**Socialist_Governments)\n",
    "Special_Relationship = card(**Special_Relationship)\n",
    "Suez_Crisis = card(**Suez_Crisis)\n",
    "The_Cambridge_Five = card(**The_Cambridge_Five)\n",
    "The_China_Card = card(**The_China_Card)\n",
    "Truman_Doctrine = card(**Truman_Doctrine)\n",
    "UN_Intervention = card(**UN_Intervention)\n",
    "US_Japan_Mutual_Defense_Pact = card(**US_Japan_Mutual_Defense_Pact)\n",
    "Vietnam_Revolts = card(**Vietnam_Revolts)\n",
    "Warsaw_Pact_Formed = card(**Warsaw_Pact_Formed)"
   ]
  },
  {
   "cell_type": "code",
   "execution_count": 5,
   "metadata": {
    "ExecuteTime": {
     "end_time": "2020-02-04T15:17:54.775096Z",
     "start_time": "2020-02-04T15:17:54.769094Z"
    }
   },
   "outputs": [],
   "source": [
    "us_hand = []\n",
    "ussr_hand = []\n",
    "removed_pile = []\n",
    "discard_pile = []\n",
    "draw_pile = []"
   ]
  },
  {
   "cell_type": "code",
   "execution_count": 6,
   "metadata": {
    "ExecuteTime": {
     "end_time": "2020-02-04T15:17:54.787125Z",
     "start_time": "2020-02-04T15:17:54.779096Z"
    }
   },
   "outputs": [],
   "source": [
    "'''Pre-headline setup'''\n",
    "ussr_hand.append(early_war_cards.pop('The_China_Card')) # Move the China card from the early war pile to USSR hand\n",
    "draw_pile.extend(early_war_cards.values()) # Put early war cards into the draw pile\n",
    "random.shuffle(draw_pile) # Shuffle the draw pile\n",
    "ussr_hand.extend([draw_pile.pop() for i in range(8)])\n",
    "us_hand.extend([draw_pile.pop() for i in range(8)])"
   ]
  },
  {
   "cell_type": "code",
   "execution_count": 7,
   "metadata": {
    "ExecuteTime": {
     "end_time": "2020-02-04T15:17:54.813093Z",
     "start_time": "2020-02-04T15:17:54.791096Z"
    },
    "scrolled": false
   },
   "outputs": [
    {
     "data": {
      "text/plain": [
       "[Korean_War - 2,\n",
       " NORAD - 3,\n",
       " Romanian_Abdication - 1,\n",
       " US_Japan_Mutual_Defense_Pact - 4,\n",
       " De_Stalinization - 3,\n",
       " Middle_East_Scoring,\n",
       " Fidel - 2,\n",
       " Vietnam_Revolts - 2,\n",
       " Marshall_Plan - 4,\n",
       " Blockade - 1,\n",
       " Captured_Nazi_Scientist - 1,\n",
       " Socialist_Governments - 3,\n",
       " Olympic_Games - 2,\n",
       " Arab_Israeli_War - 2,\n",
       " CIA_Created - 1,\n",
       " Nuclear_Test_Ban - 4,\n",
       " Suez_Crisis - 3,\n",
       " UN_Intervention - 1,\n",
       " The_Cambridge_Five - 2,\n",
       " Duck_and_Cover - 3,\n",
       " Independent_Reds - 2,\n",
       " Five_Year_Plan - 3]"
      ]
     },
     "execution_count": 7,
     "metadata": {},
     "output_type": "execute_result"
    }
   ],
   "source": [
    "draw_pile"
   ]
  },
  {
   "cell_type": "markdown",
   "metadata": {},
   "source": [
    "### Create the turn order\n",
    "1. Increase DEFCON status\n",
    "2. Deal Cards\n",
    "3. Headline Phase\n",
    "4. Action Rounds (advance round marker)\n",
    "5. Check milops\n",
    "6. Check for held scoring card\n",
    "7. Flip China Card\n",
    "8. Advance turn marker\n",
    "9. Final scoring (end T10)"
   ]
  },
  {
   "cell_type": "code",
   "execution_count": 8,
   "metadata": {
    "ExecuteTime": {
     "end_time": "2020-02-04T15:17:54.831093Z",
     "start_time": "2020-02-04T15:17:54.820095Z"
    }
   },
   "outputs": [
    {
     "data": {
      "text/plain": [
       "{'Arab_Israeli_War': Arab_Israeli_War - 2,\n",
       " 'Asia_Scoring': Asia_Scoring,\n",
       " 'Blockade': Blockade - 1,\n",
       " 'CIA_Created': CIA_Created - 1,\n",
       " 'COMECON': COMECON - 3,\n",
       " 'Captured_Nazi_Scientist': Captured_Nazi_Scientist - 1,\n",
       " 'Containment': Containment - 3,\n",
       " 'De_Gaulle_Leads_France': De_Gaulle_Leads_France - 3,\n",
       " 'De_Stalinization': De_Stalinization - 3,\n",
       " 'Decolonization': Decolonization - 2,\n",
       " 'Defectors': Defectors - 2,\n",
       " 'Duck_and_Cover': Duck_and_Cover - 3,\n",
       " 'East_European_Unrest': East_European_Unrest - 3,\n",
       " 'Europe_Scoring': Europe_Scoring,\n",
       " 'Fidel': Fidel - 2,\n",
       " 'Five_Year_Plan': Five_Year_Plan - 3,\n",
       " 'Formosan_Resolution': Formosan_Resolution - 2,\n",
       " 'Independent_Reds': Independent_Reds - 2,\n",
       " 'Indo_Pakistani_War': Indo_Pakistani_War - 2,\n",
       " 'Korean_War': Korean_War - 2,\n",
       " 'Marshall_Plan': Marshall_Plan - 4,\n",
       " 'Middle_East_Scoring': Middle_East_Scoring,\n",
       " 'NATO': NATO - 4,\n",
       " 'NORAD': NORAD - 3,\n",
       " 'Nasser': Nasser - 1,\n",
       " 'Nuclear_Test_Ban': Nuclear_Test_Ban - 4,\n",
       " 'Olympic_Games': Olympic_Games - 2,\n",
       " 'Red_Scare_Purge': Red_Scare_Purge - 4,\n",
       " 'Romanian_Abdication': Romanian_Abdication - 1,\n",
       " 'Socialist_Governments': Socialist_Governments - 3,\n",
       " 'Special_Relationship': Special_Relationship - 2,\n",
       " 'Suez_Crisis': Suez_Crisis - 3,\n",
       " 'The_Cambridge_Five': The_Cambridge_Five - 2,\n",
       " 'Truman_Doctrine': Truman_Doctrine - 1,\n",
       " 'UN_Intervention': UN_Intervention - 1,\n",
       " 'US_Japan_Mutual_Defense_Pact': US_Japan_Mutual_Defense_Pact - 4,\n",
       " 'Vietnam_Revolts': Vietnam_Revolts - 2,\n",
       " 'Warsaw_Pact_Formed': Warsaw_Pact_Formed - 3}"
      ]
     },
     "execution_count": 8,
     "metadata": {},
     "output_type": "execute_result"
    }
   ],
   "source": [
    "early_war_cards"
   ]
  },
  {
   "cell_type": "markdown",
   "metadata": {},
   "source": [
    "### Create space race track\n",
    "1. Create the buffs\n",
    "2. Need to add the additional functionality gained with being faster on the space race."
   ]
  },
  {
   "cell_type": "markdown",
   "metadata": {},
   "source": [
    "### Scoring Cards"
   ]
  },
  {
   "cell_type": "markdown",
   "metadata": {},
   "source": [
    "Hi Box. Below Asia_Scoring prints the right message but doesn't change the VP track. Problem with global variables?"
   ]
  },
  {
   "cell_type": "code",
   "execution_count": 9,
   "metadata": {
    "ExecuteTime": {
     "end_time": "2020-02-04T15:17:54.844095Z",
     "start_time": "2020-02-04T15:17:54.834094Z"
    }
   },
   "outputs": [
    {
     "name": "stdout",
     "output_type": "stream",
     "text": [
      "Asia scores for 1 VPs\n"
     ]
    },
    {
     "data": {
      "text/plain": [
       "0"
      ]
     },
     "execution_count": 9,
     "metadata": {},
     "output_type": "execute_result"
    }
   ],
   "source": [
    "Asia_Scoring.use_for_event()\n",
    "vp_track"
   ]
  }
 ],
 "metadata": {
  "kernelspec": {
   "display_name": "Python 3",
   "language": "python",
   "name": "python3"
  },
  "language_info": {
   "codemirror_mode": {
    "name": "ipython",
    "version": 3
   },
   "file_extension": ".py",
   "mimetype": "text/x-python",
   "name": "python",
   "nbconvert_exporter": "python",
   "pygments_lexer": "ipython3",
   "version": "3.6.9"
  }
 },
 "nbformat": 4,
 "nbformat_minor": 2
}
