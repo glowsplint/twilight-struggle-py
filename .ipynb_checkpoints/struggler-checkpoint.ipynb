{
 "cells": [
  {
   "cell_type": "markdown",
   "metadata": {},
   "source": [
    "### Twilight Struggle"
   ]
  },
  {
   "cell_type": "code",
   "execution_count": 1,
   "metadata": {
    "ExecuteTime": {
     "end_time": "2020-02-08T09:19:32.501872Z",
     "start_time": "2020-02-08T09:19:32.348876Z"
    }
   },
   "outputs": [],
   "source": [
    "import numpy as np\n",
    "import random\n",
    "\n",
    "from twilight_map import *\n",
    "from game_mechanics import *\n",
    "from twilight_cards import *"
   ]
  },
  {
   "cell_type": "markdown",
   "metadata": {},
   "source": [
    "### Setup"
   ]
  },
  {
   "cell_type": "markdown",
   "metadata": {},
   "source": [
    "### Create space race track\n",
    "1. Create the buffs\n",
    "2. Need to add the additional functionality gained with being faster on the space race."
   ]
  },
  {
   "cell_type": "markdown",
   "metadata": {},
   "source": [
    "### Scoring Cards"
   ]
  },
  {
   "cell_type": "code",
   "execution_count": 2,
   "metadata": {
    "ExecuteTime": {
     "end_time": "2020-02-08T09:19:33.166870Z",
     "start_time": "2020-02-08T09:19:32.504875Z"
    },
    "scrolled": true
   },
   "outputs": [
    {
     "name": "stdout",
     "output_type": "stream",
     "text": [
      "> q\n"
     ]
    }
   ],
   "source": [
    "# this is a temporary measure. It should go into UI.new()\n",
    "g = Game()\n",
    "g.start()\n",
    "Asia_Scoring.use_for_event()\n",
    "Europe_Scoring.use_for_event()\n",
    "g.ui.run()"
   ]
  },
  {
   "cell_type": "code",
   "execution_count": 3,
   "metadata": {
    "ExecuteTime": {
     "end_time": "2020-02-08T09:19:52.586082Z",
     "start_time": "2020-02-08T09:19:33.168585Z"
    }
   },
   "outputs": [
    {
     "name": "stdout",
     "output_type": "stream",
     "text": [
      "You may place influence in any of the following countries by typing in their country indices, separated by commas (no spaces).\n",
      "Romania, 21\n",
      "East_Germany, 16\n",
      "Poland, 17\n",
      "Yugoslavia, 20\n",
      "Czechoslovakia, 18\n",
      "Hungary, 19\n",
      "Austria, 14\n",
      "Bulgaria, 22\n",
      "Finland, 7\n",
      "> 7,7,7,7,7,7,7,7\n",
      "\n",
      "You may place influence in any of the following countries by typing in their country indices, separated by commas (no spaces).\n",
      "Romania, 21\n",
      "East_Germany, 16\n",
      "Poland, 17\n",
      "Yugoslavia, 20\n",
      "Czechoslovakia, 18\n",
      "Hungary, 19\n",
      "Austria, 14\n",
      "Bulgaria, 22\n",
      "Finland, 7\n",
      "> 7,7,7,7,7,7,7\n",
      "\n",
      "You may place influence in any of the following countries by typing in their country indices, separated by commas (no spaces).\n",
      "Romania, 21\n",
      "East_Germany, 16\n",
      "Poland, 17\n",
      "Yugoslavia, 20\n",
      "Czechoslovakia, 18\n",
      "Hungary, 19\n",
      "Austria, 14\n",
      "Bulgaria, 22\n",
      "Finland, 7\n",
      "> 7,7,7,7,7,7\n"
     ]
    }
   ],
   "source": [
    "g.stage.operations_influence(Side.USSR, 6, start_flag=True)"
   ]
  }
 ],
 "metadata": {
  "kernelspec": {
   "display_name": "Python 3",
   "language": "python",
   "name": "python3"
  },
  "language_info": {
   "codemirror_mode": {
    "name": "ipython",
    "version": 3
   },
   "file_extension": ".py",
   "mimetype": "text/x-python",
   "name": "python",
   "nbconvert_exporter": "python",
   "pygments_lexer": "ipython3",
   "version": "3.6.9"
  }
 },
 "nbformat": 4,
 "nbformat_minor": 2
}
