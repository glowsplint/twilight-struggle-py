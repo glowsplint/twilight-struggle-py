{
 "cells": [
  {
   "cell_type": "code",
   "execution_count": 1,
   "metadata": {
    "ExecuteTime": {
     "end_time": "2020-01-29T09:44:14.470812Z",
     "start_time": "2020-01-29T09:44:13.790806Z"
    }
   },
   "outputs": [],
   "source": [
    "import pandas as pd\n",
    "import numpy as np\n",
    "from twilight_map import *\n",
    "# from twilight_cards import *"
   ]
  },
  {
   "cell_type": "code",
   "execution_count": 74,
   "metadata": {
    "ExecuteTime": {
     "end_time": "2020-01-29T15:14:01.164619Z",
     "start_time": "2020-01-29T15:14:01.161626Z"
    }
   },
   "outputs": [],
   "source": [
    "# %whos"
   ]
  },
  {
   "cell_type": "code",
   "execution_count": null,
   "metadata": {
    "ExecuteTime": {
     "end_time": "2020-01-29T09:16:04.304443Z",
     "start_time": "2020-01-29T09:16:04.285449Z"
    }
   },
   "outputs": [],
   "source": [
    "Mexico"
   ]
  },
  {
   "cell_type": "code",
   "execution_count": null,
   "metadata": {
    "ExecuteTime": {
     "end_time": "2020-01-29T09:16:05.900872Z",
     "start_time": "2020-01-29T09:16:05.894873Z"
    }
   },
   "outputs": [],
   "source": [
    "Zimbabwe"
   ]
  },
  {
   "cell_type": "code",
   "execution_count": 2,
   "metadata": {
    "ExecuteTime": {
     "end_time": "2020-01-29T09:44:52.663066Z",
     "start_time": "2020-01-29T09:44:52.657069Z"
    }
   },
   "outputs": [],
   "source": [
    "'''Creating an environment to place influence'''\n",
    "# Writing a few utility functions to make testing easier\n",
    "\n",
    "def set_influence(country, us_influence, ussr_influence):\n",
    "    country['us_influence'] = us_influence\n",
    "    country['ussr_influence'] = ussr_influence\n",
    "\n",
    "def reset_influence(country):\n",
    "    country['us_influence'] = 0\n",
    "    country['ussr_influence'] = 0\n",
    "\n",
    "def adjust_influence(country, side, amount_of_influence):\n",
    "    country[str(side)+'_influence'] += amount_of_influence"
   ]
  },
  {
   "cell_type": "code",
   "execution_count": 5,
   "metadata": {
    "ExecuteTime": {
     "end_time": "2020-01-29T09:45:07.609805Z",
     "start_time": "2020-01-29T09:45:07.598802Z"
    }
   },
   "outputs": [],
   "source": [
    "def place_influence(country, side, effective_operations_points):\n",
    "    if side == 'ussr' and country['us_influence'] - country['ussr_influence'] >= country['stability']:\n",
    "        # here we deduct 2 from effective_operations_points, to place 1 influence in the country, and then call the function again\n",
    "        if effective_operations_points >= 2:\n",
    "            adjust_influence(country, 'ussr', 1)\n",
    "        else:\n",
    "            raise ValueError('Not enough operations points!')\n",
    "        if effective_operations_points - 2 > 0:\n",
    "            place_influence(country, side, effective_operations_points - 2)\n",
    "    elif side == 'us' and country['ussr_influence'] - country['us_influence'] >= country['stability']:\n",
    "        # here we deduct 2 from effective_operations_points, to place 1 influence in the country, and then call the function again\n",
    "        if effective_operations_points >= 2:\n",
    "            adjust_influence(country, 'us', 1)\n",
    "        else:\n",
    "            raise ValueError('Not enough operations points!')\n",
    "        if effective_operations_points - 2 > 0:\n",
    "            place_influence(country, side, effective_operations_points - 2)\n",
    "    else:\n",
    "        adjust_influence(Mexico, side, effective_operations_points)"
   ]
  },
  {
   "cell_type": "code",
   "execution_count": 6,
   "metadata": {
    "ExecuteTime": {
     "end_time": "2020-01-29T09:45:08.108321Z",
     "start_time": "2020-01-29T09:45:08.102311Z"
    }
   },
   "outputs": [
    {
     "data": {
      "text/plain": [
       "{'country_name': 'Mexico',\n",
       " 'country_index': 67,\n",
       " 'region': 'Central America',\n",
       " 'stability': 2,\n",
       " 'battleground': True,\n",
       " 'adjacent_countries': ['Guatemala', 'USA'],\n",
       " 'us_influence': 0,\n",
       " 'ussr_influence': 0}"
      ]
     },
     "execution_count": 6,
     "metadata": {},
     "output_type": "execute_result"
    }
   ],
   "source": [
    "Mexico"
   ]
  },
  {
   "cell_type": "code",
   "execution_count": 8,
   "metadata": {
    "ExecuteTime": {
     "end_time": "2020-01-29T09:45:20.744369Z",
     "start_time": "2020-01-29T09:45:20.740368Z"
    }
   },
   "outputs": [],
   "source": [
    "set_influence(Mexico, 6, 1)"
   ]
  },
  {
   "cell_type": "code",
   "execution_count": 9,
   "metadata": {
    "ExecuteTime": {
     "end_time": "2020-01-29T09:45:24.768990Z",
     "start_time": "2020-01-29T09:45:24.763987Z"
    }
   },
   "outputs": [
    {
     "data": {
      "text/plain": [
       "{'country_name': 'Mexico',\n",
       " 'country_index': 67,\n",
       " 'region': 'Central America',\n",
       " 'stability': 2,\n",
       " 'battleground': True,\n",
       " 'adjacent_countries': ['Guatemala', 'USA'],\n",
       " 'us_influence': 6,\n",
       " 'ussr_influence': 1}"
      ]
     },
     "execution_count": 9,
     "metadata": {},
     "output_type": "execute_result"
    }
   ],
   "source": [
    "Mexico"
   ]
  },
  {
   "cell_type": "code",
   "execution_count": null,
   "metadata": {
    "ExecuteTime": {
     "end_time": "2020-01-29T09:38:35.573382Z",
     "start_time": "2020-01-29T09:38:35.570379Z"
    }
   },
   "outputs": [],
   "source": [
    "reset_influence(Mexico)"
   ]
  },
  {
   "cell_type": "code",
   "execution_count": null,
   "metadata": {
    "ExecuteTime": {
     "end_time": "2020-01-23T11:03:44.174831Z",
     "start_time": "2020-01-23T11:03:44.168830Z"
    }
   },
   "outputs": [],
   "source": [
    "'''Here, we recreate the coup and realignment logic'''"
   ]
  },
  {
   "cell_type": "code",
   "execution_count": 12,
   "metadata": {
    "ExecuteTime": {
     "end_time": "2020-01-29T10:13:52.665088Z",
     "start_time": "2020-01-29T10:13:52.658083Z"
    }
   },
   "outputs": [
    {
     "data": {
      "text/plain": [
       "{'ussr'}"
      ]
     },
     "execution_count": 12,
     "metadata": {},
     "output_type": "execute_result"
    }
   ],
   "source": [
    "set(['us', 'ussr']) - set(['us'])"
   ]
  },
  {
   "cell_type": "code",
   "execution_count": 68,
   "metadata": {
    "ExecuteTime": {
     "end_time": "2020-01-29T11:11:52.848437Z",
     "start_time": "2020-01-29T11:11:52.843432Z"
    }
   },
   "outputs": [],
   "source": [
    "sider = 'us'"
   ]
  },
  {
   "cell_type": "code",
   "execution_count": 71,
   "metadata": {
    "ExecuteTime": {
     "end_time": "2020-01-29T11:12:44.747014Z",
     "start_time": "2020-01-29T11:12:44.741011Z"
    }
   },
   "outputs": [
    {
     "data": {
      "text/plain": [
       "{'ussr'}"
      ]
     },
     "execution_count": 71,
     "metadata": {},
     "output_type": "execute_result"
    }
   ],
   "source": [
    "set(['us', 'ussr']) - set([sider])"
   ]
  },
  {
   "cell_type": "code",
   "execution_count": 57,
   "metadata": {
    "ExecuteTime": {
     "end_time": "2020-01-29T11:01:43.692336Z",
     "start_time": "2020-01-29T11:01:43.681331Z"
    }
   },
   "outputs": [],
   "source": [
    "def coup(side, country, effective_operations_points):\n",
    "    # can't coup if no opposing influence in the country\n",
    "    if set(['us', 'ussr']) - set([side]) == 'us':\n",
    "        set()\n",
    "    \n",
    "    # can't coup under defcon restrictions\n",
    "    \n",
    "    die_roll = np.random.randint(6) + 1\n",
    "    difference = die_roll + effective_operations_points - country['stability']*2\n",
    "    if difference > 0:\n",
    "        # successful coup!\n",
    "        if side == 'us':\n",
    "            # subtract from opposing first.. and then add to yours\n",
    "            if difference > country['ussr_influence']:\n",
    "                adjust_influence(country, 'us', difference - country['ussr_influence'])\n",
    "            adjust_influence(country, 'ussr', -min(difference, country['us_influence']))\n",
    "            \n",
    "        if side == 'ussr':\n",
    "            if difference > country['us_influence']:\n",
    "                adjust_influence(country, 'ussr', difference - country['us_influence'])\n",
    "            adjust_influence(country, 'us', -min(difference, country['us_influence']))\n",
    "        print(f'Coup successful with roll of {die_roll}! Difference: {difference}')\n",
    "    else:\n",
    "        # failed coup...\n",
    "        print(f'Coup failed with roll of {die_roll}')\n",
    "    \n",
    "    # add military points\n",
    "    # if battleground country, reduce defcon"
   ]
  },
  {
   "cell_type": "code",
   "execution_count": 58,
   "metadata": {
    "ExecuteTime": {
     "end_time": "2020-01-29T11:01:45.174861Z",
     "start_time": "2020-01-29T11:01:45.169860Z"
    }
   },
   "outputs": [],
   "source": [
    "set_influence(Mexico, 4,4)"
   ]
  },
  {
   "cell_type": "code",
   "execution_count": 65,
   "metadata": {
    "ExecuteTime": {
     "end_time": "2020-01-29T11:01:56.590014Z",
     "start_time": "2020-01-29T11:01:56.584011Z"
    }
   },
   "outputs": [
    {
     "data": {
      "text/plain": [
       "{'country_name': 'Mexico',\n",
       " 'country_index': 67,\n",
       " 'region': 'Central America',\n",
       " 'stability': 2,\n",
       " 'battleground': True,\n",
       " 'adjacent_countries': ['Guatemala', 'USA'],\n",
       " 'us_influence': 0,\n",
       " 'ussr_influence': 4}"
      ]
     },
     "execution_count": 65,
     "metadata": {},
     "output_type": "execute_result"
    }
   ],
   "source": [
    "Mexico"
   ]
  },
  {
   "cell_type": "code",
   "execution_count": 66,
   "metadata": {
    "ExecuteTime": {
     "end_time": "2020-01-29T11:01:57.905137Z",
     "start_time": "2020-01-29T11:01:57.899141Z"
    }
   },
   "outputs": [
    {
     "name": "stdout",
     "output_type": "stream",
     "text": [
      "Coup successful with roll of 2! Difference: 1\n"
     ]
    }
   ],
   "source": [
    "coup('ussr', Mexico, 3)"
   ]
  },
  {
   "cell_type": "code",
   "execution_count": 67,
   "metadata": {
    "ExecuteTime": {
     "end_time": "2020-01-29T11:01:59.693366Z",
     "start_time": "2020-01-29T11:01:59.687366Z"
    }
   },
   "outputs": [
    {
     "data": {
      "text/plain": [
       "{'country_name': 'Mexico',\n",
       " 'country_index': 67,\n",
       " 'region': 'Central America',\n",
       " 'stability': 2,\n",
       " 'battleground': True,\n",
       " 'adjacent_countries': ['Guatemala', 'USA'],\n",
       " 'us_influence': 0,\n",
       " 'ussr_influence': 5}"
      ]
     },
     "execution_count": 67,
     "metadata": {},
     "output_type": "execute_result"
    }
   ],
   "source": [
    "Mexico"
   ]
  },
  {
   "cell_type": "code",
   "execution_count": 75,
   "metadata": {
    "ExecuteTime": {
     "end_time": "2020-01-29T15:16:49.472492Z",
     "start_time": "2020-01-29T15:16:49.457491Z"
    }
   },
   "outputs": [],
   "source": [
    "def build_standard_map():\n",
    "    set_influence(Panama, 1, 0)\n",
    "    set_influence(Canada, 2, 0)\n",
    "    set_influence(UK, 2, 0)\n",
    "    set_influence(North_Korea, 0, 1)\n",
    "    set_influence(East_Germany, 0, 3)\n",
    "    set_influence(Finland, 0, 1)\n",
    "    set_influence(Syria, 0, 1)\n",
    "    set_influence(Israel, 1, 0)\n",
    "    set_influence(Iraq, 0, 1)\n",
    "    set_influence(Iran, 1, 0)\n",
    "    set_influence(North_Korea, 0, 3)\n",
    "    set_influence(South_Korea, 1, 0)\n",
    "    set_influence(Japan, 1, 0)\n",
    "    set_influence(Philippines, 1, 0)\n",
    "    set_influence(Australia, 4, 0)\n",
    "    set_influence(South_Africa, 1, 0)"
   ]
  },
  {
   "cell_type": "code",
   "execution_count": 76,
   "metadata": {
    "ExecuteTime": {
     "end_time": "2020-01-29T15:16:55.462559Z",
     "start_time": "2020-01-29T15:16:55.457561Z"
    }
   },
   "outputs": [],
   "source": [
    "build_standard_map()"
   ]
  },
  {
   "cell_type": "code",
   "execution_count": 80,
   "metadata": {
    "ExecuteTime": {
     "end_time": "2020-01-29T15:31:15.254840Z",
     "start_time": "2020-01-29T15:31:15.239838Z"
    }
   },
   "outputs": [
    {
     "ename": "TypeError",
     "evalue": "string indices must be integers",
     "output_type": "error",
     "traceback": [
      "\u001b[1;31m---------------------------------------------------------------------------\u001b[0m",
      "\u001b[1;31mTypeError\u001b[0m                                 Traceback (most recent call last)",
      "\u001b[1;32m<ipython-input-80-f49cc2aba02e>\u001b[0m in \u001b[0;36m<module>\u001b[1;34m\u001b[0m\n\u001b[0;32m      1\u001b[0m \u001b[1;32mfor\u001b[0m \u001b[0madjacent_country\u001b[0m \u001b[1;32min\u001b[0m \u001b[0mMexico\u001b[0m\u001b[1;33m[\u001b[0m\u001b[1;34m'adjacent_countries'\u001b[0m\u001b[1;33m]\u001b[0m\u001b[1;33m:\u001b[0m\u001b[1;33m\u001b[0m\u001b[1;33m\u001b[0m\u001b[0m\n\u001b[1;32m----> 2\u001b[1;33m     \u001b[0madjacent_country\u001b[0m\u001b[1;33m[\u001b[0m\u001b[1;34m'us_influence'\u001b[0m\u001b[1;33m]\u001b[0m \u001b[1;33m>\u001b[0m \u001b[0madjacent_country\u001b[0m\u001b[1;33m[\u001b[0m\u001b[1;34m'ussr_influence'\u001b[0m\u001b[1;33m]\u001b[0m\u001b[1;33m\u001b[0m\u001b[1;33m\u001b[0m\u001b[0m\n\u001b[0m",
      "\u001b[1;31mTypeError\u001b[0m: string indices must be integers"
     ]
    }
   ],
   "source": [
    "for adjacent_country in Mexico['adjacent_countries']:\n",
    "    adjacent_country['us_influence'] > adjacent_country['ussr_influence']"
   ]
  },
  {
   "cell_type": "code",
   "execution_count": null,
   "metadata": {},
   "outputs": [],
   "source": [
    "def realignment(side, country):\n",
    "    "
   ]
  }
 ],
 "metadata": {
  "kernelspec": {
   "display_name": "Python 3",
   "language": "python",
   "name": "python3"
  },
  "language_info": {
   "codemirror_mode": {
    "name": "ipython",
    "version": 3
   },
   "file_extension": ".py",
   "mimetype": "text/x-python",
   "name": "python",
   "nbconvert_exporter": "python",
   "pygments_lexer": "ipython3",
   "version": "3.6.9"
  }
 },
 "nbformat": 4,
 "nbformat_minor": 2
}
