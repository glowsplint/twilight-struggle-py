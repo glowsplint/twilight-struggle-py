{
 "cells": [
  {
   "cell_type": "markdown",
   "metadata": {},
   "source": [
    "### Twilight Struggle"
   ]
  },
  {
   "cell_type": "code",
   "execution_count": 1,
   "metadata": {
    "ExecuteTime": {
     "end_time": "2020-02-18T04:16:00.715455Z",
     "start_time": "2020-02-18T04:16:00.667446Z"
    }
   },
   "outputs": [],
   "source": [
    "from twilight_ui import *"
   ]
  },
  {
   "cell_type": "markdown",
   "metadata": {},
   "source": [
    "### Game Instance"
   ]
  },
  {
   "cell_type": "code",
   "execution_count": null,
   "metadata": {
    "ExecuteTime": {
     "start_time": "2020-02-18T04:16:00.667Z"
    }
   },
   "outputs": [
    {
     "name": "stdout",
     "output_type": "stream",
     "text": [
      "Initalising game..\n",
      "> new\n",
      "Starting new game.\n",
      "----- USSR Player: -----\n",
      "Place starting influence.\n",
      "Remaining influence: 1\n",
      "Options: Austria, Bulgaria, Czechoslovakia, East_Germany, Finland, Hungary, Poland, Romania, Yugoslavia\n",
      "> m a\n",
      "Selected: Austria.\n",
      "----- USSR Player: -----\n",
      "Place starting influence.\n",
      "You have selected Austria\n",
      "Remaining influence: 0\n",
      "Commit your actions? (Yes/No)\n",
      "> m y\n",
      "----- US Player: -----\n",
      "Place starting influence.\n",
      "Remaining influence: 1\n",
      "Options: Austria, Benelux, Canada, Denmark, Finland, France, Greece, Italy, Norway, Spain_Portugal, Sweden, Turkey, UK, West_Germany\n",
      "> m fi\n",
      "Selected: Finland.\n",
      "----- US Player: -----\n",
      "Place starting influence.\n",
      "You have selected Finland\n",
      "Remaining influence: 0\n",
      "Commit your actions? (Yes/No)\n",
      "> m y\n",
      "----- US Player: -----\n",
      "Place additional starting influence.\n",
      "Remaining influence: 2\n",
      "Options: Australia, Canada, Finland, Iran, Israel, Japan, Panama, Philippines, South_Africa, South_Korea, UK\n",
      "> m fi\n",
      "Selected: Finland.\n",
      "----- US Player: -----\n",
      "Place additional starting influence.\n",
      "You have selected Finland\n",
      "Remaining influence: 1\n",
      "Options: Australia, Canada, Finland, Iran, Israel, Japan, Panama, Philippines, South_Africa, South_Korea, UK\n",
      "> m fi\n",
      "Selected: Finland.\n",
      "----- US Player: -----\n",
      "Place additional starting influence.\n",
      "You have selected Finland, Finland\n",
      "Remaining influence: 0\n",
      "Commit your actions? (Yes/No)\n",
      "> m y\n",
      "----- USSR Player: -----\n",
      "Select headline.\n",
      "Options: Asia_Scoring, De_Stalinization, Decolonization, East_European_Unrest, Independent_Reds, Korean_War, Middle_East_Scoring, NATO, NORAD, Red_Scare_Purge, Suez_Crisis, Truman_Doctrine\n"
     ]
    }
   ],
   "source": [
    "u = UI()\n",
    "u.run()"
   ]
  },
  {
   "cell_type": "code",
   "execution_count": null,
   "metadata": {
    "ExecuteTime": {
     "start_time": "2020-02-18T04:16:00.670Z"
    }
   },
   "outputs": [],
   "source": [
    "u.game._Marshall_Plan(Side.US)"
   ]
  }
 ],
 "metadata": {
  "kernelspec": {
   "display_name": "Python 3",
   "language": "python",
   "name": "python3"
  },
  "language_info": {
   "codemirror_mode": {
    "name": "ipython",
    "version": 3
   },
   "file_extension": ".py",
   "mimetype": "text/x-python",
   "name": "python",
   "nbconvert_exporter": "python",
   "pygments_lexer": "ipython3",
   "version": "3.8.1"
  }
 },
 "nbformat": 4,
 "nbformat_minor": 2
}
