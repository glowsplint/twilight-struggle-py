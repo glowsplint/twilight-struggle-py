{
 "cells": [
  {
   "cell_type": "markdown",
   "metadata": {},
   "source": [
    "### Twilight Struggle"
   ]
  },
  {
   "cell_type": "code",
   "execution_count": 1,
   "metadata": {
    "ExecuteTime": {
     "end_time": "2020-02-09T13:22:41.002243Z",
     "start_time": "2020-02-09T13:22:40.859246Z"
    }
   },
   "outputs": [],
   "source": [
    "import numpy as np\n",
    "import random\n",
    "\n",
    "from twilight_map import *\n",
    "from game_mechanics import *\n",
    "from twilight_cards import *"
   ]
  },
  {
   "cell_type": "markdown",
   "metadata": {},
   "source": [
    "### Game Instance"
   ]
  },
  {
   "cell_type": "code",
   "execution_count": 2,
   "metadata": {
    "ExecuteTime": {
     "end_time": "2020-02-09T13:22:43.710039Z",
     "start_time": "2020-02-09T13:22:41.004240Z"
    },
    "scrolled": false
   },
   "outputs": [
    {
     "name": "stdout",
     "output_type": "stream",
     "text": [
      "Initalising game..\n",
      "[]\n",
      "[Fidel - 2, Marshall_Plan - 4, Captured_Nazi_Scientist - 1, CIA_Created - 1, Containment - 3, Socialist_Governments - 3, Five_Year_Plan - 3, NATO - 4, De_Stalinization - 3, Vietnam_Revolts - 2, Olympic_Games - 2, US_Japan_Mutual_Defense_Pact - 4, UN_Intervention - 1, Special_Relationship - 2, Suez_Crisis - 3, Independent_Reds - 2, De_Gaulle_Leads_France - 3, Decolonization - 2, East_European_Unrest - 3, COMECON - 3, Duck_and_Cover - 3, Korean_War - 2, The_Cambridge_Five - 2, Warsaw_Pact_Formed - 3, Indo_Pakistani_War - 2, NORAD - 3, Defectors - 2, Nuclear_Test_Ban - 4, Formosan_Resolution - 2, Nasser - 1, Blockade - 1, Red_Scare_Purge - 4, Europe_Scoring, Middle_East_Scoring, Romanian_Abdication - 1, Arab_Israeli_War - 2, Truman_Doctrine - 1]\n",
      "\n",
      "----- USSR Player: -----\n",
      "You may modify 6 influence in these countries. Type in their country indices, separated by commas (no spaces).\n",
      "East_Germany, 16\n",
      "Hungary, 19\n",
      "Finland, 7\n",
      "Romania, 21\n",
      "Czechoslovakia, 18\n",
      "Poland, 17\n",
      "Bulgaria, 22\n",
      "Austria, 14\n",
      "Yugoslavia, 20\n",
      "> q\n",
      "\n",
      "----- US Player: -----\n",
      "You may modify 7 influence in these countries. Type in their country indices, separated by commas (no spaces).\n",
      "Italy, 12\n",
      "Finland, 7\n",
      "Denmark, 8\n",
      "UK, 4\n",
      "Benelux, 9\n",
      "France, 10\n",
      "Sweden, 6\n",
      "Greece, 13\n",
      "Turkey, 23\n",
      "Canada, 3\n",
      "Spain_Portugal, 11\n",
      "Austria, 14\n",
      "West_Germany, 15\n",
      "Norway, 5\n",
      "> q\n",
      "\n",
      "----- US Player: -----\n",
      "You may modify 2 influence in these countries. Type in their country indices, separated by commas (no spaces).\n",
      "US, 2\n",
      "Canada, 3\n",
      "UK, 4\n",
      "Israel, 26\n",
      "Iran, 30\n",
      "Australia, 42\n",
      "Philippines, 44\n",
      "Japan, 45\n",
      "South_Korea, 47\n",
      "South_Africa, 59\n",
      "Panama, 72\n",
      "> q\n",
      "USSR Victory!\n",
      "Final scoring complete.\n",
      "USSR Victory!\n",
      "Final scoring complete.\n",
      "USSR Victory!\n",
      "Final scoring complete.\n",
      "USSR Victory!\n",
      "Final scoring complete.\n",
      "USSR Victory!\n",
      "Final scoring complete.\n",
      "USSR Victory!\n",
      "Final scoring complete.\n",
      "USSR Victory!\n",
      "Final scoring complete.\n",
      "End of game.\n"
     ]
    }
   ],
   "source": [
    "# this is a temporary measure. It should go into UI.new()\n",
    "g = Game()\n",
    "g.ui.run()"
   ]
  },
  {
   "cell_type": "code",
   "execution_count": 3,
   "metadata": {
    "ExecuteTime": {
     "end_time": "2020-02-09T13:22:43.732040Z",
     "start_time": "2020-02-09T13:22:43.713041Z"
    }
   },
   "outputs": [
    {
     "data": {
      "text/plain": [
       "[The_China_Card - 4,\n",
       " Asia_Scoring,\n",
       " Truman_Doctrine - 1,\n",
       " Romanian_Abdication - 1,\n",
       " Europe_Scoring,\n",
       " Blockade - 1,\n",
       " Formosan_Resolution - 2,\n",
       " Defectors - 2,\n",
       " Indo_Pakistani_War - 2,\n",
       " Bear_Trap - 3]"
      ]
     },
     "execution_count": 3,
     "metadata": {},
     "output_type": "execute_result"
    }
   ],
   "source": [
    "g.ussr_hand"
   ]
  }
 ],
 "metadata": {
  "kernelspec": {
   "display_name": "Python 3",
   "language": "python",
   "name": "python3"
  },
  "language_info": {
   "codemirror_mode": {
    "name": "ipython",
    "version": 3
   },
   "file_extension": ".py",
   "mimetype": "text/x-python",
   "name": "python",
   "nbconvert_exporter": "python",
   "pygments_lexer": "ipython3",
   "version": "3.8.1"
  }
 },
 "nbformat": 4,
 "nbformat_minor": 2
}
