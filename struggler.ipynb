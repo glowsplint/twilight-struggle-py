{
 "cells": [
  {
   "cell_type": "markdown",
   "metadata": {},
   "source": [
    "### Twilight Struggle"
   ]
  },
  {
   "cell_type": "code",
   "execution_count": 1,
   "metadata": {
    "ExecuteTime": {
     "end_time": "2020-02-17T16:17:47.697287Z",
     "start_time": "2020-02-17T16:17:47.686275Z"
    }
   },
   "outputs": [],
   "source": [
    "from twilight_ui import *"
   ]
  },
  {
   "cell_type": "markdown",
   "metadata": {},
   "source": [
    "### Game Instance"
   ]
  },
  {
   "cell_type": "code",
   "execution_count": null,
   "metadata": {
    "ExecuteTime": {
     "start_time": "2020-02-17T16:17:47.686Z"
    }
   },
   "outputs": [
    {
     "name": "stdout",
     "output_type": "stream",
     "text": [
      "Initalising game..\n",
      "> new\n",
      "Starting new game.\n",
      "----- USSR Player: -----\n",
      "Place starting influence.\n",
      "Remaining influence: 1\n",
      "Options: Austria, Bulgaria, Czechoslovakia, East_Germany, Finland, Hungary, Poland, Romania, Yugoslavia\n",
      "> m a\n",
      "Selected: Austria.\n",
      "----- USSR Player: -----\n",
      "Place starting influence.\n",
      "You have selected Austria\n",
      "Remaining influence: 0\n",
      "Commit your actions? (Yes/No)\n",
      "> m y\n",
      "----- US Player: -----\n",
      "Place starting influence.\n",
      "Remaining influence: 1\n",
      "Options: Austria, Benelux, Canada, Denmark, Finland, France, Greece, Italy, Norway, Spain_Portugal, Sweden, Turkey, UK, West_Germany\n",
      "> m fi\n",
      "Selected: Finland.\n",
      "----- US Player: -----\n",
      "Place starting influence.\n",
      "You have selected Finland\n",
      "Remaining influence: 0\n",
      "Commit your actions? (Yes/No)\n",
      "> m y\n",
      "----- US Player: -----\n",
      "Place additional starting influence.\n",
      "Remaining influence: 2\n",
      "Options: Australia, Canada, Finland, Iran, Israel, Japan, Panama, Philippines, South_Africa, South_Korea, UK\n",
      "> m fi\n",
      "Selected: Finland.\n",
      "----- US Player: -----\n",
      "Place additional starting influence.\n",
      "You have selected Finland\n",
      "Remaining influence: 1\n",
      "Options: Australia, Canada, Finland, Iran, Israel, Japan, Panama, Philippines, South_Africa, South_Korea, UK\n",
      "> m fi\n",
      "Selected: Finland.\n",
      "----- US Player: -----\n",
      "Place additional starting influence.\n",
      "You have selected Finland, Finland\n",
      "Remaining influence: 0\n",
      "Commit your actions? (Yes/No)\n",
      "> m y\n",
      "----- USSR Player: -----\n",
      "Select headline.\n",
      "Options: Asia_Scoring, Containment, De_Stalinization, Duck_and_Cover, East_European_Unrest, Independent_Reds, Indo_Pakistani_War, Middle_East_Scoring, NORAD, Nuclear_Test_Ban, Olympic_Games, Special_Relationship\n",
      "> m as\n",
      "Selected: Asia_Scoring.\n",
      "----- USSR Player: -----\n",
      "Select headline.\n",
      "You have selected Asia_Scoring\n",
      "Commit your actions? (Yes/No)\n",
      "> m y\n",
      "----- US Player: -----\n",
      "Select headline.\n",
      "Options: Blockade, Captured_Nazi_Scientist, Decolonization, Defectors, Formosan_Resolution, Korean_War, Nasser, Red_Scare_Purge, Socialist_Governments, Suez_Crisis, Warsaw_Pact_Formed\n",
      "> m wa\n",
      "Selected: Warsaw_Pact_Formed.\n",
      "----- US Player: -----\n",
      "Select headline.\n",
      "You have selected Warsaw_Pact_Formed\n",
      "Commit your actions? (Yes/No)\n",
      "> m y\n",
      "----- USSR Player: -----\n",
      "Warsaw Pact: Choose between two options.\n",
      "Options: Add 5 USSR Influence to any countries in Eastern Europe, Remove all US influence from 4 countries in Eastern Europe\n",
      "> m rem\n",
      "Selected: Remove all US influence from 4 countries in Eastern Europe.\n",
      "----- USSR Player: -----\n",
      "Warsaw Pact Formed: Remove all US influence from 4 countries in Eastern Europe.\n",
      "Remaining influence: 4\n",
      "Options: Finland\n",
      "> m fi\n",
      "Selected: Finland.\n",
      "----- USSR Player: -----\n",
      "Warsaw Pact Formed: Remove all US influence from 4 countries in Eastern Europe.\n",
      "You have selected Finland\n",
      "Remaining influence: 3\n",
      "Options: \n",
      "> m fi\n",
      "Error: no matching option!\n",
      "----- USSR Player: -----\n",
      "Warsaw Pact Formed: Remove all US influence from 4 countries in Eastern Europe.\n",
      "You have selected Finland\n",
      "Remaining influence: 3\n",
      "Options: \n",
      "> m\n",
      "----- USSR Player: -----\n",
      "Warsaw Pact Formed: Remove all US influence from 4 countries in Eastern Europe.\n",
      "You have selected Finland\n",
      "Remaining influence: 3\n",
      "Options: \n",
      "> m y\n",
      "Error: no matching option!\n",
      "----- USSR Player: -----\n",
      "Warsaw Pact Formed: Remove all US influence from 4 countries in Eastern Europe.\n",
      "You have selected Finland\n",
      "Remaining influence: 3\n",
      "Options: \n"
     ]
    }
   ],
   "source": [
    "u = UI()\n",
    "u.run()"
   ]
  },
  {
   "cell_type": "code",
   "execution_count": null,
   "metadata": {
    "ExecuteTime": {
     "start_time": "2020-02-17T16:17:47.689Z"
    }
   },
   "outputs": [],
   "source": [
    "u.game._Marshall_Plan(Side.US)"
   ]
  }
 ],
 "metadata": {
  "kernelspec": {
   "display_name": "Python 3",
   "language": "python",
   "name": "python3"
  },
  "language_info": {
   "codemirror_mode": {
    "name": "ipython",
    "version": 3
   },
   "file_extension": ".py",
   "mimetype": "text/x-python",
   "name": "python",
   "nbconvert_exporter": "python",
   "pygments_lexer": "ipython3",
   "version": "3.8.1"
  }
 },
 "nbformat": 4,
 "nbformat_minor": 2
}
