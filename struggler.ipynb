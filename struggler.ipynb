{
 "cells": [
  {
   "cell_type": "markdown",
   "metadata": {},
   "source": [
    "### Twilight Struggle"
   ]
  },
  {
   "cell_type": "code",
   "execution_count": 1,
   "metadata": {
    "ExecuteTime": {
     "end_time": "2020-02-17T07:42:25.159134Z",
     "start_time": "2020-02-17T07:42:25.148137Z"
    }
   },
   "outputs": [],
   "source": [
    "from twilight_ui import *"
   ]
  },
  {
   "cell_type": "markdown",
   "metadata": {},
   "source": [
    "### Game Instance"
   ]
  },
  {
   "cell_type": "code",
   "execution_count": 2,
   "metadata": {
    "ExecuteTime": {
     "end_time": "2020-02-17T07:52:51.251365Z",
     "start_time": "2020-02-17T07:42:25.162132Z"
    },
    "scrolled": false
   },
   "outputs": [
    {
     "name": "stdout",
     "output_type": "stream",
     "text": [
      "Initalising game..\n",
      "> new\n",
      "Starting new game.\n",
      "----- USSR Player: -----\n",
      "Place starting influence.\n",
      "Remaining influence: 1\n",
      "Options: Austria, Bulgaria, Czechoslovakia, East_Germany, Finland, Hungary, Poland, Romania, Yugoslavia\n",
      "> s eu\n",
      "State of EUROPE:\n",
      "Austria             US 0:0 USSR \n",
      "Benelux             US 0:0 USSR \n",
      "Bulgaria            US 0:0 USSR \n",
      "Canada              US 2:0 USSR \n",
      "Czechoslovakia      US 0:0 USSR \n",
      "Denmark             US 0:0 USSR \n",
      "East_Germany        US 0:3 USSR [USSR control]\n",
      "Finland             US 0:1 USSR \n",
      "France              US 0:0 USSR \n",
      "Greece              US 0:0 USSR \n",
      "Hungary             US 0:0 USSR \n",
      "Italy               US 0:0 USSR \n",
      "Norway              US 0:0 USSR \n",
      "Poland              US 0:0 USSR \n",
      "Romania             US 0:0 USSR \n",
      "Spain_Portugal      US 0:0 USSR \n",
      "Sweden              US 0:0 USSR \n",
      "Turkey              US 0:0 USSR \n",
      "UK                  US 5:0 USSR [US control]\n",
      "West_Germany        US 0:0 USSR \n",
      "Yugoslavia          US 0:0 USSR \n",
      "Score state currently unimplemented\n",
      "> exit\n"
     ]
    }
   ],
   "source": [
    "u = UI()\n",
    "u.run()"
   ]
  },
  {
   "cell_type": "code",
   "execution_count": 3,
   "metadata": {
    "ExecuteTime": {
     "end_time": "2020-02-17T07:53:10.638231Z",
     "start_time": "2020-02-17T07:53:10.634263Z"
    }
   },
   "outputs": [],
   "source": [
    "b = [-1,0,1,2,3,4,5]"
   ]
  },
  {
   "cell_type": "code",
   "execution_count": 6,
   "metadata": {
    "ExecuteTime": {
     "end_time": "2020-02-17T07:53:34.622873Z",
     "start_time": "2020-02-17T07:53:34.610874Z"
    }
   },
   "outputs": [
    {
     "data": {
      "text/plain": [
       "<filter at 0x192034aac10>"
      ]
     },
     "execution_count": 6,
     "metadata": {},
     "output_type": "execute_result"
    }
   ],
   "source": [
    "filter(lambda x: x<0, b)"
   ]
  },
  {
   "cell_type": "code",
   "execution_count": 7,
   "metadata": {
    "ExecuteTime": {
     "end_time": "2020-02-17T07:53:44.375185Z",
     "start_time": "2020-02-17T07:53:44.367188Z"
    }
   },
   "outputs": [
    {
     "data": {
      "text/plain": [
       "[-1]"
      ]
     },
     "execution_count": 7,
     "metadata": {},
     "output_type": "execute_result"
    }
   ],
   "source": [
    "list(filter(lambda x: x<0, b))"
   ]
  },
  {
   "cell_type": "code",
   "execution_count": null,
   "metadata": {},
   "outputs": [],
   "source": []
  }
 ],
 "metadata": {
  "kernelspec": {
   "display_name": "Python 3",
   "language": "python",
   "name": "python3"
  },
  "language_info": {
   "codemirror_mode": {
    "name": "ipython",
    "version": 3
   },
   "file_extension": ".py",
   "mimetype": "text/x-python",
   "name": "python",
   "nbconvert_exporter": "python",
   "pygments_lexer": "ipython3",
   "version": "3.8.1"
  }
 },
 "nbformat": 4,
 "nbformat_minor": 2
}
