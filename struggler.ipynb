{
 "cells": [
  {
   "cell_type": "markdown",
   "metadata": {},
   "source": [
    "### Twilight Struggle"
   ]
  },
  {
   "cell_type": "code",
   "execution_count": 1,
   "metadata": {
    "ExecuteTime": {
     "end_time": "2020-01-30T06:51:38.445771Z",
     "start_time": "2020-01-30T06:51:37.765774Z"
    }
   },
   "outputs": [],
   "source": [
    "import pandas as pd\n",
    "import numpy as np\n",
    "from twilight_map import *"
   ]
  },
  {
   "cell_type": "code",
   "execution_count": 2,
   "metadata": {
    "ExecuteTime": {
     "end_time": "2020-01-30T06:51:38.479770Z",
     "start_time": "2020-01-30T06:51:38.448773Z"
    }
   },
   "outputs": [],
   "source": [
    "class country:\n",
    "    def __init__(self, country_name, country_index, adjacent_countries, us_influence, ussr_influence, region=0, stability=0, battleground=False, superpower=False, chinese_civil_war=False):\n",
    "        self.country_name = country_name\n",
    "        self.country_index = country_index\n",
    "        self.region = region\n",
    "        self.stability = stability\n",
    "        self.battleground = battleground\n",
    "        self.adjacent_countries = adjacent_countries\n",
    "        self.us_influence = us_influence\n",
    "        self.ussr_influence = ussr_influence\n",
    "        self.superpower = superpower\n",
    "        self.chinese_civil_war = chinese_civil_war\n",
    "        self.evaluate_control()\n",
    "\n",
    "    def evaluate_control(self):\n",
    "        if self.us_influence - self.ussr_influence >= self.stability:\n",
    "            self.control = 'us'\n",
    "        elif self.ussr_influence - self.us_influence >= self.stability:\n",
    "            self.control = 'ussr'\n",
    "        else:\n",
    "            self.control = 'none'\n",
    "\n",
    "    def __repr__(self):\n",
    "        if self.stability == 0:\n",
    "            return f'country({self.country_name}, adjacent = {self.adjacent_countries})'\n",
    "        else:\n",
    "            return f'country({self.country_name}, region = {self.region}, stability = {self.stability}, battleground = {self.battleground}, adjacent = {self.adjacent_countries}, us_inf = {self.us_influence}, ussr_inf = {self.ussr_influence}), control = {self.control}'\n",
    "\n",
    "    def set_influence(self, us_influence, ussr_influence):\n",
    "        if self.superpower == True:\n",
    "            raise ValueError('Cannot set influence on superpower!')\n",
    "        self.us_influence = us_influence\n",
    "        self.ussr_influence = ussr_influence\n",
    "        self.evaluate_control()\n",
    "\n",
    "    def reset_influence(self):\n",
    "        self.us_influence = 0\n",
    "        self.ussr_influence = 0\n",
    "        self.evaluate_control()\n",
    "\n",
    "    def adjust_influence(self, us_influence, ussr_influence):\n",
    "        self.us_influence += us_influence\n",
    "        self.ussr_influence += ussr_influence\n",
    "        self.evaluate_control()\n",
    "\n",
    "    def place_influence(self, side, effective_operations_points):\n",
    "        if side == 'ussr' and self.control == 'us':\n",
    "            # here we deduct 2 from effective_operations_points, to place 1 influence in the country, and then call the function again\n",
    "            if effective_operations_points >= 2:\n",
    "                self.adjust_influence(0, 1)\n",
    "            else:\n",
    "                raise ValueError('Not enough operations points!')\n",
    "            if effective_operations_points - 2 > 0:\n",
    "                self.place_influence(side, effective_operations_points - 2)\n",
    "        elif side == 'us' and self.control == 'ussr':\n",
    "            if effective_operations_points >= 2:\n",
    "                self.adjust_influence(1, 0)\n",
    "            else:\n",
    "                raise ValueError('Not enough operations points!')\n",
    "            if effective_operations_points - 2 > 0:\n",
    "                self.place_influence(side, effective_operations_points - 2)\n",
    "        else:\n",
    "            if side == 'us':\n",
    "                self.adjust_influence(effective_operations_points, 0)\n",
    "            elif side == 'ussr':\n",
    "                self.adjust_influence(0, effective_operations_points)\n",
    "            else:\n",
    "                raise ValueError(\"side must be 'us' or 'ussr'!\")\n",
    "\n",
    "    def coup(self, side, effective_operations_points):\n",
    "        '''\n",
    "        TODO:\n",
    "        1. Prevent coup if no opposing influence in the country. Write this not as an error if this is tried, but rather prevent it from happening altogether.\n",
    "        2. Prevent coup under DEFCON restrictions. Will write it in a style same as 1.\n",
    "        3. Add military operations points.\n",
    "        4. Reduce DEFCON status level if self.battleground = True\n",
    "        '''\n",
    "\n",
    "        die_roll = np.random.randint(6) + 1\n",
    "        difference = die_roll + effective_operations_points - self.stability*2\n",
    "        if difference > 0:\n",
    "            if side == 'us':\n",
    "                # subtract from opposing first.. and then add to yours\n",
    "                if difference > self.ussr_influence:\n",
    "                    self.adjust_influence(difference - self.ussr_influence, 0)\n",
    "                self.adjust_influence(0, -min(difference, self.us_influence))\n",
    "\n",
    "            if side == 'ussr':\n",
    "                if difference > self.us_influence:\n",
    "                    self.adjust_influence(0, difference - self.us_influence)\n",
    "                self.adjust_influence(-min(difference, self.us_influence), 0)\n",
    "            print(f'Coup successful with roll of {die_roll}. Difference: {difference}')\n",
    "        else:\n",
    "            print(f'Coup failed with roll of {die_roll}')\n",
    "\n",
    "        self.evaluate_control()"
   ]
  },
  {
   "cell_type": "code",
   "execution_count": 3,
   "metadata": {
    "ExecuteTime": {
     "end_time": "2020-01-30T06:51:38.505776Z",
     "start_time": "2020-01-30T06:51:38.481772Z"
    }
   },
   "outputs": [],
   "source": [
    "''' Creates entire map. '''\n",
    "USSR = country(**USSR)\n",
    "USA = country(**USA)\n",
    "Canada = country(**Canada)\n",
    "UK = country(**UK)\n",
    "Norway = country(**Norway)\n",
    "Sweden = country(**Sweden)\n",
    "Finland = country(**Finland)\n",
    "Denmark = country(**Denmark)\n",
    "Benelux = country(**Benelux)\n",
    "France = country(**France)\n",
    "Spain_Portugal = country(**Spain_Portugal)\n",
    "Italy = country(**Italy)\n",
    "Greece = country(**Greece)\n",
    "Austria = country(**Austria)\n",
    "West_Germany = country(**West_Germany)\n",
    "East_Germany = country(**East_Germany)\n",
    "Poland = country(**Poland)\n",
    "Czechoslovakia = country(**Czechoslovakia)\n",
    "Hungary = country(**Hungary)\n",
    "Yugoslavia = country(**Yugoslavia)\n",
    "Romania = country(**Romania)\n",
    "Bulgaria = country(**Bulgaria)\n",
    "Turkey = country(**Turkey)\n",
    "Libya = country(**Libya)\n",
    "Egypt = country(**Egypt)\n",
    "Israel = country(**Israel)\n",
    "Lebanon = country(**Lebanon)\n",
    "Syria = country(**Syria)\n",
    "Iraq = country(**Iraq)\n",
    "Iran = country(**Iran)\n",
    "Jordan = country(**Jordan)\n",
    "Gulf_States = country(**Gulf_States)\n",
    "Saudi_Arabia = country(**Saudi_Arabia)\n",
    "Afghanistan = country(**Afghanistan)\n",
    "Pakistan = country(**Pakistan)\n",
    "India = country(**India)\n",
    "Burma = country(**Burma)\n",
    "Laos_Cambodia = country(**Laos_Cambodia)\n",
    "Thailand = country(**Thailand)\n",
    "Vietnam = country(**Vietnam)\n",
    "Malaysia = country(**Malaysia)\n",
    "Australia = country(**Australia)\n",
    "Indonesia = country(**Indonesia)\n",
    "Philippines = country(**Philippines)\n",
    "Japan = country(**Japan)\n",
    "Taiwan = country(**Taiwan)\n",
    "South_Korea = country(**South_Korea)\n",
    "North_Korea = country(**North_Korea)\n",
    "Algeria = country(**Algeria)\n",
    "Morocco = country(**Morocco)\n",
    "Tunisia = country(**Tunisia)\n",
    "West_African_States = country(**West_African_States)\n",
    "Ivory_Coast = country(**Ivory_Coast)\n",
    "Saharan_States = country(**Saharan_States)\n",
    "Nigeria = country(**Nigeria)\n",
    "Cameroon = country(**Cameroon)\n",
    "Zaire = country(**Zaire)\n",
    "Angola = country(**Angola)\n",
    "South_Africa = country(**South_Africa)\n",
    "Botswana = country(**Botswana)\n",
    "Zimbabwe = country(**Zimbabwe)\n",
    "SE_African_States = country(**SE_African_States)\n",
    "Kenya = country(**Kenya)\n",
    "Somalia = country(**Somalia)\n",
    "Ethiopia = country(**Ethiopia)\n",
    "Sudan = country(**Sudan)\n",
    "Mexico = country(**Mexico)\n",
    "Guatemala = country(**Guatemala)\n",
    "El_Salvador = country(**El_Salvador)\n",
    "Honduras = country(**Honduras)\n",
    "Costa_Rica = country(**Costa_Rica)\n",
    "Panama = country(**Panama)\n",
    "Nicaragua = country(**Nicaragua)\n",
    "Cuba = country(**Cuba)\n",
    "Haiti = country(**Haiti)\n",
    "Dominican_Republic = country(**Dominican_Republic)\n",
    "Colombia = country(**Colombia)\n",
    "Ecuador = country(**Ecuador)\n",
    "Peru = country(**Peru)\n",
    "Chile = country(**Chile)\n",
    "Argentina = country(**Argentina)\n",
    "Uruguay = country(**Uruguay)\n",
    "Paraguay = country(**Paraguay)\n",
    "Bolivia = country(**Bolivia)\n",
    "Brazil = country(**Brazil)\n",
    "Venezuela = country(**Venezuela)\n",
    "Chinese_Civil_War = country(**Chinese_Civil_War)"
   ]
  },
  {
   "cell_type": "code",
   "execution_count": 4,
   "metadata": {
    "ExecuteTime": {
     "end_time": "2020-01-30T06:51:39.233949Z",
     "start_time": "2020-01-30T06:51:39.220944Z"
    }
   },
   "outputs": [
    {
     "data": {
      "text/plain": [
       "country(USA, adjacent = ['Japan', 'Mexico', 'Cuba', 'Canada'])"
      ]
     },
     "execution_count": 4,
     "metadata": {},
     "output_type": "execute_result"
    }
   ],
   "source": [
    "USA"
   ]
  },
  {
   "cell_type": "code",
   "execution_count": 5,
   "metadata": {
    "ExecuteTime": {
     "end_time": "2020-01-30T06:51:39.835375Z",
     "start_time": "2020-01-30T06:51:39.828379Z"
    }
   },
   "outputs": [
    {
     "data": {
      "text/plain": [
       "country(Mexico, region = Central America, stability = 2, battleground = True, adjacent = ['Guatemala', 'USA'], us_inf = 0, ussr_inf = 0), control = none"
      ]
     },
     "execution_count": 5,
     "metadata": {},
     "output_type": "execute_result"
    }
   ],
   "source": [
    "Mexico"
   ]
  },
  {
   "cell_type": "markdown",
   "metadata": {
    "ExecuteTime": {
     "end_time": "2020-01-29T16:01:40.288940Z",
     "start_time": "2020-01-29T16:01:40.283940Z"
    }
   },
   "source": [
    "### Recreating coup and realignment logic."
   ]
  },
  {
   "cell_type": "code",
   "execution_count": 6,
   "metadata": {
    "ExecuteTime": {
     "end_time": "2020-01-30T06:51:41.738606Z",
     "start_time": "2020-01-30T06:51:41.735606Z"
    }
   },
   "outputs": [],
   "source": [
    "# set(['us', 'ussr']) - set([sider])"
   ]
  },
  {
   "cell_type": "code",
   "execution_count": 7,
   "metadata": {
    "ExecuteTime": {
     "end_time": "2020-01-30T06:51:42.260289Z",
     "start_time": "2020-01-30T06:51:42.256288Z"
    }
   },
   "outputs": [],
   "source": [
    "Mexico.set_influence(1,2)"
   ]
  },
  {
   "cell_type": "code",
   "execution_count": 8,
   "metadata": {
    "ExecuteTime": {
     "end_time": "2020-01-30T06:51:42.608451Z",
     "start_time": "2020-01-30T06:51:42.602452Z"
    }
   },
   "outputs": [
    {
     "data": {
      "text/plain": [
       "country(Mexico, region = Central America, stability = 2, battleground = True, adjacent = ['Guatemala', 'USA'], us_inf = 1, ussr_inf = 2), control = none"
      ]
     },
     "execution_count": 8,
     "metadata": {},
     "output_type": "execute_result"
    }
   ],
   "source": [
    "Mexico"
   ]
  },
  {
   "cell_type": "code",
   "execution_count": 9,
   "metadata": {
    "ExecuteTime": {
     "end_time": "2020-01-30T06:51:42.979091Z",
     "start_time": "2020-01-30T06:51:42.972096Z"
    }
   },
   "outputs": [
    {
     "name": "stdout",
     "output_type": "stream",
     "text": [
      "Coup successful with roll of 4. Difference: 4\n"
     ]
    }
   ],
   "source": [
    "Mexico.coup('ussr', 4)"
   ]
  },
  {
   "cell_type": "code",
   "execution_count": 10,
   "metadata": {
    "ExecuteTime": {
     "end_time": "2020-01-30T06:51:44.062425Z",
     "start_time": "2020-01-30T06:51:44.055424Z"
    }
   },
   "outputs": [
    {
     "data": {
      "text/plain": [
       "country(Mexico, region = Central America, stability = 2, battleground = True, adjacent = ['Guatemala', 'USA'], us_inf = 0, ussr_inf = 5), control = ussr"
      ]
     },
     "execution_count": 10,
     "metadata": {},
     "output_type": "execute_result"
    }
   ],
   "source": [
    "Mexico"
   ]
  },
  {
   "cell_type": "code",
   "execution_count": 11,
   "metadata": {
    "ExecuteTime": {
     "end_time": "2020-01-30T06:51:45.545712Z",
     "start_time": "2020-01-30T06:51:45.535711Z"
    }
   },
   "outputs": [],
   "source": [
    "def build_standard_map():\n",
    "    Panama.set_influence(1, 0)\n",
    "    Canada.set_influence(2, 0)\n",
    "    UK.set_influence(2, 0)\n",
    "    North_Korea.set_influence(0, 1)\n",
    "    East_Germany.set_influence(0, 3)\n",
    "    Finland.set_influence(0, 1)\n",
    "    Syria.set_influence(0, 1)\n",
    "    Israel.set_influence(1, 0)\n",
    "    Iraq.set_influence(0, 1)\n",
    "    Iran.set_influence(1, 0)\n",
    "    North_Korea.set_influence(0, 3)\n",
    "    South_Korea.set_influence(1, 0)\n",
    "    Japan.set_influence(1, 0)\n",
    "    Philippines.set_influence(1, 0)\n",
    "    Australia.set_influence(4, 0)\n",
    "    South_Africa.set_influence(1, 0)"
   ]
  },
  {
   "cell_type": "code",
   "execution_count": 12,
   "metadata": {
    "ExecuteTime": {
     "end_time": "2020-01-30T06:51:46.001181Z",
     "start_time": "2020-01-30T06:51:45.997175Z"
    }
   },
   "outputs": [],
   "source": [
    "build_standard_map()"
   ]
  },
  {
   "cell_type": "code",
   "execution_count": null,
   "metadata": {},
   "outputs": [],
   "source": [
    "def realignment(side, country):\n",
    "    # check for control in adjacent countries (+1 per controlled adj country)\n",
    "    \n",
    "    \n",
    "    # check for more influence in this country (+1)\n",
    "    \n",
    "    \n",
    "    # check for more influence \n",
    "    \n",
    "    "
   ]
  },
  {
   "cell_type": "code",
   "execution_count": null,
   "metadata": {
    "ExecuteTime": {
     "end_time": "2020-01-30T03:40:43.221767Z",
     "start_time": "2020-01-30T03:40:43.215752Z"
    }
   },
   "outputs": [],
   "source": [
    "'''incomplete realignment code'''\n",
    "for adjacent_country in Mexico['adjacent_countries']:\n",
    "#     print(eval(adjacent_country)['us_influence'])\n",
    "    print(eval(adjacent_country)['us_influence'] > eval(adjacent_country)['ussr_influence'])"
   ]
  }
 ],
 "metadata": {
  "kernelspec": {
   "display_name": "Python 3",
   "language": "python",
   "name": "python3"
  },
  "language_info": {
   "codemirror_mode": {
    "name": "ipython",
    "version": 3
   },
   "file_extension": ".py",
   "mimetype": "text/x-python",
   "name": "python",
   "nbconvert_exporter": "python",
   "pygments_lexer": "ipython3",
   "version": "3.6.9"
  }
 },
 "nbformat": 4,
 "nbformat_minor": 2
}
