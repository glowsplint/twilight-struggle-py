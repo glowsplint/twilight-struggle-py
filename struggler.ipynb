{
 "cells": [
  {
   "cell_type": "markdown",
   "metadata": {},
   "source": [
    "### Twilight Struggle"
   ]
  },
  {
   "cell_type": "code",
   "execution_count": 1,
   "metadata": {
    "ExecuteTime": {
     "end_time": "2020-02-09T13:47:28.112692Z",
     "start_time": "2020-02-09T13:47:27.954357Z"
    }
   },
   "outputs": [],
   "source": [
    "import numpy as np\n",
    "import random\n",
    "\n",
    "from twilight_map import *\n",
    "from game_mechanics import *\n",
    "from twilight_cards import *"
   ]
  },
  {
   "cell_type": "markdown",
   "metadata": {},
   "source": [
    "### Game Instance"
   ]
  },
  {
   "cell_type": "code",
   "execution_count": 2,
   "metadata": {
    "ExecuteTime": {
     "end_time": "2020-02-09T13:49:11.784070Z",
     "start_time": "2020-02-09T13:47:28.115405Z"
    },
    "scrolled": false
   },
   "outputs": [
    {
     "name": "stdout",
     "output_type": "stream",
     "text": [
      "Initalising game..\n",
      "\n",
      "----- USSR Player: -----\n",
      "You may modify 6 influence in these countries. Type in their country indices, separated by commas (no spaces).\n",
      "Austria, 14\n",
      "Finland, 7\n",
      "Poland, 17\n",
      "Romania, 21\n",
      "Bulgaria, 22\n",
      "Hungary, 19\n",
      "Yugoslavia, 20\n",
      "East_Germany, 16\n",
      "Czechoslovakia, 18\n",
      "> q\n",
      "\n",
      "----- US Player: -----\n",
      "You may modify 7 influence in these countries. Type in their country indices, separated by commas (no spaces).\n",
      "Sweden, 6\n",
      "Canada, 3\n",
      "Austria, 14\n",
      "Finland, 7\n",
      "Spain_Portugal, 11\n",
      "West_Germany, 15\n",
      "Denmark, 8\n",
      "UK, 4\n",
      "Italy, 12\n",
      "Turkey, 23\n",
      "Benelux, 9\n",
      "Greece, 13\n",
      "France, 10\n",
      "Norway, 5\n",
      "> q\n",
      "\n",
      "----- US Player: -----\n",
      "You may modify 2 influence in these countries. Type in their country indices, separated by commas (no spaces).\n",
      "Canada, 3\n",
      "UK, 4\n",
      "Israel, 26\n",
      "Iran, 30\n",
      "Australia, 42\n",
      "Philippines, 44\n",
      "Japan, 45\n",
      "South_Korea, 47\n",
      "South_Africa, 59\n",
      "Panama, 72\n",
      "> 2\n",
      "Please key in 2 comma-separated values.\n",
      "> 2,2\n",
      "\n",
      "Your input cannot be accepted.\n",
      "\n",
      "----- US Player: -----\n",
      "You may modify 2 influence in these countries. Type in their country indices, separated by commas (no spaces).\n",
      "Canada, 3\n",
      "UK, 4\n",
      "Israel, 26\n",
      "Iran, 30\n",
      "Australia, 42\n",
      "Philippines, 44\n",
      "Japan, 45\n",
      "South_Korea, 47\n",
      "South_Africa, 59\n",
      "Panama, 72\n",
      "> q\n",
      "US Victory!\n",
      "Final scoring complete.\n",
      "US Victory!\n",
      "Final scoring complete.\n",
      "US Victory!\n",
      "Final scoring complete.\n",
      "US Victory!\n",
      "Final scoring complete.\n",
      "US Victory!\n",
      "Final scoring complete.\n",
      "US Victory!\n",
      "Final scoring complete.\n",
      "US Victory!\n",
      "Final scoring complete.\n",
      "End of game.\n"
     ]
    }
   ],
   "source": [
    "# this is a temporary measure. It should go into UI.new()\n",
    "g = Game()\n",
    "g.ui.run()"
   ]
  },
  {
   "cell_type": "code",
   "execution_count": 3,
   "metadata": {
    "ExecuteTime": {
     "end_time": "2020-02-09T13:49:11.800066Z",
     "start_time": "2020-02-09T13:49:11.787066Z"
    }
   },
   "outputs": [
    {
     "data": {
      "text/plain": [
       "Country(Iran, \n",
       "Region \t\t= [<MapRegion.MIDDLE_EAST: 2>], \n",
       "Stability \t= 2, \n",
       "Battleground \t= True, \n",
       "Adjacent \t= ['Iraq', 'Afghanistan', 'Pakistan'], \n",
       "US_influence \t= 1, True\n",
       "USSR_influence \t= 0, False\n",
       "Control \t= 2"
      ]
     },
     "execution_count": 3,
     "metadata": {},
     "output_type": "execute_result"
    }
   ],
   "source": [
    "g.map['Iran']"
   ]
  },
  {
   "cell_type": "code",
   "execution_count": 5,
   "metadata": {
    "ExecuteTime": {
     "end_time": "2020-02-09T13:50:12.758914Z",
     "start_time": "2020-02-09T13:50:08.071196Z"
    }
   },
   "outputs": [
    {
     "name": "stdout",
     "output_type": "stream",
     "text": [
      "\n",
      "----- USSR Player: -----\n",
      "You may coup these countries. Type in the country index.\n",
      "Canada, 3\n",
      "UK, 4\n",
      "Israel, 26\n",
      "Iran, 30\n",
      "Australia, 42\n",
      "Philippines, 44\n",
      "Japan, 45\n",
      "South_Korea, 47\n",
      "South_Africa, 59\n",
      "Panama, 72\n",
      "> 30\n",
      "Coup successful with roll of 1. Difference: 1\n"
     ]
    }
   ],
   "source": [
    "g.card_operation_coup(Side.USSR, 4)"
   ]
  },
  {
   "cell_type": "code",
   "execution_count": 6,
   "metadata": {
    "ExecuteTime": {
     "end_time": "2020-02-09T13:50:17.552977Z",
     "start_time": "2020-02-09T13:50:17.545978Z"
    }
   },
   "outputs": [
    {
     "data": {
      "text/plain": [
       "Country(Iran, \n",
       "Region \t\t= [<MapRegion.MIDDLE_EAST: 2>], \n",
       "Stability \t= 2, \n",
       "Battleground \t= True, \n",
       "Adjacent \t= ['Iraq', 'Afghanistan', 'Pakistan'], \n",
       "US_influence \t= 1, True\n",
       "USSR_influence \t= 0, False\n",
       "Control \t= 2"
      ]
     },
     "execution_count": 6,
     "metadata": {},
     "output_type": "execute_result"
    }
   ],
   "source": [
    "g.map['Iran']"
   ]
  },
  {
   "cell_type": "code",
   "execution_count": 7,
   "metadata": {
    "ExecuteTime": {
     "end_time": "2020-02-09T13:52:47.134502Z",
     "start_time": "2020-02-09T13:52:47.128501Z"
    }
   },
   "outputs": [
    {
     "name": "stdout",
     "output_type": "stream",
     "text": [
      "Coup successful with roll of 2. Difference: 2\n"
     ]
    }
   ],
   "source": [
    "g.map.coup('Iran', Side.USSR, 4, 5)"
   ]
  },
  {
   "cell_type": "code",
   "execution_count": 9,
   "metadata": {
    "ExecuteTime": {
     "end_time": "2020-02-09T13:52:54.511251Z",
     "start_time": "2020-02-09T13:52:54.505248Z"
    }
   },
   "outputs": [
    {
     "data": {
      "text/plain": [
       "Country(Iran, \n",
       "Region \t\t= [<MapRegion.MIDDLE_EAST: 2>], \n",
       "Stability \t= 2, \n",
       "Battleground \t= True, \n",
       "Adjacent \t= ['Iraq', 'Afghanistan', 'Pakistan'], \n",
       "US_influence \t= 1, True\n",
       "USSR_influence \t= 0, False\n",
       "Control \t= 2"
      ]
     },
     "execution_count": 9,
     "metadata": {},
     "output_type": "execute_result"
    }
   ],
   "source": [
    "g.map['Iran']"
   ]
  }
 ],
 "metadata": {
  "kernelspec": {
   "display_name": "Python 3",
   "language": "python",
   "name": "python3"
  },
  "language_info": {
   "codemirror_mode": {
    "name": "ipython",
    "version": 3
   },
   "file_extension": ".py",
   "mimetype": "text/x-python",
   "name": "python",
   "nbconvert_exporter": "python",
   "pygments_lexer": "ipython3",
   "version": "3.8.1"
  }
 },
 "nbformat": 4,
 "nbformat_minor": 2
}
