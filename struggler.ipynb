{
 "cells": [
  {
   "cell_type": "markdown",
   "metadata": {},
   "source": [
    "### Twilight Struggle"
   ]
  },
  {
   "cell_type": "code",
   "execution_count": 1,
   "metadata": {
    "ExecuteTime": {
     "end_time": "2020-02-16T09:56:17.912382Z",
     "start_time": "2020-02-16T09:56:17.864253Z"
    }
   },
   "outputs": [],
   "source": [
    "from twilight_ui import *"
   ]
  },
  {
   "cell_type": "markdown",
   "metadata": {},
   "source": [
    "### Game Instance"
   ]
  },
  {
   "cell_type": "code",
   "execution_count": 2,
   "metadata": {
    "ExecuteTime": {
     "end_time": "2020-02-16T10:13:35.024723Z",
     "start_time": "2020-02-16T09:56:17.917333Z"
    },
    "scrolled": false
   },
   "outputs": [
    {
     "name": "stdout",
     "output_type": "stream",
     "text": [
      "Initalising game..\n",
      "> new\n",
      "Starting new game.\n",
      "----- USSR Player: -----\n",
      "Place starting influence.\n",
      "Remaining influence: 1\n",
      "Options: Austria, Bulgaria, Czechoslovakia, East_Germany, Finland, Hungary, Poland, Romania, Yugoslavia\n",
      "> m Aus\n",
      "Selected: Austria.\n",
      "----- USSR Player: -----\n",
      "Place starting influence.\n",
      "You have selected Austria\n",
      "Remaining influence: 0\n",
      "Commit your actions? (Yes/No)\n",
      "> yes\n",
      "Invalid command. Enter ? for help.\n",
      "> Yes\n",
      "Invalid command. Enter ? for help.\n",
      "> y\n",
      "Invalid command. Enter ? for help.\n",
      "> m commit\n",
      "Invalid input.\n",
      "----- USSR Player: -----\n",
      "Place starting influence.\n",
      "You have selected Austria\n",
      "Remaining influence: 0\n",
      "Commit your actions? (Yes/No)\n",
      "> commit\n",
      "Invalid command. Enter ? for help.\n",
      "> m Aus commit\n",
      "Invalid input.\n",
      "----- USSR Player: -----\n",
      "Place starting influence.\n",
      "You have selected Austria\n",
      "Remaining influence: 0\n",
      "Commit your actions? (Yes/No)\n",
      "> m commit\n",
      "Invalid input.\n",
      "----- USSR Player: -----\n",
      "Place starting influence.\n",
      "You have selected Austria\n",
      "Remaining influence: 0\n",
      "Commit your actions? (Yes/No)\n",
      "> q\n",
      "Invalid command. Enter ? for help.\n",
      "> q\n",
      "Invalid command. Enter ? for help.\n",
      "> q\n",
      "Invalid command. Enter ? for help.\n",
      "> q\n",
      "Invalid command. Enter ? for help.\n",
      "> exit\n"
     ]
    }
   ],
   "source": [
    "UI().run()"
   ]
  },
  {
   "cell_type": "code",
   "execution_count": 3,
   "metadata": {
    "ExecuteTime": {
     "end_time": "2020-02-16T11:28:46.814550Z",
     "start_time": "2020-02-16T11:28:46.808611Z"
    }
   },
   "outputs": [],
   "source": [
    "a = [3,10]"
   ]
  },
  {
   "cell_type": "code",
   "execution_count": 6,
   "metadata": {
    "ExecuteTime": {
     "end_time": "2020-02-16T11:29:15.099663Z",
     "start_time": "2020-02-16T11:29:15.087665Z"
    }
   },
   "outputs": [
    {
     "ename": "TypeError",
     "evalue": "'int' object is not iterable",
     "output_type": "error",
     "traceback": [
      "\u001b[1;31m---------------------------------------------------------------------------\u001b[0m",
      "\u001b[1;31mTypeError\u001b[0m                                 Traceback (most recent call last)",
      "\u001b[1;32m<ipython-input-6-ad2e67f0a4ba>\u001b[0m in \u001b[0;36m<module>\u001b[1;34m\u001b[0m\n\u001b[1;32m----> 1\u001b[1;33m \u001b[0mlist\u001b[0m\u001b[1;33m(\u001b[0m\u001b[0mmap\u001b[0m\u001b[1;33m(\u001b[0m\u001b[1;32mlambda\u001b[0m \u001b[0mx\u001b[0m\u001b[1;33m,\u001b[0m\u001b[0my\u001b[0m\u001b[1;33m:\u001b[0m \u001b[0mx\u001b[0m\u001b[1;33m-\u001b[0m\u001b[1;36m1\u001b[0m\u001b[1;33m,\u001b[0m \u001b[1;33m*\u001b[0m\u001b[0ma\u001b[0m\u001b[1;33m)\u001b[0m\u001b[1;33m)\u001b[0m\u001b[1;33m\u001b[0m\u001b[1;33m\u001b[0m\u001b[0m\n\u001b[0m",
      "\u001b[1;31mTypeError\u001b[0m: 'int' object is not iterable"
     ]
    }
   ],
   "source": [
    "list(map(lambda x,y: x-1, a))"
   ]
  }
 ],
 "metadata": {
  "kernelspec": {
   "display_name": "Python 3",
   "language": "python",
   "name": "python3"
  },
  "language_info": {
   "codemirror_mode": {
    "name": "ipython",
    "version": 3
   },
   "file_extension": ".py",
   "mimetype": "text/x-python",
   "name": "python",
   "nbconvert_exporter": "python",
   "pygments_lexer": "ipython3",
   "version": "3.8.1"
  }
 },
 "nbformat": 4,
 "nbformat_minor": 2
}
