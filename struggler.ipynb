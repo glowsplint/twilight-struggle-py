{
 "cells": [
  {
   "cell_type": "markdown",
   "metadata": {},
   "source": [
    "### Twilight Struggle"
   ]
  },
  {
   "cell_type": "code",
   "execution_count": 1,
   "metadata": {
    "ExecuteTime": {
     "end_time": "2020-01-29T16:01:33.581128Z",
     "start_time": "2020-01-29T16:01:32.867126Z"
    }
   },
   "outputs": [],
   "source": [
    "import pandas as pd\n",
    "import numpy as np\n",
    "from twilight_map import *\n",
    "# from twilight_cards import *"
   ]
  },
  {
   "cell_type": "code",
   "execution_count": 2,
   "metadata": {
    "ExecuteTime": {
     "end_time": "2020-01-29T16:01:33.845725Z",
     "start_time": "2020-01-29T16:01:33.841725Z"
    }
   },
   "outputs": [],
   "source": [
    "# %whos"
   ]
  },
  {
   "cell_type": "code",
   "execution_count": 3,
   "metadata": {
    "ExecuteTime": {
     "end_time": "2020-01-29T16:01:34.347189Z",
     "start_time": "2020-01-29T16:01:34.333189Z"
    }
   },
   "outputs": [
    {
     "data": {
      "text/plain": [
       "{'country_name': 'Mexico',\n",
       " 'country_index': 67,\n",
       " 'region': 'Central America',\n",
       " 'stability': 2,\n",
       " 'battleground': True,\n",
       " 'adjacent_countries': ['Guatemala', 'USA'],\n",
       " 'us_influence': 0,\n",
       " 'ussr_influence': 0}"
      ]
     },
     "execution_count": 3,
     "metadata": {},
     "output_type": "execute_result"
    }
   ],
   "source": [
    "Mexico"
   ]
  },
  {
   "cell_type": "code",
   "execution_count": 4,
   "metadata": {
    "ExecuteTime": {
     "end_time": "2020-01-29T16:01:34.601870Z",
     "start_time": "2020-01-29T16:01:34.596868Z"
    }
   },
   "outputs": [
    {
     "data": {
      "text/plain": [
       "{'country_name': 'Zimbabwe',\n",
       " 'country_index': 61,\n",
       " 'region': 'Africa',\n",
       " 'stability': 1,\n",
       " 'adjacent_countries': ['Zaire', 'Botswana', 'SE African States'],\n",
       " 'us_influence': 0,\n",
       " 'ussr_influence': 0}"
      ]
     },
     "execution_count": 4,
     "metadata": {},
     "output_type": "execute_result"
    }
   ],
   "source": [
    "Zimbabwe"
   ]
  },
  {
   "cell_type": "code",
   "execution_count": 5,
   "metadata": {
    "ExecuteTime": {
     "end_time": "2020-01-29T16:01:35.012222Z",
     "start_time": "2020-01-29T16:01:35.005215Z"
    }
   },
   "outputs": [],
   "source": [
    "'''Creating an environment to place influence'''\n",
    "# Writing a few utility functions to make testing easier\n",
    "def set_influence(country, us_influence, ussr_influence):\n",
    "    country['us_influence'] = us_influence\n",
    "    country['ussr_influence'] = ussr_influence\n",
    "\n",
    "def reset_influence(country):\n",
    "    country['us_influence'] = 0\n",
    "    country['ussr_influence'] = 0\n",
    "\n",
    "def adjust_influence(country, side, amount_of_influence):\n",
    "    country[str(side)+'_influence'] += amount_of_influence"
   ]
  },
  {
   "cell_type": "code",
   "execution_count": 6,
   "metadata": {
    "ExecuteTime": {
     "end_time": "2020-01-29T16:01:35.531903Z",
     "start_time": "2020-01-29T16:01:35.523901Z"
    }
   },
   "outputs": [],
   "source": [
    "def place_influence(country, side, effective_operations_points):\n",
    "    if side == 'ussr' and country['us_influence'] - country['ussr_influence'] >= country['stability']:\n",
    "        # here we deduct 2 from effective_operations_points, to place 1 influence in the country, and then call the function again\n",
    "        if effective_operations_points >= 2:\n",
    "            adjust_influence(country, 'ussr', 1)\n",
    "        else:\n",
    "            raise ValueError('Not enough operations points!')\n",
    "        if effective_operations_points - 2 > 0:\n",
    "            place_influence(country, side, effective_operations_points - 2)\n",
    "    elif side == 'us' and country['ussr_influence'] - country['us_influence'] >= country['stability']:\n",
    "        # here we deduct 2 from effective_operations_points, to place 1 influence in the country, and then call the function again\n",
    "        if effective_operations_points >= 2:\n",
    "            adjust_influence(country, 'us', 1)\n",
    "        else:\n",
    "            raise ValueError('Not enough operations points!')\n",
    "        if effective_operations_points - 2 > 0:\n",
    "            place_influence(country, side, effective_operations_points - 2)\n",
    "    else:\n",
    "        adjust_influence(Mexico, side, effective_operations_points)"
   ]
  },
  {
   "cell_type": "code",
   "execution_count": 7,
   "metadata": {
    "ExecuteTime": {
     "end_time": "2020-01-29T16:01:35.926044Z",
     "start_time": "2020-01-29T16:01:35.920041Z"
    }
   },
   "outputs": [
    {
     "data": {
      "text/plain": [
       "{'country_name': 'Mexico',\n",
       " 'country_index': 67,\n",
       " 'region': 'Central America',\n",
       " 'stability': 2,\n",
       " 'battleground': True,\n",
       " 'adjacent_countries': ['Guatemala', 'USA'],\n",
       " 'us_influence': 0,\n",
       " 'ussr_influence': 0}"
      ]
     },
     "execution_count": 7,
     "metadata": {},
     "output_type": "execute_result"
    }
   ],
   "source": [
    "Mexico"
   ]
  },
  {
   "cell_type": "code",
   "execution_count": 8,
   "metadata": {
    "ExecuteTime": {
     "end_time": "2020-01-29T16:01:36.652880Z",
     "start_time": "2020-01-29T16:01:36.648837Z"
    }
   },
   "outputs": [],
   "source": [
    "set_influence(Mexico, 6, 1)"
   ]
  },
  {
   "cell_type": "code",
   "execution_count": 9,
   "metadata": {
    "ExecuteTime": {
     "end_time": "2020-01-29T16:01:36.990264Z",
     "start_time": "2020-01-29T16:01:36.985260Z"
    }
   },
   "outputs": [
    {
     "data": {
      "text/plain": [
       "{'country_name': 'Mexico',\n",
       " 'country_index': 67,\n",
       " 'region': 'Central America',\n",
       " 'stability': 2,\n",
       " 'battleground': True,\n",
       " 'adjacent_countries': ['Guatemala', 'USA'],\n",
       " 'us_influence': 6,\n",
       " 'ussr_influence': 1}"
      ]
     },
     "execution_count": 9,
     "metadata": {},
     "output_type": "execute_result"
    }
   ],
   "source": [
    "Mexico"
   ]
  },
  {
   "cell_type": "code",
   "execution_count": 10,
   "metadata": {
    "ExecuteTime": {
     "end_time": "2020-01-29T16:01:37.299150Z",
     "start_time": "2020-01-29T16:01:37.201139Z"
    }
   },
   "outputs": [
    {
     "ename": "ValueError",
     "evalue": "Not enough operations points!",
     "output_type": "error",
     "traceback": [
      "\u001b[1;31m---------------------------------------------------------------------------\u001b[0m",
      "\u001b[1;31mValueError\u001b[0m                                Traceback (most recent call last)",
      "\u001b[1;32m<ipython-input-10-f51e1507738a>\u001b[0m in \u001b[0;36m<module>\u001b[1;34m\u001b[0m\n\u001b[1;32m----> 1\u001b[1;33m \u001b[0mplace_influence\u001b[0m\u001b[1;33m(\u001b[0m\u001b[0mMexico\u001b[0m\u001b[1;33m,\u001b[0m \u001b[1;34m'ussr'\u001b[0m\u001b[1;33m,\u001b[0m \u001b[1;36m1\u001b[0m\u001b[1;33m)\u001b[0m\u001b[1;33m\u001b[0m\u001b[1;33m\u001b[0m\u001b[0m\n\u001b[0m",
      "\u001b[1;32m<ipython-input-6-77853cf58f9e>\u001b[0m in \u001b[0;36mplace_influence\u001b[1;34m(country, side, effective_operations_points)\u001b[0m\n\u001b[0;32m      5\u001b[0m             \u001b[0madjust_influence\u001b[0m\u001b[1;33m(\u001b[0m\u001b[0mcountry\u001b[0m\u001b[1;33m,\u001b[0m \u001b[1;34m'ussr'\u001b[0m\u001b[1;33m,\u001b[0m \u001b[1;36m1\u001b[0m\u001b[1;33m)\u001b[0m\u001b[1;33m\u001b[0m\u001b[1;33m\u001b[0m\u001b[0m\n\u001b[0;32m      6\u001b[0m         \u001b[1;32melse\u001b[0m\u001b[1;33m:\u001b[0m\u001b[1;33m\u001b[0m\u001b[1;33m\u001b[0m\u001b[0m\n\u001b[1;32m----> 7\u001b[1;33m             \u001b[1;32mraise\u001b[0m \u001b[0mValueError\u001b[0m\u001b[1;33m(\u001b[0m\u001b[1;34m'Not enough operations points!'\u001b[0m\u001b[1;33m)\u001b[0m\u001b[1;33m\u001b[0m\u001b[1;33m\u001b[0m\u001b[0m\n\u001b[0m\u001b[0;32m      8\u001b[0m         \u001b[1;32mif\u001b[0m \u001b[0meffective_operations_points\u001b[0m \u001b[1;33m-\u001b[0m \u001b[1;36m2\u001b[0m \u001b[1;33m>\u001b[0m \u001b[1;36m0\u001b[0m\u001b[1;33m:\u001b[0m\u001b[1;33m\u001b[0m\u001b[1;33m\u001b[0m\u001b[0m\n\u001b[0;32m      9\u001b[0m             \u001b[0mplace_influence\u001b[0m\u001b[1;33m(\u001b[0m\u001b[0mcountry\u001b[0m\u001b[1;33m,\u001b[0m \u001b[0mside\u001b[0m\u001b[1;33m,\u001b[0m \u001b[0meffective_operations_points\u001b[0m \u001b[1;33m-\u001b[0m \u001b[1;36m2\u001b[0m\u001b[1;33m)\u001b[0m\u001b[1;33m\u001b[0m\u001b[1;33m\u001b[0m\u001b[0m\n",
      "\u001b[1;31mValueError\u001b[0m: Not enough operations points!"
     ]
    }
   ],
   "source": [
    "place_influence(Mexico, 'ussr', 1)"
   ]
  },
  {
   "cell_type": "code",
   "execution_count": 11,
   "metadata": {
    "ExecuteTime": {
     "end_time": "2020-01-29T16:01:37.426638Z",
     "start_time": "2020-01-29T16:01:37.422639Z"
    }
   },
   "outputs": [],
   "source": [
    "place_influence(Mexico, 'ussr', 2)"
   ]
  },
  {
   "cell_type": "code",
   "execution_count": 12,
   "metadata": {
    "ExecuteTime": {
     "end_time": "2020-01-29T16:01:37.624301Z",
     "start_time": "2020-01-29T16:01:37.618299Z"
    }
   },
   "outputs": [
    {
     "data": {
      "text/plain": [
       "{'country_name': 'Mexico',\n",
       " 'country_index': 67,\n",
       " 'region': 'Central America',\n",
       " 'stability': 2,\n",
       " 'battleground': True,\n",
       " 'adjacent_countries': ['Guatemala', 'USA'],\n",
       " 'us_influence': 6,\n",
       " 'ussr_influence': 2}"
      ]
     },
     "execution_count": 12,
     "metadata": {},
     "output_type": "execute_result"
    }
   ],
   "source": [
    "Mexico"
   ]
  },
  {
   "cell_type": "markdown",
   "metadata": {},
   "source": [
    "We see here that $\\textit{ussr_influence}$ has changed from 1 to 2, costing us 2 operations points to add 1 ussr influence."
   ]
  },
  {
   "cell_type": "code",
   "execution_count": 13,
   "metadata": {
    "ExecuteTime": {
     "end_time": "2020-01-29T16:01:38.371234Z",
     "start_time": "2020-01-29T16:01:38.367231Z"
    }
   },
   "outputs": [],
   "source": [
    "reset_influence(Mexico)"
   ]
  },
  {
   "cell_type": "code",
   "execution_count": 14,
   "metadata": {
    "ExecuteTime": {
     "end_time": "2020-01-29T16:01:40.288940Z",
     "start_time": "2020-01-29T16:01:40.283940Z"
    }
   },
   "outputs": [
    {
     "data": {
      "text/plain": [
       "'Here, we recreate the coup and realignment logic'"
      ]
     },
     "execution_count": 14,
     "metadata": {},
     "output_type": "execute_result"
    }
   ],
   "source": [
    "'''Here, we recreate the coup and realignment logic'''"
   ]
  },
  {
   "cell_type": "code",
   "execution_count": 15,
   "metadata": {
    "ExecuteTime": {
     "end_time": "2020-01-29T16:01:41.105791Z",
     "start_time": "2020-01-29T16:01:41.101783Z"
    }
   },
   "outputs": [],
   "source": [
    "# set(['us', 'ussr']) - set([sider])"
   ]
  },
  {
   "cell_type": "code",
   "execution_count": 16,
   "metadata": {
    "ExecuteTime": {
     "end_time": "2020-01-29T16:01:41.853909Z",
     "start_time": "2020-01-29T16:01:41.842944Z"
    }
   },
   "outputs": [],
   "source": [
    "def coup(side, country, effective_operations_points):\n",
    "    # can't coup if no opposing influence in the country\n",
    "#     if set(['us', 'ussr']) - set([side]) == 'us':\n",
    "#         set()\n",
    "    \n",
    "    # can't coup under defcon restrictions\n",
    "    \n",
    "    die_roll = np.random.randint(6) + 1\n",
    "    difference = die_roll + effective_operations_points - country['stability']*2\n",
    "    if difference > 0:\n",
    "        # successful coup!\n",
    "        if side == 'us':\n",
    "            # subtract from opposing first.. and then add to yours\n",
    "            if difference > country['ussr_influence']:\n",
    "                adjust_influence(country, 'us', difference - country['ussr_influence'])\n",
    "            adjust_influence(country, 'ussr', -min(difference, country['us_influence']))\n",
    "            \n",
    "        if side == 'ussr':\n",
    "            if difference > country['us_influence']:\n",
    "                adjust_influence(country, 'ussr', difference - country['us_influence'])\n",
    "            adjust_influence(country, 'us', -min(difference, country['us_influence']))\n",
    "        print(f'Coup successful with roll of {die_roll}! Difference: {difference}')\n",
    "    else:\n",
    "        # failed coup...\n",
    "        print(f'Coup failed with roll of {die_roll}')\n",
    "    \n",
    "    # add military points\n",
    "    # if battleground country, reduce defcon"
   ]
  },
  {
   "cell_type": "code",
   "execution_count": 17,
   "metadata": {
    "ExecuteTime": {
     "end_time": "2020-01-29T16:01:42.765377Z",
     "start_time": "2020-01-29T16:01:42.762383Z"
    }
   },
   "outputs": [],
   "source": [
    "set_influence(Mexico, 4,4)"
   ]
  },
  {
   "cell_type": "code",
   "execution_count": 18,
   "metadata": {
    "ExecuteTime": {
     "end_time": "2020-01-29T16:01:43.093890Z",
     "start_time": "2020-01-29T16:01:43.088888Z"
    }
   },
   "outputs": [
    {
     "data": {
      "text/plain": [
       "{'country_name': 'Mexico',\n",
       " 'country_index': 67,\n",
       " 'region': 'Central America',\n",
       " 'stability': 2,\n",
       " 'battleground': True,\n",
       " 'adjacent_countries': ['Guatemala', 'USA'],\n",
       " 'us_influence': 4,\n",
       " 'ussr_influence': 4}"
      ]
     },
     "execution_count": 18,
     "metadata": {},
     "output_type": "execute_result"
    }
   ],
   "source": [
    "Mexico"
   ]
  },
  {
   "cell_type": "code",
   "execution_count": 19,
   "metadata": {
    "ExecuteTime": {
     "end_time": "2020-01-29T16:01:43.663060Z",
     "start_time": "2020-01-29T16:01:43.656066Z"
    }
   },
   "outputs": [
    {
     "name": "stdout",
     "output_type": "stream",
     "text": [
      "Coup successful with roll of 2! Difference: 1\n"
     ]
    }
   ],
   "source": [
    "coup('ussr', Mexico, 3)"
   ]
  },
  {
   "cell_type": "code",
   "execution_count": 20,
   "metadata": {
    "ExecuteTime": {
     "end_time": "2020-01-29T16:01:44.945032Z",
     "start_time": "2020-01-29T16:01:44.939025Z"
    }
   },
   "outputs": [
    {
     "data": {
      "text/plain": [
       "{'country_name': 'Mexico',\n",
       " 'country_index': 67,\n",
       " 'region': 'Central America',\n",
       " 'stability': 2,\n",
       " 'battleground': True,\n",
       " 'adjacent_countries': ['Guatemala', 'USA'],\n",
       " 'us_influence': 3,\n",
       " 'ussr_influence': 4}"
      ]
     },
     "execution_count": 20,
     "metadata": {},
     "output_type": "execute_result"
    }
   ],
   "source": [
    "Mexico"
   ]
  },
  {
   "cell_type": "code",
   "execution_count": 21,
   "metadata": {
    "ExecuteTime": {
     "end_time": "2020-01-29T16:01:45.445180Z",
     "start_time": "2020-01-29T16:01:45.441178Z"
    }
   },
   "outputs": [
    {
     "name": "stdout",
     "output_type": "stream",
     "text": [
      "Coup failed with roll of 1\n"
     ]
    }
   ],
   "source": [
    "coup('ussr', Mexico, 3)"
   ]
  },
  {
   "cell_type": "code",
   "execution_count": 22,
   "metadata": {
    "ExecuteTime": {
     "end_time": "2020-01-29T16:01:52.996369Z",
     "start_time": "2020-01-29T16:01:52.989355Z"
    }
   },
   "outputs": [
    {
     "data": {
      "text/plain": [
       "{'country_name': 'Mexico',\n",
       " 'country_index': 67,\n",
       " 'region': 'Central America',\n",
       " 'stability': 2,\n",
       " 'battleground': True,\n",
       " 'adjacent_countries': ['Guatemala', 'USA'],\n",
       " 'us_influence': 3,\n",
       " 'ussr_influence': 4}"
      ]
     },
     "execution_count": 22,
     "metadata": {},
     "output_type": "execute_result"
    }
   ],
   "source": [
    "Mexico"
   ]
  },
  {
   "cell_type": "markdown",
   "metadata": {},
   "source": [
    "No change is correct."
   ]
  },
  {
   "cell_type": "code",
   "execution_count": 23,
   "metadata": {
    "ExecuteTime": {
     "end_time": "2020-01-29T16:02:21.026967Z",
     "start_time": "2020-01-29T16:02:21.021961Z"
    }
   },
   "outputs": [
    {
     "name": "stdout",
     "output_type": "stream",
     "text": [
      "Coup successful with roll of 2! Difference: 2\n"
     ]
    }
   ],
   "source": [
    "coup('ussr', Mexico, 4)"
   ]
  },
  {
   "cell_type": "code",
   "execution_count": 24,
   "metadata": {
    "ExecuteTime": {
     "end_time": "2020-01-29T16:02:23.882368Z",
     "start_time": "2020-01-29T16:02:23.877365Z"
    }
   },
   "outputs": [
    {
     "data": {
      "text/plain": [
       "{'country_name': 'Mexico',\n",
       " 'country_index': 67,\n",
       " 'region': 'Central America',\n",
       " 'stability': 2,\n",
       " 'battleground': True,\n",
       " 'adjacent_countries': ['Guatemala', 'USA'],\n",
       " 'us_influence': 1,\n",
       " 'ussr_influence': 4}"
      ]
     },
     "execution_count": 24,
     "metadata": {},
     "output_type": "execute_result"
    }
   ],
   "source": [
    "Mexico"
   ]
  },
  {
   "cell_type": "markdown",
   "metadata": {},
   "source": [
    "Let's see what happens when we coup to the end."
   ]
  },
  {
   "cell_type": "code",
   "execution_count": 25,
   "metadata": {
    "ExecuteTime": {
     "end_time": "2020-01-29T16:02:33.739225Z",
     "start_time": "2020-01-29T16:02:33.733224Z"
    }
   },
   "outputs": [
    {
     "name": "stdout",
     "output_type": "stream",
     "text": [
      "Coup successful with roll of 4! Difference: 4\n"
     ]
    }
   ],
   "source": [
    "coup('ussr', Mexico, 4)"
   ]
  },
  {
   "cell_type": "code",
   "execution_count": 26,
   "metadata": {
    "ExecuteTime": {
     "end_time": "2020-01-29T16:02:34.672755Z",
     "start_time": "2020-01-29T16:02:34.667754Z"
    }
   },
   "outputs": [
    {
     "data": {
      "text/plain": [
       "{'country_name': 'Mexico',\n",
       " 'country_index': 67,\n",
       " 'region': 'Central America',\n",
       " 'stability': 2,\n",
       " 'battleground': True,\n",
       " 'adjacent_countries': ['Guatemala', 'USA'],\n",
       " 'us_influence': 0,\n",
       " 'ussr_influence': 7}"
      ]
     },
     "execution_count": 26,
     "metadata": {},
     "output_type": "execute_result"
    }
   ],
   "source": [
    "Mexico"
   ]
  },
  {
   "cell_type": "code",
   "execution_count": null,
   "metadata": {},
   "outputs": [],
   "source": []
  },
  {
   "cell_type": "code",
   "execution_count": null,
   "metadata": {
    "ExecuteTime": {
     "end_time": "2020-01-29T15:16:49.472492Z",
     "start_time": "2020-01-29T15:16:49.457491Z"
    }
   },
   "outputs": [],
   "source": [
    "def build_standard_map():\n",
    "    set_influence(Panama, 1, 0)\n",
    "    set_influence(Canada, 2, 0)\n",
    "    set_influence(UK, 2, 0)\n",
    "    set_influence(North_Korea, 0, 1)\n",
    "    set_influence(East_Germany, 0, 3)\n",
    "    set_influence(Finland, 0, 1)\n",
    "    set_influence(Syria, 0, 1)\n",
    "    set_influence(Israel, 1, 0)\n",
    "    set_influence(Iraq, 0, 1)\n",
    "    set_influence(Iran, 1, 0)\n",
    "    set_influence(North_Korea, 0, 3)\n",
    "    set_influence(South_Korea, 1, 0)\n",
    "    set_influence(Japan, 1, 0)\n",
    "    set_influence(Philippines, 1, 0)\n",
    "    set_influence(Australia, 4, 0)\n",
    "    set_influence(South_Africa, 1, 0)"
   ]
  },
  {
   "cell_type": "code",
   "execution_count": null,
   "metadata": {
    "ExecuteTime": {
     "end_time": "2020-01-29T15:16:55.462559Z",
     "start_time": "2020-01-29T15:16:55.457561Z"
    }
   },
   "outputs": [],
   "source": [
    "build_standard_map()"
   ]
  },
  {
   "cell_type": "code",
   "execution_count": null,
   "metadata": {},
   "outputs": [],
   "source": [
    "def realignment(side, country):\n",
    "    "
   ]
  },
  {
   "cell_type": "code",
   "execution_count": null,
   "metadata": {
    "ExecuteTime": {
     "end_time": "2020-01-29T15:38:59.202422Z",
     "start_time": "2020-01-29T15:38:59.197423Z"
    }
   },
   "outputs": [],
   "source": [
    "for adjacent_country in Mexico['adjacent_countries']:\n",
    "#     print(adjacent_country)\n",
    "    adjacent_country['us_influence'] > adjacent_country['ussr_influence']"
   ]
  }
 ],
 "metadata": {
  "kernelspec": {
   "display_name": "Python 3",
   "language": "python",
   "name": "python3"
  },
  "language_info": {
   "codemirror_mode": {
    "name": "ipython",
    "version": 3
   },
   "file_extension": ".py",
   "mimetype": "text/x-python",
   "name": "python",
   "nbconvert_exporter": "python",
   "pygments_lexer": "ipython3",
   "version": "3.6.9"
  }
 },
 "nbformat": 4,
 "nbformat_minor": 2
}
