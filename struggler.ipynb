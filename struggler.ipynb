{
 "cells": [
  {
   "cell_type": "markdown",
   "metadata": {},
   "source": [
    "### Twilight Struggle"
   ]
  },
  {
   "cell_type": "code",
   "execution_count": 1,
   "metadata": {
    "ExecuteTime": {
     "end_time": "2020-02-04T04:54:38.110516Z",
     "start_time": "2020-02-04T04:54:37.386536Z"
    }
   },
   "outputs": [],
   "source": [
    "import pandas as pd\n",
    "import numpy as np\n",
    "import random\n",
    "from twilight_cards import *"
   ]
  },
  {
   "cell_type": "code",
   "execution_count": 2,
   "metadata": {},
   "outputs": [],
   "source": [
    "all_cards = dict()\n",
    "early_war_cards = dict()"
   ]
  },
  {
   "cell_type": "code",
   "execution_count": 3,
   "metadata": {
    "ExecuteTime": {
     "end_time": "2020-02-04T04:54:38.126380Z",
     "start_time": "2020-02-04T04:54:38.113511Z"
    }
   },
   "outputs": [],
   "source": [
    "class card:\n",
    "    '''\n",
    "    Cards should be able to be used for:\n",
    "    1. Event\n",
    "    2. Realignment\n",
    "    3. Coup\n",
    "    4. Placing influence\n",
    "    5. Space race\n",
    "    6. Trigger event first >> realignment/coup/influence\n",
    "    '''\n",
    "    def __init__(self, card_name, card_number, **kwargs):\n",
    "        self.card_name = card_name\n",
    "        self.card_number = card_number\n",
    "        for key, value in kwargs.items():\n",
    "            setattr(self, key, value)\n",
    "        all_cards[card_name] = self\n",
    "        if self.stage == 'Early War':\n",
    "            early_war_cards[card_name] = self\n",
    "    \n",
    "    def __repr__(self):\n",
    "#         sb = []\n",
    "#         for key in self.__dict__:\n",
    "#             sb.append(\"{key}='{value}'\".format(key=key, value=self.__dict__[key]))\n",
    "#         return ', '.join(sb)\n",
    "        return self.card_name\n",
    "    \n",
    "    def trigger_event_first(self):\n",
    "        # only possible if opponent event\n",
    "        pass\n",
    "    \n",
    "    def use_for_influence(self):\n",
    "        pass\n",
    "    \n",
    "    def use_for_space_race(self):\n",
    "        pass\n",
    "    \n",
    "    def use_for_event(self):\n",
    "        for event in self.event_effects:\n",
    "            event[0](event[1])\n",
    "        if hasattr(self, 'remove_if_used_as_event'):\n",
    "            if self.remove_if_used_as_event:\n",
    "            # to add functionality for remove cards from hand and into removed pile\n",
    "                pass\n",
    "    \n",
    "    def use_for_coup(self):\n",
    "        pass\n",
    "    \n",
    "    def use_for_realignment(self):\n",
    "        pass\n",
    "    \n",
    "    def possible_actions(self):\n",
    "        pass"
   ]
  },
  {
   "cell_type": "markdown",
   "metadata": {},
   "source": [
    "Let's create cards by index 1-110. Early war: 1-35, 103-106. Mid war: 36-81, 107-108. Late war: 82-102, 109-110. China card is card(6)."
   ]
  },
  {
   "cell_type": "markdown",
   "metadata": {},
   "source": [
    "### Setup"
   ]
  },
  {
   "cell_type": "code",
   "execution_count": 4,
   "metadata": {
    "ExecuteTime": {
     "end_time": "2020-02-04T04:54:38.175271Z",
     "start_time": "2020-02-04T04:54:38.157268Z"
    }
   },
   "outputs": [],
   "source": [
    "Arab_Israeli_War = card(**Arab_Israeli_War)\n",
    "Asia_Scoring = card(**Asia_Scoring)\n",
    "Blockade = card(**Blockade)\n",
    "CIA_Created = card(**CIA_Created)\n",
    "COMECON = card(**COMECON)\n",
    "Captured_Nazi_Scientist = card(**Captured_Nazi_Scientist)\n",
    "Containment = card(**Containment)\n",
    "De_Gaulle_Leads_France = card(**De_Gaulle_Leads_France)\n",
    "De_Stalinization = card(**De_Stalinization)\n",
    "Decolonization = card(**Decolonization)\n",
    "Defectors = card(**Defectors)\n",
    "Duck_and_Cover = card(**Duck_and_Cover)\n",
    "East_European_Unrest = card(**East_European_Unrest)\n",
    "Europe_Scoring = card(**Europe_Scoring)\n",
    "Fidel = card(**Fidel)\n",
    "Five_Year_Plan = card(**Five_Year_Plan)\n",
    "Formosan_Resolution = card(**Formosan_Resolution)\n",
    "Independent_Reds = card(**Independent_Reds)\n",
    "Indo_Pakistani_War = card(**Indo_Pakistani_War)\n",
    "Korean_War = card(**Korean_War)\n",
    "Marshall_Plan = card(**Marshall_Plan)\n",
    "Middle_East_Scoring = card(**Middle_East_Scoring)\n",
    "NATO = card(**NATO)\n",
    "NORAD = card(**NORAD)\n",
    "Nasser = card(**Nasser)\n",
    "Nuclear_Test_Ban = card(**Nuclear_Test_Ban)\n",
    "Olympic_Games = card(**Olympic_Games)\n",
    "Red_Scare_Purge = card(**Red_Scare_Purge)\n",
    "Romanian_Abdication = card(**Romanian_Abdication)\n",
    "Socialist_Governments = card(**Socialist_Governments)\n",
    "Special_Relationship = card(**Special_Relationship)\n",
    "Suez_Crisis = card(**Suez_Crisis)\n",
    "The_Cambridge_Five = card(**The_Cambridge_Five)\n",
    "The_China_Card = card(**The_China_Card)\n",
    "Truman_Doctrine = card(**Truman_Doctrine)\n",
    "UN_Intervention = card(**UN_Intervention)\n",
    "US_Japan_Mutual_Defense_Pact = card(**US_Japan_Mutual_Defense_Pact)\n",
    "Vietnam_Revolts = card(**Vietnam_Revolts)\n",
    "Warsaw_Pact_Formed = card(**Warsaw_Pact_Formed)"
   ]
  },
  {
   "cell_type": "code",
   "execution_count": 5,
   "metadata": {
    "ExecuteTime": {
     "end_time": "2020-02-04T04:54:38.186309Z",
     "start_time": "2020-02-04T04:54:38.179268Z"
    }
   },
   "outputs": [],
   "source": [
    "us_hand = []\n",
    "ussr_hand = []\n",
    "removed_pile = []\n",
    "discard_pile = []\n",
    "draw_pile = []"
   ]
  },
  {
   "cell_type": "code",
   "execution_count": 6,
   "metadata": {},
   "outputs": [
    {
     "data": {
      "text/plain": [
       "39"
      ]
     },
     "execution_count": 6,
     "metadata": {},
     "output_type": "execute_result"
    }
   ],
   "source": [
    "len(early_war_cards)"
   ]
  },
  {
   "cell_type": "code",
   "execution_count": 7,
   "metadata": {
    "ExecuteTime": {
     "end_time": "2020-02-04T04:54:38.200269Z",
     "start_time": "2020-02-04T04:54:38.189760Z"
    }
   },
   "outputs": [],
   "source": [
    "'''\n",
    "Remove the China card from the early war pile. Put early war cards into the draw pile. Shuffle and deal the draw pile.\n",
    "Distribute the cards to players. Each player receives 8 cards each.\n",
    "'''\n",
    "ussr_hand.append(early_war_cards.pop('The China Card'))\n",
    "draw_pile.extend(early_war_cards.values())\n",
    "random.shuffle(draw_pile)\n",
    "ussr_hand.extend([draw_pile.pop() for i in range(8)])\n",
    "us_hand.extend([draw_pile.pop() for i in range(8)])"
   ]
  },
  {
   "cell_type": "code",
   "execution_count": 8,
   "metadata": {
    "scrolled": false
   },
   "outputs": [
    {
     "data": {
      "text/plain": [
       "[Nasser,\n",
       " Suez Crisis,\n",
       " Romanian Abdication,\n",
       " Five-Year Plan,\n",
       " Middle East Scoring,\n",
       " Nuclear Test Ban,\n",
       " East European Unrest,\n",
       " UN Intervention,\n",
       " De Gaulle Leads France,\n",
       " Special Relationship,\n",
       " Europe Scoring,\n",
       " Indo-Pakistani War,\n",
       " US/Japan Mutual Defense Pact,\n",
       " Decolonization,\n",
       " Olympic Games,\n",
       " Warsaw Pact Formed,\n",
       " Vietnam Revolts,\n",
       " Red Scare/Purge,\n",
       " Captured Nazi Scientist,\n",
       " Arab-Israeli War,\n",
       " Containment,\n",
       " Formosan Resolution]"
      ]
     },
     "execution_count": 8,
     "metadata": {},
     "output_type": "execute_result"
    }
   ],
   "source": [
    "draw_pile"
   ]
  },
  {
   "cell_type": "markdown",
   "metadata": {},
   "source": [
    "### Create the turn order\n",
    "1. Increase DEFCON status\n",
    "2. Deal Cards\n",
    "3. Headline Phase\n",
    "4. Action Rounds (advance round marker)\n",
    "5. Check milops\n",
    "6. Check for held scoring card\n",
    "7. Flip China Card\n",
    "8. Advance turn marker\n",
    "9. Final scoring (end T10)"
   ]
  },
  {
   "cell_type": "code",
   "execution_count": 9,
   "metadata": {},
   "outputs": [
    {
     "data": {
      "text/plain": [
       "{'Arab-Israeli War': Arab-Israeli War,\n",
       " 'Asia Scoring': Asia Scoring,\n",
       " 'Blockade': Blockade,\n",
       " 'CIA Created': CIA Created,\n",
       " 'COMECON': COMECON,\n",
       " 'Captured Nazi Scientist': Captured Nazi Scientist,\n",
       " 'Containment': Containment,\n",
       " 'De Gaulle Leads France': De Gaulle Leads France,\n",
       " 'De-Stalinization': De-Stalinization,\n",
       " 'Decolonization': Decolonization,\n",
       " 'Defectors': Defectors,\n",
       " 'Duck and Cover': Duck and Cover,\n",
       " 'East European Unrest': East European Unrest,\n",
       " 'Europe Scoring': Europe Scoring,\n",
       " 'Fidel': Fidel,\n",
       " 'Five-Year Plan': Five-Year Plan,\n",
       " 'Formosan Resolution': Formosan Resolution,\n",
       " 'Independent Reds': Independent Reds,\n",
       " 'Indo-Pakistani War': Indo-Pakistani War,\n",
       " 'Korean War': Korean War,\n",
       " 'Marshall Plan': Marshall Plan,\n",
       " 'Middle East Scoring': Middle East Scoring,\n",
       " 'NATO': NATO,\n",
       " 'NORAD': NORAD,\n",
       " 'Nasser': Nasser,\n",
       " 'Nuclear Test Ban': Nuclear Test Ban,\n",
       " 'Olympic Games': Olympic Games,\n",
       " 'Red Scare/Purge': Red Scare/Purge,\n",
       " 'Romanian Abdication': Romanian Abdication,\n",
       " 'Socialist Governments': Socialist Governments,\n",
       " 'Special Relationship': Special Relationship,\n",
       " 'Suez Crisis': Suez Crisis,\n",
       " 'The Cambridge Five': The Cambridge Five,\n",
       " 'Truman Doctrine': Truman Doctrine,\n",
       " 'UN Intervention': UN Intervention,\n",
       " 'US/Japan Mutual Defense Pact': US/Japan Mutual Defense Pact,\n",
       " 'Vietnam Revolts': Vietnam Revolts,\n",
       " 'Warsaw Pact Formed': Warsaw Pact Formed}"
      ]
     },
     "execution_count": 9,
     "metadata": {},
     "output_type": "execute_result"
    }
   ],
   "source": [
    "early_war_cards"
   ]
  },
  {
   "cell_type": "markdown",
   "metadata": {},
   "source": [
    "### Create space race track\n",
    "1. Create the buffs\n",
    "2. Need to add the additional functionality gained with being faster on the space race."
   ]
  },
  {
   "cell_type": "markdown",
   "metadata": {},
   "source": [
    "### Scoring Cards"
   ]
  },
  {
   "cell_type": "markdown",
   "metadata": {},
   "source": [
    "Hi Box. Below Asia_Scoring prints the right message but doesn't change the VP track. Problem with globals variables?"
   ]
  },
  {
   "cell_type": "code",
   "execution_count": 10,
   "metadata": {
    "ExecuteTime": {
     "end_time": "2020-02-04T04:54:38.248329Z",
     "start_time": "2020-02-04T04:54:38.237338Z"
    }
   },
   "outputs": [
    {
     "name": "stdout",
     "output_type": "stream",
     "text": [
      "Asia scores for 1 VPs\n"
     ]
    },
    {
     "data": {
      "text/plain": [
       "0"
      ]
     },
     "execution_count": 10,
     "metadata": {},
     "output_type": "execute_result"
    }
   ],
   "source": [
    "Asia_Scoring.use_for_event()\n",
    "vp_track"
   ]
  },
  {
   "cell_type": "code",
   "execution_count": 11,
   "metadata": {
    "ExecuteTime": {
     "end_time": "2020-02-04T04:54:38.264268Z",
     "start_time": "2020-02-04T04:54:38.252267Z"
    }
   },
   "outputs": [
    {
     "data": {
      "text/plain": [
       "country(Egypt, region = Middle East, stability = 2, battleground = True, adjacent = ['Libya', 'Israel', 'Sudan'], us_inf = 0, ussr_inf = 0), control = none"
      ]
     },
     "execution_count": 11,
     "metadata": {},
     "output_type": "execute_result"
    }
   ],
   "source": [
    "Egypt"
   ]
  },
  {
   "cell_type": "code",
   "execution_count": 12,
   "metadata": {
    "ExecuteTime": {
     "end_time": "2020-02-04T04:54:38.278603Z",
     "start_time": "2020-02-04T04:54:38.268282Z"
    }
   },
   "outputs": [
    {
     "data": {
      "text/plain": [
       "country(Egypt, region = Middle East, stability = 2, battleground = True, adjacent = ['Libya', 'Israel', 'Sudan'], us_inf = 0, ussr_inf = 2), control = ussr"
      ]
     },
     "execution_count": 12,
     "metadata": {},
     "output_type": "execute_result"
    }
   ],
   "source": [
    "Nasser.use_for_event()\n",
    "Egypt"
   ]
  },
  {
   "cell_type": "code",
   "execution_count": null,
   "metadata": {
    "ExecuteTime": {
     "end_time": "2020-02-04T04:54:38.297267Z",
     "start_time": "2020-02-04T04:54:38.282424Z"
    }
   },
   "outputs": [],
   "source": []
  }
 ],
 "metadata": {
  "kernelspec": {
   "display_name": "Python 3",
   "language": "python",
   "name": "python3"
  },
  "language_info": {
   "codemirror_mode": {
    "name": "ipython",
    "version": 3
   },
   "file_extension": ".py",
   "mimetype": "text/x-python",
   "name": "python",
   "nbconvert_exporter": "python",
   "pygments_lexer": "ipython3",
   "version": "3.7.4"
  }
 },
 "nbformat": 4,
 "nbformat_minor": 2
}
