{
 "cells": [
  {
   "cell_type": "markdown",
   "metadata": {},
   "source": [
    "### Twilight Struggle"
   ]
  },
  {
   "cell_type": "code",
   "execution_count": 1,
   "metadata": {
    "ExecuteTime": {
     "end_time": "2020-02-09T03:10:11.361916Z",
     "start_time": "2020-02-09T03:10:10.660428Z"
    }
   },
   "outputs": [],
   "source": [
    "import numpy as np\n",
    "import random\n",
    "\n",
    "from twilight_map import *\n",
    "from game_mechanics import *\n",
    "from twilight_cards import *"
   ]
  },
  {
   "cell_type": "markdown",
   "metadata": {},
   "source": [
    "### Game Instance"
   ]
  },
  {
   "cell_type": "code",
   "execution_count": 2,
   "metadata": {
    "ExecuteTime": {
     "end_time": "2020-02-09T03:10:20.326902Z",
     "start_time": "2020-02-09T03:10:12.297418Z"
    },
    "scrolled": false
   },
   "outputs": [
    {
     "name": "stdout",
     "output_type": "stream",
     "text": [
      "Initalising game..\n",
      "\n",
      "----- USSR Player: -----\n",
      "You may place 6 influence in these countries. Type in their country indices, separated by commas (no spaces).\n",
      "East_Germany, 16\n",
      "Romania, 21\n",
      "Yugoslavia, 20\n",
      "Finland, 7\n",
      "Czechoslovakia, 18\n",
      "Hungary, 19\n",
      "Austria, 14\n",
      "Bulgaria, 22\n",
      "Poland, 17\n",
      "> 7,7,7,7,7,7\n",
      "0 {'7'} {'18', '20', '14', '19', '16', '22', '7', '17', '21'}\n",
      "\n",
      "----- US Player: -----\n",
      "You may place 7 influence in these countries. Type in their country indices, separated by commas (no spaces).\n",
      "Spain_Portugal, 11\n",
      "Finland, 7\n",
      "Italy, 12\n",
      "Sweden, 6\n",
      "Denmark, 8\n",
      "West_Germany, 15\n",
      "France, 10\n",
      "Turkey, 23\n",
      "Canada, 3\n",
      "Austria, 14\n",
      "Benelux, 9\n",
      "Norway, 5\n",
      "Greece, 13\n",
      "UK, 4\n",
      "> 4,4,4,4,4,4,4\n",
      "0 {'4'} {'3', '5', '4', '9', '14', '8', '23', '11', '6', '12', '15', '13', '7', '10'}\n",
      "\n",
      "----- US Player: -----\n",
      "You may place 2 influence in these countries. Type in their country indices, separated by commas (no spaces).\n",
      "US, 2\n",
      "Canada, 3\n",
      "UK, 4\n",
      "Israel, 26\n",
      "Iran, 30\n",
      "Australia, 42\n",
      "Philippines, 44\n",
      "Japan, 45\n",
      "South_Korea, 47\n",
      "South_Africa, 59\n",
      "Panama, 72\n",
      "> 2,3\n",
      "US Victory!\n",
      "Final scoring complete.\n",
      "US Victory!\n",
      "Final scoring complete.\n",
      "US Victory!\n",
      "Final scoring complete.\n",
      "US Victory!\n",
      "Final scoring complete.\n",
      "US Victory!\n",
      "Final scoring complete.\n",
      "US Victory!\n",
      "Final scoring complete.\n",
      "US Victory!\n",
      "Final scoring complete.\n",
      "End of game.\n"
     ]
    }
   ],
   "source": [
    "# this is a temporary measure. It should go into UI.new()\n",
    "g = Game()\n",
    "g.ui.run()"
   ]
  },
  {
   "cell_type": "code",
   "execution_count": null,
   "metadata": {},
   "outputs": [],
   "source": []
  }
 ],
 "metadata": {
  "kernelspec": {
   "display_name": "Python 3",
   "language": "python",
   "name": "python3"
  },
  "language_info": {
   "codemirror_mode": {
    "name": "ipython",
    "version": 3
   },
   "file_extension": ".py",
   "mimetype": "text/x-python",
   "name": "python",
   "nbconvert_exporter": "python",
   "pygments_lexer": "ipython3",
   "version": "3.8.1"
  }
 },
 "nbformat": 4,
 "nbformat_minor": 2
}
