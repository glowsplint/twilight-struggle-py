{
 "cells": [
  {
   "cell_type": "markdown",
   "metadata": {},
   "source": [
    "### Twilight Struggle"
   ]
  },
  {
   "cell_type": "code",
   "execution_count": 1,
   "metadata": {
    "ExecuteTime": {
     "end_time": "2020-02-10T08:38:54.811620Z",
     "start_time": "2020-02-10T08:38:54.654603Z"
    }
   },
   "outputs": [],
   "source": [
    "import numpy as np\n",
    "import random\n",
    "\n",
    "from twilight_map import *\n",
    "from game_mechanics import *\n",
    "from twilight_cards import *"
   ]
  },
  {
   "cell_type": "markdown",
   "metadata": {},
   "source": [
    "### Game Instance"
   ]
  },
  {
   "cell_type": "code",
   "execution_count": 2,
   "metadata": {
    "ExecuteTime": {
     "end_time": "2020-02-10T08:39:03.783777Z",
     "start_time": "2020-02-10T08:38:54.813601Z"
    },
    "scrolled": false
   },
   "outputs": [
    {
     "name": "stdout",
     "output_type": "stream",
     "text": [
      "Initalising game..\n",
      "\n",
      "----- USSR Player: -----\n",
      "You may modify 6 influence in these countries. Type in their country indices, separated by commas (no spaces).\n",
      "East_Germany, 16\n",
      "Czechoslovakia, 18\n",
      "Finland, 7\n",
      "Bulgaria, 22\n",
      "Romania, 21\n",
      "Austria, 14\n",
      "Poland, 17\n",
      "Hungary, 19\n",
      "Yugoslavia, 20\n",
      "> q\n",
      "\n",
      "----- US Player: -----\n",
      "You may modify 7 influence in these countries. Type in their country indices, separated by commas (no spaces).\n",
      "Finland, 7\n",
      "Canada, 3\n",
      "West_Germany, 15\n",
      "Benelux, 9\n",
      "Norway, 5\n",
      "Spain_Portugal, 11\n",
      "Sweden, 6\n",
      "Austria, 14\n",
      "Turkey, 23\n",
      "UK, 4\n",
      "Greece, 13\n",
      "Italy, 12\n",
      "France, 10\n",
      "Denmark, 8\n",
      "> q\n",
      "\n",
      "----- US Player: -----\n",
      "You may modify 2 influence in these countries. Type in their country indices, separated by commas (no spaces).\n",
      "Canada, 3\n",
      "UK, 4\n",
      "Israel, 26\n",
      "Iran, 30\n",
      "Australia, 42\n",
      "Philippines, 44\n",
      "Japan, 45\n",
      "South_Korea, 47\n",
      "South_Africa, 59\n",
      "Panama, 72\n",
      "> q\n",
      "\n",
      "----- USSR Player: -----\n",
      "You may headline any of these cards. Type in the card index.\n",
      "Five_Year_Plan, 5\n",
      "Romanian_Abdication, 12\n",
      "Containment, 25\n",
      "Truman_Doctrine, 19\n",
      "Asia_Scoring, 1\n",
      "Olympic_Games, 20\n",
      "NATO, 21\n",
      "Blockade, 10\n",
      "> 1\n",
      "ASIA scores for 1 VP\n",
      "\n",
      "----- US Player: -----\n",
      "You may headline any of these cards. Type in the card index.\n",
      "Decolonization, 30\n",
      "Marshall_Plan, 23\n",
      "Suez_Crisis, 28\n",
      "The_Cambridge_Five, 104\n",
      "Arab_Israeli_War, 13\n",
      "Captured_Nazi_Scientist, 18\n",
      "Socialist_Governments, 7\n",
      "East_European_Unrest, 29\n",
      "> 30\n",
      "\n",
      "US selected Decolonization for headline.\n",
      "ASIA scores for 1 VP\n",
      "\n",
      "US selected Asia_Scoring for headline.\n",
      "Final scoring complete.\n",
      "Final scoring complete.\n",
      "Final scoring complete.\n",
      "Final scoring complete.\n",
      "Final scoring complete.\n",
      "Final scoring complete.\n",
      "Final scoring complete.\n",
      "End of game.\n"
     ]
    }
   ],
   "source": [
    "# this is a temporary measure. It should go into UI.new()\n",
    "g = Game()\n",
    "g.ui.run()"
   ]
  },
  {
   "cell_type": "code",
   "execution_count": 3,
   "metadata": {
    "ExecuteTime": {
     "end_time": "2020-02-10T08:39:03.792757Z",
     "start_time": "2020-02-10T08:39:03.786761Z"
    }
   },
   "outputs": [
    {
     "name": "stdout",
     "output_type": "stream",
     "text": [
      "ASIA scores for 1 VP\n"
     ]
    }
   ],
   "source": [
    "Game.card_function_mapping['Asia_Scoring'](g)"
   ]
  },
  {
   "cell_type": "code",
   "execution_count": 4,
   "metadata": {
    "ExecuteTime": {
     "end_time": "2020-02-10T08:39:03.813761Z",
     "start_time": "2020-02-10T08:39:03.795759Z"
    }
   },
   "outputs": [
    {
     "data": {
      "text/plain": [
       "0"
      ]
     },
     "execution_count": 4,
     "metadata": {},
     "output_type": "execute_result"
    }
   ],
   "source": [
    "g._NATO()"
   ]
  },
  {
   "cell_type": "code",
   "execution_count": 5,
   "metadata": {
    "ExecuteTime": {
     "end_time": "2020-02-10T08:39:04.032759Z",
     "start_time": "2020-02-10T08:39:03.816760Z"
    }
   },
   "outputs": [
    {
     "ename": "AttributeError",
     "evalue": "'Game' object has no attribute 'nato_in_play'",
     "output_type": "error",
     "traceback": [
      "\u001b[1;31m---------------------------------------------------------------------------\u001b[0m",
      "\u001b[1;31mAttributeError\u001b[0m                            Traceback (most recent call last)",
      "\u001b[1;32m<ipython-input-5-a45ce1b0f605>\u001b[0m in \u001b[0;36m<module>\u001b[1;34m\u001b[0m\n\u001b[1;32m----> 1\u001b[1;33m \u001b[0mg\u001b[0m\u001b[1;33m.\u001b[0m\u001b[0mnato_in_play\u001b[0m\u001b[1;33m\u001b[0m\u001b[1;33m\u001b[0m\u001b[0m\n\u001b[0m",
      "\u001b[1;31mAttributeError\u001b[0m: 'Game' object has no attribute 'nato_in_play'"
     ]
    }
   ],
   "source": [
    "g.nato_in_play"
   ]
  }
 ],
 "metadata": {
  "kernelspec": {
   "display_name": "Python 3",
   "language": "python",
   "name": "python3"
  },
  "language_info": {
   "codemirror_mode": {
    "name": "ipython",
    "version": 3
   },
   "file_extension": ".py",
   "mimetype": "text/x-python",
   "name": "python",
   "nbconvert_exporter": "python",
   "pygments_lexer": "ipython3",
   "version": "3.8.1"
  }
 },
 "nbformat": 4,
 "nbformat_minor": 2
}
