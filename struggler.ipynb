{
 "cells": [
  {
   "cell_type": "markdown",
   "metadata": {},
   "source": [
    "### Twilight Struggle"
   ]
  },
  {
   "cell_type": "code",
   "execution_count": 1,
   "metadata": {
    "ExecuteTime": {
     "end_time": "2020-02-09T07:50:17.910470Z",
     "start_time": "2020-02-09T07:50:17.758467Z"
    }
   },
   "outputs": [],
   "source": [
    "import numpy as np\n",
    "import random\n",
    "\n",
    "from twilight_map import *\n",
    "from game_mechanics import *\n",
    "from twilight_cards import *"
   ]
  },
  {
   "cell_type": "markdown",
   "metadata": {},
   "source": [
    "### Game Instance"
   ]
  },
  {
   "cell_type": "code",
   "execution_count": 2,
   "metadata": {
    "ExecuteTime": {
     "end_time": "2020-02-09T07:50:19.895861Z",
     "start_time": "2020-02-09T07:50:17.912465Z"
    },
    "scrolled": false
   },
   "outputs": [
    {
     "name": "stdout",
     "output_type": "stream",
     "text": [
      "Initalising game..\n",
      "\n",
      "----- USSR Player: -----\n",
      "You may modify 6 influence in these countries. Type in their country indices, separated by commas (no spaces).\n",
      "Yugoslavia, 20\n",
      "Czechoslovakia, 18\n",
      "Bulgaria, 22\n",
      "Austria, 14\n",
      "Hungary, 19\n",
      "Romania, 21\n",
      "East_Germany, 16\n",
      "Poland, 17\n",
      "Finland, 7\n",
      "> q\n",
      "\n",
      "----- US Player: -----\n",
      "You may modify 7 influence in these countries. Type in their country indices, separated by commas (no spaces).\n",
      "Denmark, 8\n",
      "Austria, 14\n",
      "Canada, 3\n",
      "Sweden, 6\n",
      "Spain_Portugal, 11\n",
      "Turkey, 23\n",
      "Italy, 12\n",
      "Benelux, 9\n",
      "Norway, 5\n",
      "UK, 4\n",
      "West_Germany, 15\n",
      "Greece, 13\n",
      "France, 10\n",
      "Finland, 7\n",
      "> q\n",
      "\n",
      "----- US Player: -----\n",
      "You may modify 2 influence in these countries. Type in their country indices, separated by commas (no spaces).\n",
      "US, 2\n",
      "Canada, 3\n",
      "UK, 4\n",
      "Israel, 26\n",
      "Iran, 30\n",
      "Australia, 42\n",
      "Philippines, 44\n",
      "Japan, 45\n",
      "South_Korea, 47\n",
      "South_Africa, 59\n",
      "Panama, 72\n",
      "> q\n",
      "USSR Victory!\n",
      "Final scoring complete.\n",
      "USSR Victory!\n",
      "Final scoring complete.\n",
      "USSR Victory!\n",
      "Final scoring complete.\n",
      "USSR Victory!\n",
      "Final scoring complete.\n",
      "USSR Victory!\n",
      "Final scoring complete.\n",
      "USSR Victory!\n",
      "Final scoring complete.\n",
      "USSR Victory!\n",
      "Final scoring complete.\n",
      "End of game.\n"
     ]
    }
   ],
   "source": [
    "# this is a temporary measure. It should go into UI.new()\n",
    "g = Game()\n",
    "g.ui.run()"
   ]
  },
  {
   "cell_type": "code",
   "execution_count": 3,
   "metadata": {
    "ExecuteTime": {
     "end_time": "2020-02-09T07:50:21.508643Z",
     "start_time": "2020-02-09T07:50:19.898862Z"
    }
   },
   "outputs": [
    {
     "name": "stdout",
     "output_type": "stream",
     "text": [
      "\n",
      "----- USSR Player: -----\n",
      "You may headline any of these cards. Type in the card index.\n",
      "Asia_Scoring, 1\n",
      "Containment, 25\n",
      "Marshall_Plan, 23\n",
      "Defectors, 103\n",
      "Indo_Pakistani_War, 24\n",
      "The_Cambridge_Five, 104\n",
      "Decolonization, 30\n",
      "Middle_East_Scoring, 3\n",
      "U2_Incident, 60\n",
      "> 1\n"
     ]
    }
   ],
   "source": [
    "g.choose_headline(Side.USSR)"
   ]
  },
  {
   "cell_type": "code",
   "execution_count": 4,
   "metadata": {
    "ExecuteTime": {
     "end_time": "2020-02-09T07:50:30.991446Z",
     "start_time": "2020-02-09T07:50:30.981448Z"
    }
   },
   "outputs": [
    {
     "data": {
      "text/plain": [
       "[The_China_Card - 4,\n",
       " Containment - 3,\n",
       " Marshall_Plan - 4,\n",
       " Defectors - 2,\n",
       " Indo_Pakistani_War - 2,\n",
       " The_Cambridge_Five - 2,\n",
       " Decolonization - 2,\n",
       " Middle_East_Scoring,\n",
       " U2_Incident - 3]"
      ]
     },
     "execution_count": 4,
     "metadata": {},
     "output_type": "execute_result"
    }
   ],
   "source": [
    "g.ussr_hand"
   ]
  }
 ],
 "metadata": {
  "kernelspec": {
   "display_name": "Python 3",
   "language": "python",
   "name": "python3"
  },
  "language_info": {
   "codemirror_mode": {
    "name": "ipython",
    "version": 3
   },
   "file_extension": ".py",
   "mimetype": "text/x-python",
   "name": "python",
   "nbconvert_exporter": "python",
   "pygments_lexer": "ipython3",
   "version": "3.8.1"
  }
 },
 "nbformat": 4,
 "nbformat_minor": 2
}
