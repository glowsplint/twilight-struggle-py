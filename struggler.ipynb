{
 "cells": [
  {
   "cell_type": "markdown",
   "metadata": {},
   "source": [
    "### Twilight Struggle"
   ]
  },
  {
   "cell_type": "code",
   "execution_count": 1,
   "metadata": {
    "ExecuteTime": {
     "end_time": "2020-02-06T09:43:42.955029Z",
     "start_time": "2020-02-06T09:43:42.784011Z"
    }
   },
   "outputs": [],
   "source": [
    "import numpy as np\n",
    "import random\n",
    "\n",
    "from twilight_map import *\n",
    "from game_mechanics import *\n",
    "from twilight_cards import *"
   ]
  },
  {
   "cell_type": "markdown",
   "metadata": {},
   "source": [
    "### Setup"
   ]
  },
  {
   "cell_type": "code",
   "execution_count": 2,
   "metadata": {
    "ExecuteTime": {
     "end_time": "2020-02-06T09:43:42.976013Z",
     "start_time": "2020-02-06T09:43:42.957008Z"
    }
   },
   "outputs": [],
   "source": [
    "class UI:\n",
    "\n",
    "    help = \"\"\"\n",
    "The following commands are available:\n",
    "?           Displays this help text.\n",
    "m           Lists all possible moves, along with their respective IDs.\n",
    "m <ID>      Makes a move.\n",
    "m commit    Commits all moves made.\n",
    "s           Displays the overall game state.\n",
    "s ?         Shows help on game state queries.\n",
    "c ?         Shows help on card information queries.\n",
    "\n",
    "new         Start a new game.\n",
    "quit        Exit the game.\n",
    "\"\"\"\n",
    "\n",
    "    @staticmethod\n",
    "    def run():\n",
    "    \n",
    "        while True:\n",
    "            # get user input\n",
    "            user_choice = input(\"> \").split(\" \", 1)\n",
    "            \n",
    "            if len(user_choice) == 1: user_choice.append(\"\")\n",
    "            \n",
    "            # parse the input\n",
    "            if len(user_choice) == 0 or user_choice[0] == \"?\":\n",
    "                print(UI.help)\n",
    "                \n",
    "            elif user_choice[0] == \"quit\" or user_choice[0] == \"exit\":\n",
    "                break;\n",
    "                \n",
    "            elif user_choice[0] == \"new\":\n",
    "                print(\"Uninplemented\")\n",
    "            \n",
    "            elif user_choice[0] == \"c\":\n",
    "                UI.parse_card(user_choice[1])\n",
    "            \n",
    "            elif user_choice[0] == \"s\":\n",
    "                UI.parse_state(user_choice[1])\n",
    "            \n",
    "            elif user_choice[0] == \"m\":\n",
    "                UI.parse_move(user_choice[1])\n",
    "                \n",
    "            else:\n",
    "                print(\"Invalid command. Enter ? for help.\")\n",
    "\n",
    "    @staticmethod\n",
    "    def parse_move(comd):\n",
    "        \n",
    "        if comd == \"\":\n",
    "            print(\"Listing all moves.\")\n",
    "            print(\"Unimplemented\")\n",
    "            # Here you want to call some function to get all possible moves.\n",
    "            # Each move should be deterministically assigned an ID (so it \n",
    "            # can be referenced later).\n",
    "        elif comd == \"commit\":\n",
    "            print(\"Game state advancing.\")\n",
    "            # this is where you tell the game engine to lock in the currently\n",
    "            # selected move.\n",
    "            print(\"Unimplemented\")\n",
    "        else:\n",
    "            print(\"Making move ID %s\" % comd)\n",
    "            # check moves to find the corresponding ID. If it's not found print\n",
    "            # an error message.\n",
    "            # Then, tell the game engine to make a temp move.\n",
    "            # or for now, we can just actually make the move with no takeback\n",
    "            # which means the commit command won't do anything.\n",
    "            print(\"Unimplemented\")\n",
    "                     \n",
    "    help_card = \"\"\"\n",
    "c           Display a list of cards in the current player's hand.\n",
    "c <ID#>     Display information about the card with the given ID number.\n",
    "c dis       Display a list of cards in the discard pile\n",
    "c rem       Display a list of removed cards.\n",
    "c dec       Returns the number of cards in the draw deck.\n",
    "\"\"\"\n",
    "    @staticmethod\n",
    "    def parse_card(comd):\n",
    "    \n",
    "        if comd == \"\":\n",
    "            print(\"Listing cards in hand.\")\n",
    "            print(\"Unimplemented\")\n",
    "        elif comd == \"?\":\n",
    "            print(UI.help_card)\n",
    "        elif comd == \"opp\":\n",
    "            print(\"Cards in opponent's hand: %d\" % 1) # TODO make it based on state\n",
    "            print(\"Unimplemented\")\n",
    "        elif comd == \"dis\":\n",
    "            print(\"Listing %d discarded cards.\" % len(discard_pile))\n",
    "            for c in discard_pile:\n",
    "                print(c)\n",
    "        elif comd == \"rem\":\n",
    "            print(\"Listing %d removed cards.\"  % len(removed_pile))\n",
    "            for c in removed_pile:\n",
    "                print(c)\n",
    "        elif comd == \"dec\":\n",
    "            print(\"Cards in draw pile: %d.\" % len(draw_pile))\n",
    "        else:\n",
    "            print(\"Invalid command. Enter ? for help.\")\n",
    "    \n",
    "    \n",
    "    help_state = \"\"\"\n",
    "s <eu|as|me|af|na|sa>   Displays the scoring state and country data for the given region.\n",
    "\"\"\"\n",
    "    @staticmethod\n",
    "    def parse_state(comd):\n",
    "        if comd == \"\":\n",
    "            print(\"=== Game state ===\")\n",
    "            print(\"VP status: %d\" % Game.main.vp_track)\n",
    "            print(\"Unimplemented\")\n",
    "        elif comd == \"?\":\n",
    "            print(UI.help_state)\n",
    "        else:\n",
    "            # remember to check if comd is a valid ID\n",
    "            print(\"State of %s:\" % comd)\n",
    "            print(\"Unimplemented\")\n"
   ]
  },
  {
   "cell_type": "markdown",
   "metadata": {},
   "source": [
    "### Create space race track\n",
    "1. Create the buffs\n",
    "2. Need to add the additional functionality gained with being faster on the space race."
   ]
  },
  {
   "cell_type": "markdown",
   "metadata": {},
   "source": [
    "### Scoring Cards"
   ]
  },
  {
   "cell_type": "code",
   "execution_count": 3,
   "metadata": {
    "ExecuteTime": {
     "end_time": "2020-02-06T09:43:44.090226Z",
     "start_time": "2020-02-06T09:43:42.979010Z"
    },
    "scrolled": true
   },
   "outputs": [
    {
     "name": "stdout",
     "output_type": "stream",
     "text": [
      "> exit\n"
     ]
    }
   ],
   "source": [
    "# this is a temporary measure. It should go into UI.new()\n",
    "g = Game()\n",
    "g.start()\n",
    "Asia_Scoring.use_for_event()\n",
    "Europe_Scoring.use_for_event()\n",
    "Game.main.vp_track\n",
    "UI.run()"
   ]
  }
 ],
 "metadata": {
  "kernelspec": {
   "display_name": "Python 3",
   "language": "python",
   "name": "python3"
  },
  "language_info": {
   "codemirror_mode": {
    "name": "ipython",
    "version": 3
   },
   "file_extension": ".py",
   "mimetype": "text/x-python",
   "name": "python",
   "nbconvert_exporter": "python",
   "pygments_lexer": "ipython3",
   "version": "3.6.9"
  }
 },
 "nbformat": 4,
 "nbformat_minor": 2
}
