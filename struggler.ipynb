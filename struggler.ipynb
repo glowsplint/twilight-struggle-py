{
 "cells": [
  {
   "cell_type": "markdown",
   "metadata": {},
   "source": [
    "### Twilight Struggle"
   ]
  },
  {
   "cell_type": "code",
   "execution_count": 1,
   "metadata": {
    "ExecuteTime": {
     "end_time": "2020-02-09T07:00:59.910737Z",
     "start_time": "2020-02-09T07:00:59.780708Z"
    }
   },
   "outputs": [],
   "source": [
    "import numpy as np\n",
    "import random\n",
    "\n",
    "from twilight_map import *\n",
    "from game_mechanics import *\n",
    "from twilight_cards import *"
   ]
  },
  {
   "cell_type": "markdown",
   "metadata": {},
   "source": [
    "### Game Instance"
   ]
  },
  {
   "cell_type": "code",
   "execution_count": 2,
   "metadata": {
    "ExecuteTime": {
     "end_time": "2020-02-09T07:01:00.860533Z",
     "start_time": "2020-02-09T07:00:59.913704Z"
    },
    "scrolled": false
   },
   "outputs": [
    {
     "name": "stdout",
     "output_type": "stream",
     "text": [
      "Initalising game..\n",
      "\n",
      "----- USSR Player: -----\n",
      "You may modify 6 influence in these countries. Type in their country indices, separated by commas (no spaces).\n",
      "Hungary, 19\n",
      "Austria, 14\n",
      "Romania, 21\n",
      "Yugoslavia, 20\n",
      "Czechoslovakia, 18\n",
      "East_Germany, 16\n",
      "Poland, 17\n",
      "Finland, 7\n",
      "Bulgaria, 22\n",
      "> q\n",
      "\n",
      "----- US Player: -----\n",
      "You may modify 7 influence in these countries. Type in their country indices, separated by commas (no spaces).\n",
      "Denmark, 8\n",
      "Austria, 14\n",
      "Italy, 12\n",
      "Greece, 13\n",
      "Sweden, 6\n",
      "Norway, 5\n",
      "France, 10\n",
      "West_Germany, 15\n",
      "Turkey, 23\n",
      "Benelux, 9\n",
      "Spain_Portugal, 11\n",
      "Canada, 3\n",
      "UK, 4\n",
      "Finland, 7\n",
      "> q\n",
      "\n",
      "----- US Player: -----\n",
      "You may modify 2 influence in these countries. Type in their country indices, separated by commas (no spaces).\n",
      "US, 2\n",
      "Canada, 3\n",
      "UK, 4\n",
      "Israel, 26\n",
      "Iran, 30\n",
      "Australia, 42\n",
      "Philippines, 44\n",
      "Japan, 45\n",
      "South_Korea, 47\n",
      "South_Africa, 59\n",
      "Panama, 72\n",
      "> q\n",
      "USSR Victory!\n",
      "Final scoring complete.\n",
      "USSR Victory!\n",
      "Final scoring complete.\n",
      "USSR Victory!\n",
      "Final scoring complete.\n",
      "USSR Victory!\n",
      "Final scoring complete.\n",
      "USSR Victory!\n",
      "Final scoring complete.\n",
      "USSR Victory!\n",
      "Final scoring complete.\n",
      "USSR Victory!\n",
      "Final scoring complete.\n",
      "End of game.\n"
     ]
    }
   ],
   "source": [
    "# this is a temporary measure. It should go into UI.new()\n",
    "g = Game()\n",
    "g.ui.run()"
   ]
  },
  {
   "cell_type": "code",
   "execution_count": 3,
   "metadata": {
    "ExecuteTime": {
     "end_time": "2020-02-09T07:01:00.867534Z",
     "start_time": "2020-02-09T07:01:00.863532Z"
    }
   },
   "outputs": [],
   "source": [
    "g.defcon_track = 3"
   ]
  },
  {
   "cell_type": "code",
   "execution_count": 4,
   "metadata": {
    "ExecuteTime": {
     "end_time": "2020-02-09T07:01:09.149831Z",
     "start_time": "2020-02-09T07:01:00.870534Z"
    }
   },
   "outputs": [
    {
     "name": "stdout",
     "output_type": "stream",
     "text": [
      "\n",
      "----- US Player: -----\n",
      "You may attempt realignment in these countries. Type in the target country index.\n",
      "Syria, 28\n",
      "Iraq, 29\n",
      "> 28\n",
      "US rolled: 6, USSR rolled: 1, Modifer = -1, Difference = 4\n",
      "\n",
      "----- US Player: -----\n",
      "You may attempt realignment in these countries. Type in the target country index.\n",
      "Iraq, 29\n",
      "> 29\n",
      "US rolled: 4, USSR rolled: 4, Modifer = -1, Difference = -1\n",
      "\n",
      "----- US Player: -----\n",
      "You may attempt realignment in these countries. Type in the target country index.\n",
      "Iraq, 29\n",
      "> 29\n",
      "US rolled: 4, USSR rolled: 1, Modifer = -1, Difference = 2\n",
      "\n",
      "----- US Player: -----\n",
      "You may attempt realignment in these countries. Type in the target country index.\n",
      "> q\n"
     ]
    }
   ],
   "source": [
    "g.card_operation_realignment(Side.US, 4)"
   ]
  }
 ],
 "metadata": {
  "kernelspec": {
   "display_name": "Python 3",
   "language": "python",
   "name": "python3"
  },
  "language_info": {
   "codemirror_mode": {
    "name": "ipython",
    "version": 3
   },
   "file_extension": ".py",
   "mimetype": "text/x-python",
   "name": "python",
   "nbconvert_exporter": "python",
   "pygments_lexer": "ipython3",
   "version": "3.8.1"
  }
 },
 "nbformat": 4,
 "nbformat_minor": 2
}
