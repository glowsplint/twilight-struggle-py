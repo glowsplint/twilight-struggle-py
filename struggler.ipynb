{
 "cells": [
  {
   "cell_type": "markdown",
   "metadata": {},
   "source": [
    "### Twilight Struggle"
   ]
  },
  {
   "cell_type": "code",
   "execution_count": 1,
   "metadata": {
    "ExecuteTime": {
     "end_time": "2020-02-09T05:54:13.110886Z",
     "start_time": "2020-02-09T05:54:12.951612Z"
    }
   },
   "outputs": [],
   "source": [
    "import numpy as np\n",
    "import random\n",
    "\n",
    "from twilight_map import *\n",
    "from game_mechanics import *\n",
    "from twilight_cards import *"
   ]
  },
  {
   "cell_type": "markdown",
   "metadata": {},
   "source": [
    "### Game Instance"
   ]
  },
  {
   "cell_type": "code",
   "execution_count": 2,
   "metadata": {
    "ExecuteTime": {
     "end_time": "2020-02-09T05:54:17.352976Z",
     "start_time": "2020-02-09T05:54:13.112606Z"
    },
    "scrolled": false
   },
   "outputs": [
    {
     "name": "stdout",
     "output_type": "stream",
     "text": [
      "Initalising game..\n",
      "\n",
      "----- USSR Player: -----\n",
      "You may modify 6 influence in these countries. Type in their country indices, separated by commas (no spaces).\n",
      "Poland, 17\n",
      "Finland, 7\n",
      "East_Germany, 16\n",
      "Romania, 21\n",
      "Yugoslavia, 20\n",
      "Austria, 14\n",
      "Czechoslovakia, 18\n",
      "Bulgaria, 22\n",
      "Hungary, 19\n",
      "> q\n",
      "\n",
      "----- US Player: -----\n",
      "You may modify 7 influence in these countries. Type in their country indices, separated by commas (no spaces).\n",
      "France, 10\n",
      "Italy, 12\n",
      "Finland, 7\n",
      "UK, 4\n",
      "West_Germany, 15\n",
      "Benelux, 9\n",
      "Austria, 14\n",
      "Denmark, 8\n",
      "Greece, 13\n",
      "Spain_Portugal, 11\n",
      "Canada, 3\n",
      "Sweden, 6\n",
      "Turkey, 23\n",
      "Norway, 5\n",
      "> q\n",
      "\n",
      "----- US Player: -----\n",
      "You may modify 2 influence in these countries. Type in their country indices, separated by commas (no spaces).\n",
      "US, 2\n",
      "Canada, 3\n",
      "UK, 4\n",
      "Israel, 26\n",
      "Iran, 30\n",
      "Australia, 42\n",
      "Philippines, 44\n",
      "Japan, 45\n",
      "South_Korea, 47\n",
      "South_Africa, 59\n",
      "Panama, 72\n",
      "> q\n",
      "US Victory!\n",
      "Final scoring complete.\n",
      "US Victory!\n",
      "Final scoring complete.\n",
      "US Victory!\n",
      "Final scoring complete.\n",
      "US Victory!\n",
      "Final scoring complete.\n",
      "US Victory!\n",
      "Final scoring complete.\n",
      "US Victory!\n",
      "Final scoring complete.\n",
      "US Victory!\n",
      "Final scoring complete.\n",
      "End of game.\n"
     ]
    }
   ],
   "source": [
    "# this is a temporary measure. It should go into UI.new()\n",
    "g = Game()\n",
    "g.ui.run()"
   ]
  },
  {
   "cell_type": "code",
   "execution_count": 3,
   "metadata": {
    "ExecuteTime": {
     "end_time": "2020-02-09T05:54:27.407332Z",
     "start_time": "2020-02-09T05:54:17.357974Z"
    }
   },
   "outputs": [
    {
     "name": "stdout",
     "output_type": "stream",
     "text": [
      "\n",
      "----- USSR Player: -----\n",
      "You may modify 7 influence in these countries. Type in their country indices, separated by commas (no spaces).\n",
      "Sweden, 6\n",
      "Finland, 7\n",
      "Austria, 14\n",
      "West_Germany, 15\n",
      "East_Germany, 16\n",
      "Poland, 17\n",
      "Czechoslovakia, 18\n",
      "Romania, 21\n",
      "Turkey, 23\n",
      "Israel, 26\n",
      "Lebanon, 27\n",
      "Syria, 28\n",
      "Iraq, 29\n",
      "Iran, 30\n",
      "Jordan, 31\n",
      "Gulf_States, 32\n",
      "Saudi_Arabia, 33\n",
      "Afghanistan, 34\n",
      "South_Korea, 47\n",
      "North_Korea, 48\n",
      "Chinese_Civil_War, 87\n",
      "> q\n"
     ]
    }
   ],
   "source": [
    "g.card_operation_add_influence(Side.USSR, 7)"
   ]
  }
 ],
 "metadata": {
  "kernelspec": {
   "display_name": "Python 3",
   "language": "python",
   "name": "python3"
  },
  "language_info": {
   "codemirror_mode": {
    "name": "ipython",
    "version": 3
   },
   "file_extension": ".py",
   "mimetype": "text/x-python",
   "name": "python",
   "nbconvert_exporter": "python",
   "pygments_lexer": "ipython3",
   "version": "3.8.1"
  }
 },
 "nbformat": 4,
 "nbformat_minor": 2
}
