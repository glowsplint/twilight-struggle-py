{
 "cells": [
  {
   "cell_type": "markdown",
   "metadata": {},
   "source": [
    "### Twilight Struggle"
   ]
  },
  {
   "cell_type": "code",
   "execution_count": 1,
   "metadata": {
    "ExecuteTime": {
     "end_time": "2020-02-13T04:20:17.882720Z",
     "start_time": "2020-02-13T04:20:17.725631Z"
    }
   },
   "outputs": [],
   "source": [
    "import numpy as np\n",
    "import random\n",
    "\n",
    "from twilight_map import *\n",
    "from game_mechanics import *\n",
    "from twilight_cards import *"
   ]
  },
  {
   "cell_type": "markdown",
   "metadata": {},
   "source": [
    "### Game Instance"
   ]
  },
  {
   "cell_type": "code",
   "execution_count": 2,
   "metadata": {
    "ExecuteTime": {
     "end_time": "2020-02-13T04:20:51.562935Z",
     "start_time": "2020-02-13T04:20:17.884629Z"
    },
    "scrolled": false
   },
   "outputs": [
    {
     "name": "stdout",
     "output_type": "stream",
     "text": [
      "> q\n",
      "\n",
      "----- US Player: -----\n",
      "You may add 7 influence in these countries. Type in their country indices, separated by commas (no spaces).\n",
      "14\tAustria\n",
      "4\tUK\n",
      "8\tDenmark\n",
      "11\tSpain_Portugal\n",
      "13\tGreece\n",
      "12\tItaly\n",
      "3\tCanada\n",
      "10\tFrance\n",
      "6\tSweden\n",
      "9\tBenelux\n",
      "15\tWest_Germany\n",
      "5\tNorway\n",
      "7\tFinland\n",
      "23\tTurkey\n",
      "> 14,4,8,11,13,12,3\n",
      "\n",
      "----- US Player: -----\n",
      "You may add 2 influence in these countries. Type in their country indices, separated by commas (no spaces).\n",
      "3\tCanada\n",
      "4\tUK\n",
      "8\tDenmark\n",
      "11\tSpain_Portugal\n",
      "12\tItaly\n",
      "13\tGreece\n",
      "14\tAustria\n",
      "26\tIsrael\n",
      "30\tIran\n",
      "42\tAustralia\n",
      "44\tPhilippines\n",
      "45\tJapan\n",
      "47\tSouth_Korea\n",
      "59\tSouth_Africa\n",
      "72\tPanama\n",
      "> q\n",
      "\n",
      "----- USSR Player: -----\n",
      "You may headline any of these cards. Type in the card index.\n",
      "1\tAsia_Scoring\n",
      "3\tMiddle_East_Scoring\n",
      "5\tFive_Year_Plan - 3\n",
      "7\tSocialist_Governments - 3\n",
      "9\tVietnam_Revolts - 2\n",
      "11\tKorean_War - 2\n",
      "13\tArab_Israeli_War - 2\n",
      "15\tNasser - 1\n",
      "17\tDe_Gaulle_Leads_France - 3\n",
      "19\tTruman_Doctrine - 1\n",
      "21\tNATO - 4\n",
      "23\tMarshall_Plan - 4\n",
      "25\tContainment - 3\n",
      "27\tUS_Japan_Mutual_Defense_Pact - 4\n",
      "29\tEast_European_Unrest - 3\n",
      "31\tRed_Scare_Purge - 4\n",
      "33\tDe_Stalinization - 3\n",
      "35\tFormosan_Resolution - 2\n",
      "> 23\n",
      "\n",
      "----- US Player: -----\n",
      "You may headline any of these cards. Type in the card index.\n",
      "2\tEurope_Scoring\n",
      "4\tDuck_and_Cover - 3\n",
      "8\tFidel - 2\n",
      "10\tBlockade - 1\n",
      "12\tRomanian_Abdication - 1\n",
      "14\tCOMECON - 3\n",
      "16\tWarsaw_Pact_Formed - 3\n",
      "18\tCaptured_Nazi_Scientist - 1\n",
      "20\tOlympic_Games - 2\n",
      "22\tIndependent_Reds - 2\n",
      "24\tIndo_Pakistani_War - 2\n",
      "26\tCIA_Created - 1\n",
      "28\tSuez_Crisis - 3\n",
      "30\tDecolonization - 2\n",
      "34\tNuclear_Test_Ban - 4\n",
      "103\tDefectors - 2\n",
      "> 2\n",
      "\n",
      "USSR selected Marshall_Plan for headline.\n",
      "\n",
      "----- US Player: -----\n",
      "You may add 7 influence in these countries. Type in their country indices, separated by commas (no spaces).\n",
      "You are limited to modifying 1 influence per country.\n",
      "14\tAustria\n",
      "4\tUK\n",
      "8\tDenmark\n",
      "11\tSpain_Portugal\n",
      "13\tGreece\n",
      "12\tItaly\n",
      "3\tCanada\n",
      "10\tFrance\n",
      "6\tSweden\n",
      "9\tBenelux\n",
      "15\tWest_Germany\n",
      "5\tNorway\n",
      "7\tFinland\n",
      "23\tTurkey\n",
      "> 14,4,8,11,13,12,3\n"
     ]
    },
    {
     "ename": "IndexError",
     "evalue": "list index out of range",
     "output_type": "error",
     "traceback": [
      "\u001b[1;31m---------------------------------------------------------------------------\u001b[0m",
      "\u001b[1;31mIndexError\u001b[0m                                Traceback (most recent call last)",
      "\u001b[1;32m<ipython-input-2-d38edd9e4db1>\u001b[0m in \u001b[0;36m<module>\u001b[1;34m\u001b[0m\n\u001b[0;32m      1\u001b[0m \u001b[1;31m# this is a temporary measure. It should go into UI.new()\u001b[0m\u001b[1;33m\u001b[0m\u001b[1;33m\u001b[0m\u001b[1;33m\u001b[0m\u001b[0m\n\u001b[0;32m      2\u001b[0m \u001b[0mg\u001b[0m \u001b[1;33m=\u001b[0m \u001b[0mGame\u001b[0m\u001b[1;33m(\u001b[0m\u001b[1;33m)\u001b[0m\u001b[1;33m\u001b[0m\u001b[1;33m\u001b[0m\u001b[0m\n\u001b[1;32m----> 3\u001b[1;33m \u001b[0mg\u001b[0m\u001b[1;33m.\u001b[0m\u001b[0mui\u001b[0m\u001b[1;33m.\u001b[0m\u001b[0mrun\u001b[0m\u001b[1;33m(\u001b[0m\u001b[1;33m)\u001b[0m\u001b[1;33m\u001b[0m\u001b[1;33m\u001b[0m\u001b[0m\n\u001b[0m",
      "\u001b[1;32mD:\\Coding\\Twilight Struggle\\twilight_ui.py\u001b[0m in \u001b[0;36mrun\u001b[1;34m(self)\u001b[0m\n\u001b[0;32m     52\u001b[0m \u001b[1;33m\u001b[0m\u001b[0m\n\u001b[0;32m     53\u001b[0m             \u001b[1;32mif\u001b[0m \u001b[0mlen\u001b[0m\u001b[1;33m(\u001b[0m\u001b[0mself\u001b[0m\u001b[1;33m.\u001b[0m\u001b[0mgame\u001b[0m\u001b[1;33m.\u001b[0m\u001b[0mstage_list\u001b[0m\u001b[1;33m)\u001b[0m \u001b[1;33m>\u001b[0m \u001b[1;36m0\u001b[0m\u001b[1;33m:\u001b[0m\u001b[1;33m\u001b[0m\u001b[1;33m\u001b[0m\u001b[0m\n\u001b[1;32m---> 54\u001b[1;33m                 \u001b[1;32mif\u001b[0m \u001b[0mself\u001b[0m\u001b[1;33m.\u001b[0m\u001b[0mgame\u001b[0m\u001b[1;33m.\u001b[0m\u001b[0mstage_list\u001b[0m\u001b[1;33m[\u001b[0m\u001b[1;33m-\u001b[0m\u001b[1;36m1\u001b[0m\u001b[1;33m]\u001b[0m\u001b[1;33m(\u001b[0m\u001b[1;33m)\u001b[0m \u001b[1;33m==\u001b[0m \u001b[1;32mNone\u001b[0m\u001b[1;33m:\u001b[0m\u001b[1;33m\u001b[0m\u001b[1;33m\u001b[0m\u001b[0m\n\u001b[0m\u001b[0;32m     55\u001b[0m                     \u001b[0mself\u001b[0m\u001b[1;33m.\u001b[0m\u001b[0mgame\u001b[0m\u001b[1;33m.\u001b[0m\u001b[0mstage_list\u001b[0m\u001b[1;33m.\u001b[0m\u001b[0mpop\u001b[0m\u001b[1;33m(\u001b[0m\u001b[1;33m)\u001b[0m\u001b[1;33m\u001b[0m\u001b[1;33m\u001b[0m\u001b[0m\n\u001b[0;32m     56\u001b[0m                     \u001b[1;32mcontinue\u001b[0m\u001b[1;33m\u001b[0m\u001b[1;33m\u001b[0m\u001b[0m\n",
      "\u001b[1;32mD:\\Coding\\Twilight Struggle\\game_mechanics.py\u001b[0m in \u001b[0;36mjoint_choose_headline\u001b[1;34m(self)\u001b[0m\n\u001b[0;32m    194\u001b[0m         \u001b[0mself\u001b[0m\u001b[1;33m.\u001b[0m\u001b[0mchoose_headline\u001b[0m\u001b[1;33m(\u001b[0m\u001b[0mSide\u001b[0m\u001b[1;33m.\u001b[0m\u001b[0mUSSR\u001b[0m\u001b[1;33m)\u001b[0m\u001b[1;33m\u001b[0m\u001b[1;33m\u001b[0m\u001b[0m\n\u001b[0;32m    195\u001b[0m         \u001b[0mself\u001b[0m\u001b[1;33m.\u001b[0m\u001b[0mchoose_headline\u001b[0m\u001b[1;33m(\u001b[0m\u001b[0mSide\u001b[0m\u001b[1;33m.\u001b[0m\u001b[0mUS\u001b[0m\u001b[1;33m)\u001b[0m\u001b[1;33m\u001b[0m\u001b[1;33m\u001b[0m\u001b[0m\n\u001b[1;32m--> 196\u001b[1;33m         \u001b[0mself\u001b[0m\u001b[1;33m.\u001b[0m\u001b[0mresolve_headline\u001b[0m\u001b[1;33m(\u001b[0m\u001b[0mtype\u001b[0m\u001b[1;33m=\u001b[0m\u001b[0mSide\u001b[0m\u001b[1;33m.\u001b[0m\u001b[0mNEUTRAL\u001b[0m\u001b[1;33m)\u001b[0m\u001b[1;33m\u001b[0m\u001b[1;33m\u001b[0m\u001b[0m\n\u001b[0m\u001b[0;32m    197\u001b[0m \u001b[1;33m\u001b[0m\u001b[0m\n\u001b[0;32m    198\u001b[0m     \u001b[1;32mdef\u001b[0m \u001b[0mchoose_headline\u001b[0m\u001b[1;33m(\u001b[0m\u001b[0mself\u001b[0m\u001b[1;33m,\u001b[0m \u001b[0mside\u001b[0m\u001b[1;33m:\u001b[0m \u001b[0mSide\u001b[0m\u001b[1;33m)\u001b[0m\u001b[1;33m:\u001b[0m\u001b[1;33m\u001b[0m\u001b[1;33m\u001b[0m\u001b[0m\n",
      "\u001b[1;32mD:\\Coding\\Twilight Struggle\\game_mechanics.py\u001b[0m in \u001b[0;36mresolve_headline\u001b[1;34m(self, type)\u001b[0m\n\u001b[0;32m    248\u001b[0m             \u001b[1;32mif\u001b[0m \u001b[0mself\u001b[0m\u001b[1;33m.\u001b[0m\u001b[0mheadline_bin\u001b[0m\u001b[1;33m[\u001b[0m\u001b[0mSide\u001b[0m\u001b[1;33m.\u001b[0m\u001b[0mUSSR\u001b[0m\u001b[1;33m]\u001b[0m\u001b[1;33m.\u001b[0m\u001b[0minfo\u001b[0m\u001b[1;33m.\u001b[0m\u001b[0mops\u001b[0m \u001b[1;33m>\u001b[0m \u001b[0mself\u001b[0m\u001b[1;33m.\u001b[0m\u001b[0mheadline_bin\u001b[0m\u001b[1;33m[\u001b[0m\u001b[0mSide\u001b[0m\u001b[1;33m.\u001b[0m\u001b[0mUS\u001b[0m\u001b[1;33m]\u001b[0m\u001b[1;33m.\u001b[0m\u001b[0minfo\u001b[0m\u001b[1;33m.\u001b[0m\u001b[0mops\u001b[0m\u001b[1;33m:\u001b[0m\u001b[1;33m\u001b[0m\u001b[1;33m\u001b[0m\u001b[0m\n\u001b[0;32m    249\u001b[0m                 \u001b[0mtrigger\u001b[0m\u001b[1;33m(\u001b[0m\u001b[0mself\u001b[0m\u001b[1;33m,\u001b[0m \u001b[0mSide\u001b[0m\u001b[1;33m.\u001b[0m\u001b[0mUSSR\u001b[0m\u001b[1;33m)\u001b[0m\u001b[1;33m\u001b[0m\u001b[1;33m\u001b[0m\u001b[0m\n\u001b[1;32m--> 250\u001b[1;33m                 \u001b[0mtrigger\u001b[0m\u001b[1;33m(\u001b[0m\u001b[0mself\u001b[0m\u001b[1;33m,\u001b[0m \u001b[0mSide\u001b[0m\u001b[1;33m.\u001b[0m\u001b[0mUS\u001b[0m\u001b[1;33m)\u001b[0m\u001b[1;33m\u001b[0m\u001b[1;33m\u001b[0m\u001b[0m\n\u001b[0m\u001b[0;32m    251\u001b[0m             \u001b[1;32melse\u001b[0m\u001b[1;33m:\u001b[0m\u001b[1;33m\u001b[0m\u001b[1;33m\u001b[0m\u001b[0m\n\u001b[0;32m    252\u001b[0m                 \u001b[0mtrigger\u001b[0m\u001b[1;33m(\u001b[0m\u001b[0mself\u001b[0m\u001b[1;33m,\u001b[0m \u001b[0mSide\u001b[0m\u001b[1;33m.\u001b[0m\u001b[0mUS\u001b[0m\u001b[1;33m)\u001b[0m\u001b[1;33m\u001b[0m\u001b[1;33m\u001b[0m\u001b[0m\n",
      "\u001b[1;32mD:\\Coding\\Twilight Struggle\\game_mechanics.py\u001b[0m in \u001b[0;36mtrigger\u001b[1;34m(self, side)\u001b[0m\n\u001b[0;32m    229\u001b[0m         \u001b[1;32mdef\u001b[0m \u001b[0mtrigger\u001b[0m\u001b[1;33m(\u001b[0m\u001b[0mself\u001b[0m\u001b[1;33m,\u001b[0m \u001b[0mside\u001b[0m\u001b[1;33m:\u001b[0m \u001b[0mSide\u001b[0m\u001b[1;33m)\u001b[0m\u001b[1;33m:\u001b[0m\u001b[1;33m\u001b[0m\u001b[1;33m\u001b[0m\u001b[0m\n\u001b[0;32m    230\u001b[0m             print(\n\u001b[1;32m--> 231\u001b[1;33m                 f'\\n{side.toStr} selected {self.headline_bin[side].info.name} for headline.')\n\u001b[0m\u001b[0;32m    232\u001b[0m             card_treatment = self.trigger_event(side,\n\u001b[0;32m    233\u001b[0m                                                 self.headline_bin[side].info.name)\n",
      "\u001b[1;31mIndexError\u001b[0m: list index out of range"
     ]
    }
   ],
   "source": [
    "# this is a temporary measure. It should go into UI.new()\n",
    "g = Game()\n",
    "g.ui.run()"
   ]
  }
 ],
 "metadata": {
  "kernelspec": {
   "display_name": "Python 3",
   "language": "python",
   "name": "python3"
  },
  "language_info": {
   "codemirror_mode": {
    "name": "ipython",
    "version": 3
   },
   "file_extension": ".py",
   "mimetype": "text/x-python",
   "name": "python",
   "nbconvert_exporter": "python",
   "pygments_lexer": "ipython3",
   "version": "3.8.1"
  }
 },
 "nbformat": 4,
 "nbformat_minor": 2
}
