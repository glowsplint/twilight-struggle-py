{
 "cells": [
  {
   "cell_type": "markdown",
   "metadata": {},
   "source": [
    "### Twilight Struggle"
   ]
  },
  {
   "cell_type": "code",
   "execution_count": 1,
   "metadata": {
    "ExecuteTime": {
     "end_time": "2020-02-10T06:31:48.032263Z",
     "start_time": "2020-02-10T06:31:47.890257Z"
    }
   },
   "outputs": [],
   "source": [
    "import numpy as np\n",
    "import random\n",
    "\n",
    "from twilight_map import *\n",
    "from game_mechanics import *\n",
    "from twilight_cards import *"
   ]
  },
  {
   "cell_type": "markdown",
   "metadata": {},
   "source": [
    "### Game Instance"
   ]
  },
  {
   "cell_type": "code",
   "execution_count": 2,
   "metadata": {
    "ExecuteTime": {
     "end_time": "2020-02-10T06:31:49.003883Z",
     "start_time": "2020-02-10T06:31:48.035256Z"
    },
    "scrolled": false
   },
   "outputs": [
    {
     "name": "stdout",
     "output_type": "stream",
     "text": [
      "Initalising game..\n",
      "\n",
      "----- USSR Player: -----\n",
      "You may modify 6 influence in these countries. Type in their country indices, separated by commas (no spaces).\n",
      "Finland, 7\n",
      "Austria, 14\n",
      "Hungary, 19\n",
      "Czechoslovakia, 18\n",
      "Poland, 17\n",
      "Yugoslavia, 20\n",
      "East_Germany, 16\n",
      "Romania, 21\n",
      "Bulgaria, 22\n",
      "> q\n",
      "\n",
      "----- US Player: -----\n",
      "You may modify 7 influence in these countries. Type in their country indices, separated by commas (no spaces).\n",
      "Finland, 7\n",
      "Denmark, 8\n",
      "UK, 4\n",
      "Austria, 14\n",
      "West_Germany, 15\n",
      "Benelux, 9\n",
      "Italy, 12\n",
      "France, 10\n",
      "Sweden, 6\n",
      "Norway, 5\n",
      "Turkey, 23\n",
      "Spain_Portugal, 11\n",
      "Canada, 3\n",
      "Greece, 13\n",
      "> q\n",
      "\n",
      "----- US Player: -----\n",
      "You may modify 2 influence in these countries. Type in their country indices, separated by commas (no spaces).\n",
      "Canada, 3\n",
      "UK, 4\n",
      "Israel, 26\n",
      "Iran, 30\n",
      "Australia, 42\n",
      "Philippines, 44\n",
      "Japan, 45\n",
      "South_Korea, 47\n",
      "South_Africa, 59\n",
      "Panama, 72\n",
      "> q\n",
      "US Victory!\n",
      "Final scoring complete.\n",
      "US Victory!\n",
      "Final scoring complete.\n",
      "US Victory!\n",
      "Final scoring complete.\n",
      "US Victory!\n",
      "Final scoring complete.\n",
      "US Victory!\n",
      "Final scoring complete.\n",
      "US Victory!\n",
      "Final scoring complete.\n",
      "US Victory!\n",
      "Final scoring complete.\n",
      "End of game.\n"
     ]
    }
   ],
   "source": [
    "# this is a temporary measure. It should go into UI.new()\n",
    "g = Game()\n",
    "g.ui.run()"
   ]
  },
  {
   "cell_type": "code",
   "execution_count": 3,
   "metadata": {
    "ExecuteTime": {
     "end_time": "2020-02-10T06:31:49.010882Z",
     "start_time": "2020-02-10T06:31:49.006882Z"
    }
   },
   "outputs": [],
   "source": [
    "g._NATO()"
   ]
  },
  {
   "cell_type": "code",
   "execution_count": 4,
   "metadata": {
    "ExecuteTime": {
     "end_time": "2020-02-10T06:31:49.034883Z",
     "start_time": "2020-02-10T06:31:49.013882Z"
    }
   },
   "outputs": [
    {
     "data": {
      "text/plain": [
       "True"
      ]
     },
     "execution_count": 4,
     "metadata": {},
     "output_type": "execute_result"
    }
   ],
   "source": [
    "g.nato_in_play"
   ]
  }
 ],
 "metadata": {
  "kernelspec": {
   "display_name": "Python 3",
   "language": "python",
   "name": "python3"
  },
  "language_info": {
   "codemirror_mode": {
    "name": "ipython",
    "version": 3
   },
   "file_extension": ".py",
   "mimetype": "text/x-python",
   "name": "python",
   "nbconvert_exporter": "python",
   "pygments_lexer": "ipython3",
   "version": "3.8.1"
  }
 },
 "nbformat": 4,
 "nbformat_minor": 2
}
