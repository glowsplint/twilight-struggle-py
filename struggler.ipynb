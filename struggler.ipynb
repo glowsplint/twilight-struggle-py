{
 "cells": [
  {
   "cell_type": "markdown",
   "metadata": {},
   "source": [
    "### Twilight Struggle"
   ]
  },
  {
   "cell_type": "code",
   "execution_count": 1,
   "metadata": {},
   "outputs": [],
   "source": [
    "from twilight_ui import *"
   ]
  },
  {
   "cell_type": "markdown",
   "metadata": {},
   "source": [
    "### Game Instance"
   ]
  },
  {
   "cell_type": "code",
   "execution_count": 2,
   "metadata": {},
   "outputs": [
    {
     "name": "stdout",
     "output_type": "stream",
     "text": "Initalising game..\nInvalid command. Enter ? for help.\nInvalid command. Enter ? for help.\nInvalid command. Enter ? for help.\nInvalid command. Enter ? for help.\n\nThe following commands are available:\n?           Displays this help text.\nm           Lists all possible moves, along with their respective IDs.\nm <ID>      Makes a move.\nm commit    Commits all moves made.\ns           Displays the overall game state.\ns ?         Shows help on game state queries.\nc ?         Shows help on card information queries.\n\nnew         Start a new game.\nquit        Exit the game.\n\n"
    }
   ],
   "source": [
    "u = UI()\n",
    "u.run()"
   ]
  }
 ],
 "metadata": {
  "kernelspec": {
   "display_name": "Python 3",
   "language": "python",
   "name": "python3"
  },
  "language_info": {
   "codemirror_mode": {
    "name": "ipython",
    "version": 3
   },
   "file_extension": ".py",
   "mimetype": "text/x-python",
   "name": "python",
   "nbconvert_exporter": "python",
   "pygments_lexer": "ipython3",
   "version": "3.8.1-final"
  }
 },
 "nbformat": 4,
 "nbformat_minor": 2
}